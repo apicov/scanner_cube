{
 "cells": [
  {
   "cell_type": "code",
   "execution_count": 1,
   "metadata": {},
   "outputs": [
    {
     "name": "stdout",
     "output_type": "stream",
     "text": [
      "GPUs:  1\n"
     ]
    }
   ],
   "source": [
    "%reload_ext tensorboard\n",
    "import numpy as np\n",
    "import json\n",
    "import tensorflow as tf\n",
    "import os\n",
    "\n",
    "import time\n",
    "%matplotlib inline\n",
    "import matplotlib\n",
    "import matplotlib.pyplot as plt\n",
    "import gym\n",
    "\n",
    "import tensorflow as tf\n",
    "\n",
    "gpus = tf.config.experimental.list_physical_devices('GPU')\n",
    "#tf.config.experimental.set_memory_growth(gpus[0], True)\n",
    "if gpus:\n",
    "  try:\n",
    "    tf.config.experimental.set_virtual_device_configuration(gpus[0], \n",
    "    [tf.config.experimental.VirtualDeviceConfiguration(memory_limit=9000)])\n",
    "  except RuntimeError as e:\n",
    "    print(e)\n",
    "    \n",
    "    \n",
    "print(\"GPUs: \", len(tf.config.experimental.list_physical_devices('GPU')))\n",
    "tf.config.experimental.list_logical_devices('GPU')\n",
    "\n",
    "import tf_agents\n",
    "from tf_agents.networks import categorical_q_network\n",
    "from tf_agents.agents.categorical_dqn import categorical_dqn_agent\n",
    "from tf_agents.environments import py_environment, parallel_py_environment, batched_py_environment\n",
    "from tf_agents.environments import tf_environment\n",
    "from tf_agents.environments import tf_py_environment\n",
    "from tf_agents.environments import utils\n",
    "from tf_agents.specs import array_spec\n",
    "from tf_agents.environments import wrappers\n",
    "from tf_agents.environments import suite_gym\n",
    "from tf_agents.trajectories import time_step as ts\n",
    "from tf_agents.networks.q_network import QNetwork\n",
    "from tf_agents.agents.dqn.dqn_agent import DqnAgent\n",
    "from tf_agents.replay_buffers import tf_uniform_replay_buffer\n",
    "from tf_agents.metrics import tf_metrics\n",
    "from tf_agents.drivers.dynamic_step_driver import DynamicStepDriver\n",
    "from tf_agents.policies.random_tf_policy import RandomTFPolicy\n",
    "from tf_agents.utils.common import function, element_wise_squared_loss\n",
    "from tf_agents.eval.metric_utils import log_metrics\n",
    "from tf_agents.policies import policy_saver\n",
    "import logging\n",
    "\n",
    "import tensorflow.keras as keras\n",
    "\n",
    "tf.compat.v1.enable_v2_behavior()\n",
    "import time\n",
    "import json\n",
    "import datetime\n",
    "import copy\n",
    "import shutil\n",
    "\n",
    "#import imp\n",
    "from scan_gym import envs\n",
    "#imp.reload(envs)\n",
    "import csv\n",
    "\n",
    "seed=42\n",
    "tf.random.set_seed(seed)\n",
    "np.random.seed(seed)"
   ]
  },
  {
   "cell_type": "code",
   "execution_count": 2,
   "metadata": {},
   "outputs": [],
   "source": [
    "current_path = os.getcwd()\n",
    "params_file = os.path.join(current_path, 'params.json') \n",
    "pm=json.load(open(params_file))\n",
    "run_label = datetime.datetime.now().strftime(\"%Y%m%d-%H%M%S\")\n",
    "data_log_path = os.path.join(current_path, 'generated_data/') "
   ]
  },
  {
   "cell_type": "code",
   "execution_count": 3,
   "metadata": {},
   "outputs": [
    {
     "name": "stderr",
     "output_type": "stream",
     "text": [
      "WARNING - 2021-10-05 21:40:39,644 - tf_py_environment - Wrapped environment is executing in parallel.  Perhaps it is a BatchedPyEnvironment with multithreading=True, or it is a ParallelPyEnvironment.  This conflicts with the `isolation` arg passed to TFPyEnvironment: interactions with the wrapped environment are no longer guaranteed to happen in a common thread.  Environment: (<tf_agents.environments.batched_py_environment.BatchedPyEnvironment object at 0x7f32410c8fa0>,)\n"
     ]
    }
   ],
   "source": [
    "data_paths = ['/home/pico/uni/romi/scanner_cube/arabidopsis_im_bigger/204',\n",
    "              '/home/pico/uni/romi/scanner_cube/arabidopsis_im_bigger/204',\n",
    "             '/home/pico/uni/romi/scanner_cube/arabidopsis_im_bigger/202',\n",
    "             '/home/pico/uni/romi/scanner_cube/arabidopsis_im_bigger/202']\n",
    "\n",
    "#data_paths = ['','','','']\n",
    "\n",
    "envs = [suite_gym.load('ScannerEnv-v1',gym_kwargs={'dataset_path':dp}) \n",
    "        for dp in data_paths]\n",
    "\n",
    "tf_env = tf_py_environment.TFPyEnvironment( batched_py_environment.BatchedPyEnvironment(envs,multithreading=True), isolation=True  )"
   ]
  },
  {
   "cell_type": "raw",
   "metadata": {},
   "source": [
    "env_name = 'ScannerEnv-v0'\n",
    "if env_name in gym.envs.registry.env_specs:\n",
    "    print('s')\n",
    "    del gym.envs.registry.env_specs[env_name]"
   ]
  },
  {
   "cell_type": "code",
   "execution_count": 4,
   "metadata": {},
   "outputs": [
    {
     "data": {
      "text/plain": [
       "(BoundedTensorSpec(shape=(66, 68, 152), dtype=tf.float16, name='observation/tuple_0', minimum=array(-1., dtype=float16), maximum=array(1., dtype=float16)),\n",
       " BoundedTensorSpec(shape=(10,), dtype=tf.int32, name='observation/tuple_1', minimum=array(-1, dtype=int32), maximum=array(179, dtype=int32)))"
      ]
     },
     "execution_count": 4,
     "metadata": {},
     "output_type": "execute_result"
    }
   ],
   "source": [
    "tf_env.observation_spec()"
   ]
  },
  {
   "cell_type": "code",
   "execution_count": 5,
   "metadata": {},
   "outputs": [
    {
     "data": {
      "text/plain": [
       "BoundedTensorSpec(shape=(), dtype=tf.int64, name='action', minimum=array(0), maximum=array(16))"
      ]
     },
     "execution_count": 5,
     "metadata": {},
     "output_type": "execute_result"
    }
   ],
   "source": [
    "tf_env.action_spec()"
   ]
  },
  {
   "cell_type": "code",
   "execution_count": 6,
   "metadata": {},
   "outputs": [],
   "source": [
    "def volume_layers():\n",
    "    input_vol = keras.layers.Input(shape=(66,68,152))\n",
    "    preprocessing = keras.layers.Reshape((66,68,152,1))(input_vol)\n",
    "    preprocessing = keras.layers.Cropping3D(cropping=((0,2), (0,4), (0,24)))(preprocessing) #output none,64,64,128\n",
    "    preprocessing = keras.layers.Lambda(lambda x: (tf.cast(x,np.float32)+1.) / 2.)(preprocessing) #normalize 0-1\n",
    "    \n",
    "    \n",
    "    x = keras.layers.Conv3D(filters=32, kernel_size=5,strides=2, padding=\"same\", activation=\"relu\")(preprocessing)\n",
    "    #x = keras.layers.MaxPool3D(pool_size=2)(x)\n",
    "    #x = keras.layers.BatchNormalization()(x)\n",
    "    \n",
    "    x = keras.layers.Conv3D(filters=32, kernel_size=3,strides=2, padding=\"same\", activation=\"relu\")(x)\n",
    "    #x = keras.layers.MaxPool3D(pool_size=2)(x)\n",
    "    #x = keras.layers.BatchNormalization()(x)\n",
    "\n",
    "    x = keras.layers.Conv3D(filters=64, kernel_size=3,strides=2,padding=\"same\", activation=\"relu\")(x)\n",
    "    #x = keras.layers.MaxPool3D(pool_size=2)(x)\n",
    "    #x = keras.layers.BatchNormalization()(x)\n",
    "    \n",
    "    x = keras.layers.Conv3D(filters=64, kernel_size=3,strides=2,padding=\"same\", activation=\"relu\")(x)\n",
    "    #x = keras.layers.MaxPool3D(pool_size=2)(x)\n",
    "   \n",
    "    #x = keras.layers.Flatten()(x)\n",
    "    x = keras.layers.GlobalAveragePooling3D()(x)\n",
    "    \n",
    "    #x = keras.layers.Dense(32)(x)\n",
    "                                        \n",
    "    model = keras.models.Model(inputs=input_vol,outputs=x)\n",
    "    model.summary()\n",
    "    return model\n",
    "    \n",
    "    \n",
    "#scale range 0 to 1\n",
    "oldmin = tf_env.observation_spec()[1].minimum\n",
    "oldmax = tf_env.observation_spec()[1].maximum\n",
    "    \n",
    "def input_vect_layers():\n",
    "    input_ = keras.layers.Input(shape=(10,))\n",
    "    preprocessing = keras.layers.Lambda(lambda x: ((x-oldmin)*(1.- 0.)/(oldmax-oldmin)) + 0. )(input_)\n",
    "    #x = keras.layers.Dense(32)(preprocessing)\n",
    "    return keras.models.Model(inputs=input_,outputs=preprocessing)"
   ]
  },
  {
   "cell_type": "code",
   "execution_count": 7,
   "metadata": {},
   "outputs": [
    {
     "name": "stderr",
     "output_type": "stream",
     "text": [
      "WARNING - 2021-10-05 21:40:40,117 - encoding_network - Beware: Copying a layer that has already been built: 'model'.  This can lead to subtle bugs because the original layer's weights will not be used in the copy.\n",
      "WARNING - 2021-10-05 21:40:40,147 - encoding_network - Beware: Copying a layer that has already been built: 'model_1'.  This can lead to subtle bugs because the original layer's weights will not be used in the copy.\n"
     ]
    },
    {
     "name": "stdout",
     "output_type": "stream",
     "text": [
      "Model: \"model\"\n",
      "_________________________________________________________________\n",
      "Layer (type)                 Output Shape              Param #   \n",
      "=================================================================\n",
      "input_1 (InputLayer)         [(None, 66, 68, 152)]     0         \n",
      "_________________________________________________________________\n",
      "reshape (Reshape)            (None, 66, 68, 152, 1)    0         \n",
      "_________________________________________________________________\n",
      "cropping3d (Cropping3D)      (None, 64, 64, 128, 1)    0         \n",
      "_________________________________________________________________\n",
      "lambda (Lambda)              (None, 64, 64, 128, 1)    0         \n",
      "_________________________________________________________________\n",
      "conv3d (Conv3D)              (None, 32, 32, 64, 32)    4032      \n",
      "_________________________________________________________________\n",
      "conv3d_1 (Conv3D)            (None, 16, 16, 32, 32)    27680     \n",
      "_________________________________________________________________\n",
      "conv3d_2 (Conv3D)            (None, 8, 8, 16, 64)      55360     \n",
      "_________________________________________________________________\n",
      "conv3d_3 (Conv3D)            (None, 4, 4, 8, 64)       110656    \n",
      "_________________________________________________________________\n",
      "global_average_pooling3d (Gl (None, 64)                0         \n",
      "=================================================================\n",
      "Total params: 197,728\n",
      "Trainable params: 197,728\n",
      "Non-trainable params: 0\n",
      "_________________________________________________________________\n"
     ]
    }
   ],
   "source": [
    "#network\n",
    "preprocessing_layers=(volume_layers(),input_vect_layers())\n",
    "preprocessing_combiner = tf.keras.layers.Concatenate(axis=-1)\n",
    "dense_l = pm['model']['fc_layer_params']\n",
    "if len(dense_l) == 1:\n",
    "    fc_layer_params = (dense_l[0],)\n",
    "else:\n",
    "    fc_layer_params = dense_l\n",
    "\n",
    "\n",
    "categorical_q_net = categorical_q_network.CategoricalQNetwork(\n",
    "tf_env.observation_spec(),\n",
    "tf_env.action_spec(),\n",
    "preprocessing_layers=preprocessing_layers,\n",
    "preprocessing_combiner=preprocessing_combiner,\n",
    "fc_layer_params=fc_layer_params,\n",
    "num_atoms=pm['categorical_dqn']['n_atoms'])"
   ]
  },
  {
   "cell_type": "code",
   "execution_count": 8,
   "metadata": {},
   "outputs": [
    {
     "name": "stderr",
     "output_type": "stream",
     "text": [
      "WARNING - 2021-10-05 21:40:43,407 - encoding_network - Beware: Copying a layer that has already been built: 'model'.  This can lead to subtle bugs because the original layer's weights will not be used in the copy.\n",
      "WARNING - 2021-10-05 21:40:43,436 - encoding_network - Beware: Copying a layer that has already been built: 'model_1'.  This can lead to subtle bugs because the original layer's weights will not be used in the copy.\n"
     ]
    }
   ],
   "source": [
    "#agent\n",
    "train_step = tf.Variable(0)\n",
    "#optimizer = keras.optimizers.RMSprop(lr=2.5e-4, rho=0.95, momentum=0.0,\n",
    "#            epsilon=0.00001, centered=True)\n",
    "'''lr_decay =  keras.optimizers.schedules.PolynomialDecay(\n",
    "            initial_learning_rate=0.005, # initial ε\n",
    "            decay_steps = pm['agent']['decay_steps'], \n",
    "            end_learning_rate=0.0005)\n",
    "optimizer = keras.optimizers.Adam(learning_rate=lambda: lr_decay(train_step))'''\n",
    "\n",
    "\n",
    "optimizer = keras.optimizers.Adam(learning_rate=pm['model']['learning_rate'])\n",
    "\n",
    "epsilon_fn = keras.optimizers.schedules.PolynomialDecay(\n",
    "            initial_learning_rate=1.0, # initial ε\n",
    "            decay_steps = pm['agent']['decay_steps'], \n",
    "            end_learning_rate=0.02) # final ε\n",
    "\n",
    "agent = categorical_dqn_agent.CategoricalDqnAgent(tf_env.time_step_spec(),\n",
    "                tf_env.action_spec(),\n",
    "                categorical_q_network=categorical_q_net,\n",
    "                optimizer=optimizer,\n",
    "                min_q_value=pm['categorical_dqn']['min_q_value'],\n",
    "                max_q_value=pm['categorical_dqn']['max_q_value'],\n",
    "                target_update_period=pm['agent']['target_update_period'],\n",
    "                td_errors_loss_fn= element_wise_squared_loss, #keras.losses.Huber(reduction=\"none\"),\n",
    "                gamma=pm['agent']['gamma'], # discount factor\n",
    "                train_step_counter=train_step,\n",
    "                n_step_update =  pm['categorical_dqn']['n_step_update'],                                \n",
    "                epsilon_greedy=lambda: epsilon_fn(train_step))\n",
    "agent.initialize()"
   ]
  },
  {
   "cell_type": "code",
   "execution_count": 9,
   "metadata": {},
   "outputs": [],
   "source": [
    "#Replay buffer\n",
    "replay_buffer = tf_uniform_replay_buffer.TFUniformReplayBuffer(\n",
    "    data_spec= agent.collect_data_spec,\n",
    "    batch_size= tf_env.batch_size,\n",
    "    max_length=pm['rbuffer']['max_length'])"
   ]
  },
  {
   "cell_type": "code",
   "execution_count": 10,
   "metadata": {},
   "outputs": [],
   "source": [
    "#observer\n",
    "#observer is just a function (or a callable object) that takes a trajectory argument,\n",
    "#add_method() method (bound to the replay_buffer object) can be used as observer\n",
    "replay_buffer_observer = replay_buffer.add_batch"
   ]
  },
  {
   "cell_type": "code",
   "execution_count": 11,
   "metadata": {},
   "outputs": [],
   "source": [
    "#observer for training metrics\n",
    "training_metrics = [\n",
    "tf_metrics.NumberOfEpisodes(),\n",
    "tf_metrics.AverageEpisodeLengthMetric(batch_size=len(envs)),\n",
    "tf_metrics.EnvironmentSteps(),\n",
    "tf_metrics.AverageReturnMetric(batch_size=len(envs)),\n",
    "tf_metrics.MaxReturnMetric(batch_size=len(envs)),\n",
    "tf_metrics.MinReturnMetric(batch_size=len(envs)),   \n",
    "]"
   ]
  },
  {
   "cell_type": "code",
   "execution_count": 12,
   "metadata": {},
   "outputs": [],
   "source": [
    "#custom observer\n",
    "class ShowProgress:\n",
    "    def __init__(self, total):\n",
    "        self.counter = 0\n",
    "        self.total = total\n",
    "    def __call__(self, trajectory):\n",
    "        if not trajectory.is_boundary():\n",
    "            self.counter += 1\n",
    "        if self.counter % 100 == 0:\n",
    "            print(\"\\r{}/{}\".format(self.counter, self.total), end=\"\")"
   ]
  },
  {
   "cell_type": "code",
   "execution_count": 13,
   "metadata": {},
   "outputs": [],
   "source": [
    "#Collect Driver\n",
    "update_period = pm['collect_driver']['num_steps'] # train the model every x steps\n",
    "collect_driver = DynamicStepDriver(\n",
    "    tf_env,\n",
    "    agent.collect_policy,\n",
    "    observers=[replay_buffer_observer] + training_metrics,\n",
    "    num_steps=update_period) # collect x steps for each training iteration\n",
    "\n",
    "#+ training_metrics,"
   ]
  },
  {
   "cell_type": "code",
   "execution_count": 14,
   "metadata": {},
   "outputs": [
    {
     "name": "stdout",
     "output_type": "stream",
     "text": [
      "WARNING:tensorflow:From /home/pico/.local/lib/python3.8/site-packages/tf_agents/drivers/dynamic_step_driver.py:196: calling while_loop_v2 (from tensorflow.python.ops.control_flow_ops) with back_prop=False is deprecated and will be removed in a future version.\n",
      "Instructions for updating:\n",
      "back_prop=False is deprecated. Consider using tf.stop_gradient instead.\n",
      "Instead of:\n",
      "results = tf.while_loop(c, b, vars, back_prop=False)\n",
      "Use:\n",
      "results = tf.nest.map_structure(tf.stop_gradient, tf.while_loop(c, b, vars))\n"
     ]
    },
    {
     "name": "stderr",
     "output_type": "stream",
     "text": [
      "WARNING - 2021-10-05 21:40:44,666 - deprecation - From /home/pico/.local/lib/python3.8/site-packages/tf_agents/drivers/dynamic_step_driver.py:196: calling while_loop_v2 (from tensorflow.python.ops.control_flow_ops) with back_prop=False is deprecated and will be removed in a future version.\n",
      "Instructions for updating:\n",
      "back_prop=False is deprecated. Consider using tf.stop_gradient instead.\n",
      "Instead of:\n",
      "results = tf.while_loop(c, b, vars, back_prop=False)\n",
      "Use:\n",
      "results = tf.nest.map_structure(tf.stop_gradient, tf.while_loop(c, b, vars))\n"
     ]
    }
   ],
   "source": [
    "# random policy driver to start filling the buffer\n",
    "random_collect_policy = RandomTFPolicy(tf_env.time_step_spec(),\n",
    "                        tf_env.action_spec())\n",
    "\n",
    "ns = pm['rnd_policy']['num_steps']\n",
    "init_driver = DynamicStepDriver(\n",
    "            tf_env,\n",
    "            random_collect_policy,\n",
    "            observers=[replay_buffer.add_batch],\n",
    "            num_steps=ns)\n",
    "#, ShowProgress(ns)],\n",
    "final_time_step, final_policy_state = init_driver.run()"
   ]
  },
  {
   "cell_type": "code",
   "execution_count": 15,
   "metadata": {},
   "outputs": [
    {
     "name": "stdout",
     "output_type": "stream",
     "text": [
      "WARNING:tensorflow:From /home/pico/anaconda3/envs/rl/lib/python3.8/site-packages/tensorflow/python/autograph/operators/control_flow.py:1218: ReplayBuffer.get_next (from tf_agents.replay_buffers.replay_buffer) is deprecated and will be removed in a future version.\n",
      "Instructions for updating:\n",
      "Use `as_dataset(..., single_deterministic_pass=False) instead.\n"
     ]
    },
    {
     "name": "stderr",
     "output_type": "stream",
     "text": [
      "WARNING - 2021-10-05 21:41:06,237 - api - From /home/pico/anaconda3/envs/rl/lib/python3.8/site-packages/tensorflow/python/autograph/operators/control_flow.py:1218: ReplayBuffer.get_next (from tf_agents.replay_buffers.replay_buffer) is deprecated and will be removed in a future version.\n",
      "Instructions for updating:\n",
      "Use `as_dataset(..., single_deterministic_pass=False) instead.\n"
     ]
    }
   ],
   "source": [
    "#use buffer as tf API dataset ()\n",
    "dataset = replay_buffer.as_dataset(\n",
    "        sample_batch_size=pm['rbuffer']['sample_batch_size'],\n",
    "        num_steps=pm['categorical_dqn']['n_step_update'] + 1,\n",
    "        num_parallel_calls=3).prefetch(3)"
   ]
  },
  {
   "cell_type": "code",
   "execution_count": 16,
   "metadata": {},
   "outputs": [],
   "source": [
    "#convert main functions to tensorflow functions to speed up training\n",
    "collect_driver.run = function(collect_driver.run)\n",
    "agent.train = function(agent.train)"
   ]
  },
  {
   "cell_type": "code",
   "execution_count": 17,
   "metadata": {},
   "outputs": [],
   "source": [
    "#@tf.function\n",
    "def train_agent(n_iterations):\n",
    "    #reset metrics\n",
    "    for m in training_metrics:\n",
    "        m.reset()\n",
    "    time_step = None\n",
    "    policy_state = ()#agent.collect_policy.get_initial_state(tf_env.batch_size)\n",
    "    agent.train_step_counter.assign(0)\n",
    "    iterator = iter(dataset)\n",
    "    for iteration in range(n_iterations):\n",
    "        time_step, policy_state = collect_driver.run(time_step, policy_state)\n",
    "        trajectories, buffer_info = next(iterator)\n",
    "        train_loss = agent.train(trajectories)\n",
    "        print(\"\\r{} loss:{:.5f} epsilon{}\".format(iteration, train_loss.loss.numpy(),epsilon_fn(train_step)), end=\"\")\n",
    "        if iteration % 100 == 0:\n",
    "            with train_summary_writer.as_default():\n",
    "                #plot metrics\n",
    "                for train_metric in training_metrics:\n",
    "                    train_metric.tf_summaries(train_step=tf.cast(agent.train_step_counter,tf.int64), step_metrics=training_metrics[:])\n",
    "                train_summary_writer.flush()\n",
    "                \n",
    "        if iteration % 100 == 0:\n",
    "            with train_summary_writer.as_default():\n",
    "                #plot train loss          \n",
    "                tf.summary.scalar('train_loss', train_loss.loss.numpy(), step=tf.cast(agent.train_step_counter,tf.int64))\n",
    "                #plot NN weights\n",
    "                for layer in  categorical_q_net.layers:\n",
    "                    for weight in layer.weights:\n",
    "                        tf.summary.histogram(weight.name,weight,step=tf.cast(agent.train_step_counter,tf.int64))\n",
    "                train_summary_writer.flush()"
   ]
  },
  {
   "cell_type": "code",
   "execution_count": 18,
   "metadata": {},
   "outputs": [],
   "source": [
    "train_dir = os.path.join(data_log_path,\"logs/\",run_label)   \n",
    "train_summary_writer = tf.summary.create_file_writer(\n",
    "            train_dir, flush_millis=10000)\n",
    "#train_summary_writer.set_as_default()"
   ]
  },
  {
   "cell_type": "code",
   "execution_count": 19,
   "metadata": {
    "scrolled": false
   },
   "outputs": [],
   "source": [
    "# Launch TensorBoard with objects in the log directory\n",
    "# This should launch tensorboard in your browser, but you may not see your metadata.\n",
    "#%tensorboard --logdir=logs --reload_interval=15"
   ]
  },
  {
   "cell_type": "code",
   "execution_count": 20,
   "metadata": {},
   "outputs": [],
   "source": [
    "#tf.summary.scalar('avgreturn', training_metrics[3].result().numpy(), step=tf.cast(agent.train_step_counter,tf.int64))"
   ]
  },
  {
   "cell_type": "code",
   "execution_count": 21,
   "metadata": {
    "scrolled": false
   },
   "outputs": [
    {
     "name": "stdout",
     "output_type": "stream",
     "text": [
      "WARNING:tensorflow:From /home/pico/anaconda3/envs/rl/lib/python3.8/site-packages/tensorflow/python/util/dispatch.py:201: calling foldr_v2 (from tensorflow.python.ops.functional_ops) with back_prop=False is deprecated and will be removed in a future version.\n",
      "Instructions for updating:\n",
      "back_prop=False is deprecated. Consider using tf.stop_gradient instead.\n",
      "Instead of:\n",
      "results = tf.foldr(fn, elems, back_prop=False)\n",
      "Use:\n",
      "results = tf.nest.map_structure(tf.stop_gradient, tf.foldr(fn, elems))\n"
     ]
    },
    {
     "name": "stderr",
     "output_type": "stream",
     "text": [
      "WARNING - 2021-10-05 21:41:19,919 - deprecation - From /home/pico/anaconda3/envs/rl/lib/python3.8/site-packages/tensorflow/python/util/dispatch.py:201: calling foldr_v2 (from tensorflow.python.ops.functional_ops) with back_prop=False is deprecated and will be removed in a future version.\n",
      "Instructions for updating:\n",
      "back_prop=False is deprecated. Consider using tf.stop_gradient instead.\n",
      "Instead of:\n",
      "results = tf.foldr(fn, elems, back_prop=False)\n",
      "Use:\n",
      "results = tf.nest.map_structure(tf.stop_gradient, tf.foldr(fn, elems))\n"
     ]
    },
    {
     "name": "stdout",
     "output_type": "stream",
     "text": [
      "49999 loss:1.14443 epsilon0.019999999552965164CPU times: user 5h 36min 39s, sys: 15min 53s, total: 5h 52min 32s\n",
      "Wall time: 2h 14min 22s\n"
     ]
    }
   ],
   "source": [
    "%time train_agent(pm['misc']['n_iterations'])"
   ]
  },
  {
   "cell_type": "code",
   "execution_count": 22,
   "metadata": {},
   "outputs": [],
   "source": [
    "def run_episode(env,tf_env,policy):\n",
    "    state = tf_env.reset()\n",
    "    time_steps = 40\n",
    "    for i in range(1,time_steps):\n",
    "        action_step = policy.action(state)\n",
    "        state = tf_env.step(action_step.action)\n",
    "        #print(i,':',action_step.action.numpy(),state.observation[1].numpy()[0],state.step_type[0].numpy())  #,state.step_type.numpy()  )#,env.action2move(action_step.action,state.observation[0][-1].numpy()))#action,dir\n",
    "        last_position = env.current_position\n",
    "        if state.is_last():\n",
    "            break\n",
    "    return env.h\n",
    "\n",
    "def test_envs(envs,tf_envs,policy):\n",
    "    stats = []\n",
    "    for  model in range(len(envs)):\n",
    "        hs = []\n",
    "        for i in range(180):\n",
    "            h = run_episode(envs[model], tf_envs[model],policy)\n",
    "            hs.append(h)\n",
    "        stats.append(np.mean(hs,axis=0).astype('int'))\n",
    "        print(model)\n",
    "    return stats\n",
    "\n",
    "def save_tests(path,stats,models):\n",
    "    f = open(path,'w')\n",
    "    writer = csv.writer(f)\n",
    "    writer.writerow([\"model\",\"empty\", \"undefined\", \"solid\"])\n",
    "    for i in range(len(stats)):\n",
    "        st= np.insert(stats[i],0,models[i])\n",
    "        writer.writerow(st)\n",
    "    total_mean = np.mean(stats,axis=0)\n",
    "    writer.writerow(np.insert(total_mean,0,999).astype('int'))\n",
    "    f.close()"
   ]
  },
  {
   "cell_type": "code",
   "execution_count": 23,
   "metadata": {},
   "outputs": [
    {
     "name": "stdout",
     "output_type": "stream",
     "text": [
      "0\n",
      "1\n",
      "[array([556889,  14910, 110376]), array([614425,  18609,  49141])]\n"
     ]
    }
   ],
   "source": [
    "models = [204,202]#,79,88,146,198,199]\n",
    "envs = [suite_gym.load('ScannerEnv-v1',\n",
    "        gym_kwargs={'dataset_path':os.path.join(current_path,'arabidopsis_im_bigger',str(x).zfill(3)),'init_pos_inc_rst':True}) for x in models]\n",
    "\n",
    "tf_envs = [tf_py_environment.TFPyEnvironment( env ) for env in envs]\n",
    "\n",
    "\n",
    "dest_dir = os.path.join(data_log_path,'tests')\n",
    "if not os.path.exists(dest_dir):\n",
    "    os.makedirs(dest_dir)\n",
    "\n",
    "data = test_envs(envs,tf_envs,agent.policy)    \n",
    "test_file = os.path.join(dest_dir,run_label + '.csv')\n",
    "save_tests(test_file,data,models)\n",
    "print(data)"
   ]
  },
  {
   "cell_type": "code",
   "execution_count": 24,
   "metadata": {},
   "outputs": [
    {
     "name": "stderr",
     "output_type": "stream",
     "text": [
      "WARNING - 2021-10-05 23:57:15,757 - save - Found untraced functions such as CategoricalQNetwork_layer_call_and_return_conditional_losses, CategoricalQNetwork_layer_call_fn, CategoricalQNetwork_layer_call_and_return_conditional_losses, CategoricalQNetwork_layer_call_fn, CategoricalQNetwork_layer_call_fn while saving (showing 5 of 35). These functions will not be directly callable after loading.\n",
      "WARNING - 2021-10-05 23:57:15,794 - save - Found untraced functions such as CategoricalQNetwork_layer_call_and_return_conditional_losses, CategoricalQNetwork_layer_call_fn, CategoricalQNetwork_layer_call_and_return_conditional_losses, CategoricalQNetwork_layer_call_fn, CategoricalQNetwork_layer_call_fn while saving (showing 5 of 35). These functions will not be directly callable after loading.\n"
     ]
    },
    {
     "name": "stdout",
     "output_type": "stream",
     "text": [
      "INFO:tensorflow:Assets written to: /home/pico/uni/romi/scanner_cube/generated_data/policies/20211005-214038/assets\n"
     ]
    },
    {
     "name": "stderr",
     "output_type": "stream",
     "text": [
      "INFO - 2021-10-05 23:57:16,689 - builder_impl - Assets written to: /home/pico/uni/romi/scanner_cube/generated_data/policies/20211005-214038/assets\n"
     ]
    },
    {
     "data": {
      "text/plain": [
       "'/home/pico/uni/romi/scanner_cube/generated_data/environment_code/20211005-214038.py'"
      ]
     },
     "execution_count": 24,
     "metadata": {},
     "output_type": "execute_result"
    }
   ],
   "source": [
    "#save model, parameters and code state\n",
    "policy_dir = os.path.join(data_log_path,\"policies\", run_label)\n",
    "tf_policy_saver = policy_saver.PolicySaver(agent.policy)\n",
    "tf_policy_saver.save(policy_dir)\n",
    "\n",
    "with open(os.path.join(data_log_path,\"parameters\", run_label+'.json'), 'w') as json_file:\n",
    "  json.dump(pm, json_file)\n",
    "\n",
    "src = os.path.join(current_path,\"categorical_dqn_tf_agents.ipynb\")\n",
    "dst = os.path.join(data_log_path,\"train_code\", run_label+'.ipynb')\n",
    "shutil.copyfile(src, dst)\n",
    "\n",
    "src = os.path.join(current_path,\"scan_gym/scan_gym/envs/ScannerEnv/scanner_env.py\")\n",
    "dst = os.path.join(data_log_path,\"environment_code\", run_label+'.py')\n",
    "shutil.copyfile(src, dst)\n"
   ]
  },
  {
   "cell_type": "code",
   "execution_count": 25,
   "metadata": {},
   "outputs": [
    {
     "data": {
      "text/plain": [
       "<tf.Tensor: shape=(), dtype=int64, numpy=16000>"
      ]
     },
     "execution_count": 25,
     "metadata": {},
     "output_type": "execute_result"
    }
   ],
   "source": [
    "replay_buffer.num_frames()"
   ]
  },
  {
   "cell_type": "code",
   "execution_count": 26,
   "metadata": {},
   "outputs": [],
   "source": [
    "dp = '/home/pico/uni/romi/scanner_cube/arabidopsis_im_bigger/204'\n",
    "env = suite_gym.load('ScannerEnv-v1',gym_kwargs={'dataset_path':dp})\n",
    "test_env = tf_py_environment.TFPyEnvironment( env )"
   ]
  },
  {
   "cell_type": "code",
   "execution_count": 48,
   "metadata": {},
   "outputs": [
    {
     "name": "stdout",
     "output_type": "stream",
     "text": [
      "1 : [2] [ 0  5 -1 -1 -1 -1 -1 -1 -1 -1] 1\n",
      "2 : [2] [ 0  5 10 -1 -1 -1 -1 -1 -1 -1] 1\n",
      "3 : [2] [ 0  5 10 15 -1 -1 -1 -1 -1 -1] 1\n",
      "4 : [1] [ 0  5 10 15 18 -1 -1 -1 -1 -1] 1\n",
      "5 : [2] [ 0  5 10 15 18 23 -1 -1 -1 -1] 1\n",
      "6 : [1] [ 0  5 10 15 18 23 26 -1 -1 -1] 1\n",
      "7 : [3] [ 0  5 10 15 18 23 26 37 -1 -1] 1\n",
      "8 : [5] [ 0  5 10 15 18 23 26 37 70 -1] 1\n",
      "9 : [6] [  0   5  10  15  18  23  26  37  70 115] 2\n",
      "salio 0\n",
      "[154, 159, 164, 169, 172, 177, 0, 11, 44, 89]\n",
      "[0, 11, 44, 89, 154, 159, 164, 169, 172, 177]\n",
      "8.837366666666666\n",
      "[561633, 15594, 104949]\n",
      "[0, 5, 10, 15, 18, 23, 26, 37, 70, 115]\n",
      "[0, 5, 10, 15, 18, 23, 26, 37, 70, 115]\n"
     ]
    }
   ],
   "source": [
    "state = test_env.reset()\n",
    "#print(state.observation[0].numpy())\n",
    "cont = 0\n",
    "time_steps = 18\n",
    "#obs = deque(maxlen=time_steps)\n",
    "#print('0:',action_step.action.numpy(),state.observation[1].numpy()[0],state.step_type[0].numpy())\n",
    "\n",
    "for i in range(1,time_steps):\n",
    "    action_step = agent.policy.action(state)#agent.policy.action(state)\n",
    "    state = test_env.step(action_step.action)\n",
    "    print(i,':',action_step.action.numpy(),state.observation[1].numpy()[0],state.step_type[0].numpy())  #,state.step_type.numpy()  )#,env.action2move(action_step.action,state.observation[0][-1].numpy()))#action,dir\n",
    "    last_position = env.current_position\n",
    "    if state.is_last():\n",
    "        print('salio',cont)\n",
    "        break\n",
    "        \n",
    "print(env.kept_abs_images)\n",
    "print(sorted(env.kept_abs_images))\n",
    "print(env.total_reward)\n",
    "\n",
    "print(env.h)\n",
    "print(env.kept_rel_images)\n",
    "print(sorted(env.kept_rel_images))"
   ]
  },
  {
   "cell_type": "raw",
   "metadata": {},
   "source": [
    "policy_dir = os.path.join(current_path, 'policy')\n",
    "policy = tf.compat.v2.saved_model.load(policy_dir)"
   ]
  },
  {
   "cell_type": "code",
   "execution_count": null,
   "metadata": {},
   "outputs": [],
   "source": []
  },
  {
   "cell_type": "code",
   "execution_count": 28,
   "metadata": {},
   "outputs": [],
   "source": [
    "#batched_py_environment.BatchedPyEnvironment(envs=[suite.load(...) for _ in range(n)])"
   ]
  },
  {
   "cell_type": "code",
   "execution_count": null,
   "metadata": {},
   "outputs": [],
   "source": []
  },
  {
   "cell_type": "code",
   "execution_count": 29,
   "metadata": {},
   "outputs": [],
   "source": [
    "#tf_env.observation_spec()[1].maximum"
   ]
  },
  {
   "cell_type": "code",
   "execution_count": null,
   "metadata": {},
   "outputs": [],
   "source": []
  },
  {
   "cell_type": "code",
   "execution_count": null,
   "metadata": {},
   "outputs": [],
   "source": []
  },
  {
   "cell_type": "code",
   "execution_count": null,
   "metadata": {},
   "outputs": [],
   "source": []
  },
  {
   "cell_type": "code",
   "execution_count": 30,
   "metadata": {},
   "outputs": [],
   "source": [
    "random_collect_policy = RandomTFPolicy(tf_env.time_step_spec(),\n",
    "                        tf_env.action_spec())"
   ]
  },
  {
   "cell_type": "code",
   "execution_count": 31,
   "metadata": {},
   "outputs": [
    {
     "data": {
      "text/plain": [
       "Trajectory(step_type=TensorSpec(shape=(), dtype=tf.int32, name='step_type'), observation=(BoundedTensorSpec(shape=(66, 68, 152), dtype=tf.float16, name='observation/tuple_0', minimum=array(-1., dtype=float16), maximum=array(1., dtype=float16)), BoundedTensorSpec(shape=(10,), dtype=tf.int32, name='observation/tuple_1', minimum=array(-1, dtype=int32), maximum=array(179, dtype=int32))), action=BoundedTensorSpec(shape=(), dtype=tf.int64, name='action', minimum=array(0), maximum=array(16)), policy_info=(), next_step_type=TensorSpec(shape=(), dtype=tf.int32, name='step_type'), reward=TensorSpec(shape=(), dtype=tf.float32, name='reward'), discount=BoundedTensorSpec(shape=(), dtype=tf.float32, name='discount', minimum=array(0., dtype=float32), maximum=array(1., dtype=float32)))"
      ]
     },
     "execution_count": 31,
     "metadata": {},
     "output_type": "execute_result"
    }
   ],
   "source": [
    "random_collect_policy.collect_data_spec"
   ]
  },
  {
   "cell_type": "code",
   "execution_count": 32,
   "metadata": {},
   "outputs": [],
   "source": [
    "#q_net.layers[0].weights[0].shape"
   ]
  },
  {
   "cell_type": "code",
   "execution_count": 33,
   "metadata": {},
   "outputs": [
    {
     "data": {
      "text/plain": [
       "TimeStep(step_type=TensorSpec(shape=(), dtype=tf.int32, name='step_type'), reward=TensorSpec(shape=(), dtype=tf.float32, name='reward'), discount=BoundedTensorSpec(shape=(), dtype=tf.float32, name='discount', minimum=array(0., dtype=float32), maximum=array(1., dtype=float32)), observation=(BoundedTensorSpec(shape=(66, 68, 152), dtype=tf.float16, name='observation/tuple_0', minimum=array(-1., dtype=float16), maximum=array(1., dtype=float16)), BoundedTensorSpec(shape=(10,), dtype=tf.int32, name='observation/tuple_1', minimum=array(-1, dtype=int32), maximum=array(179, dtype=int32))))"
      ]
     },
     "execution_count": 33,
     "metadata": {},
     "output_type": "execute_result"
    }
   ],
   "source": [
    "random_collect_policy.time_step_spec"
   ]
  },
  {
   "cell_type": "code",
   "execution_count": 34,
   "metadata": {},
   "outputs": [],
   "source": [
    "ns = pm['rnd_policy']['num_steps']\n",
    "init_driver = DynamicStepDriver(\n",
    "            tf_env,\n",
    "            random_collect_policy,\n",
    "            observers=[replay_buffer.add_batch],\n",
    "            num_steps=ns)"
   ]
  },
  {
   "cell_type": "code",
   "execution_count": 35,
   "metadata": {},
   "outputs": [
    {
     "data": {
      "text/plain": [
       "<tf_agents.drivers.dynamic_step_driver.DynamicStepDriver at 0x7f2fec04bd30>"
      ]
     },
     "execution_count": 35,
     "metadata": {},
     "output_type": "execute_result"
    }
   ],
   "source": [
    "init_driver"
   ]
  },
  {
   "cell_type": "code",
   "execution_count": 36,
   "metadata": {},
   "outputs": [],
   "source": [
    "state = tf_env.reset()"
   ]
  },
  {
   "cell_type": "code",
   "execution_count": 37,
   "metadata": {},
   "outputs": [
    {
     "data": {
      "text/plain": [
       "TimeStep(step_type=<tf.Tensor: shape=(4,), dtype=int32, numpy=array([0, 0, 0, 0], dtype=int32)>, reward=<tf.Tensor: shape=(4,), dtype=float32, numpy=array([0., 0., 0., 0.], dtype=float32)>, discount=<tf.Tensor: shape=(4,), dtype=float32, numpy=array([1., 1., 1., 1.], dtype=float32)>, observation=(<tf.Tensor: shape=(4, 66, 68, 152), dtype=float16, numpy=\n",
       "array([[[[-1., -1., -1., ..., -1., -1., -1.],\n",
       "         [-1., -1., -1., ..., -1., -1., -1.],\n",
       "         [-1., -1., -1., ..., -1., -1., -1.],\n",
       "         ...,\n",
       "         [ 1.,  1.,  1., ...,  1.,  1.,  1.],\n",
       "         [ 1.,  1.,  1., ...,  1.,  1.,  1.],\n",
       "         [ 1.,  1.,  1., ...,  1.,  1.,  1.]],\n",
       "\n",
       "        [[-1., -1., -1., ..., -1., -1., -1.],\n",
       "         [-1., -1., -1., ..., -1., -1., -1.],\n",
       "         [-1., -1., -1., ..., -1., -1., -1.],\n",
       "         ...,\n",
       "         [ 1.,  1.,  1., ...,  1.,  1.,  1.],\n",
       "         [ 1.,  1.,  1., ...,  1.,  1.,  1.],\n",
       "         [ 1.,  1.,  1., ...,  1.,  1.,  1.]],\n",
       "\n",
       "        [[-1., -1., -1., ..., -1., -1., -1.],\n",
       "         [-1., -1., -1., ..., -1., -1., -1.],\n",
       "         [-1., -1., -1., ..., -1., -1., -1.],\n",
       "         ...,\n",
       "         [ 1.,  1.,  1., ...,  1.,  1.,  1.],\n",
       "         [ 1.,  1.,  1., ...,  1.,  1.,  1.],\n",
       "         [ 1.,  1.,  1., ...,  1.,  1.,  1.]],\n",
       "\n",
       "        ...,\n",
       "\n",
       "        [[ 0.,  0.,  0., ...,  0.,  0.,  0.],\n",
       "         [ 0.,  0.,  0., ...,  0.,  0.,  0.],\n",
       "         [ 0.,  0.,  0., ...,  0.,  0.,  0.],\n",
       "         ...,\n",
       "         [ 0.,  0.,  0., ...,  0.,  0.,  0.],\n",
       "         [ 0.,  0.,  0., ...,  0.,  0.,  0.],\n",
       "         [ 0.,  0.,  0., ...,  0.,  0.,  0.]],\n",
       "\n",
       "        [[ 0.,  0.,  0., ...,  0.,  0.,  0.],\n",
       "         [ 0.,  0.,  0., ...,  0.,  0.,  0.],\n",
       "         [ 0.,  0.,  0., ...,  0.,  0.,  0.],\n",
       "         ...,\n",
       "         [ 0.,  0.,  0., ...,  0.,  0.,  0.],\n",
       "         [ 0.,  0.,  0., ...,  0.,  0.,  0.],\n",
       "         [ 0.,  0.,  0., ...,  0.,  0.,  0.]],\n",
       "\n",
       "        [[ 0.,  0.,  0., ...,  0.,  0.,  0.],\n",
       "         [ 0.,  0.,  0., ...,  0.,  0.,  0.],\n",
       "         [ 0.,  0.,  0., ...,  0.,  0.,  0.],\n",
       "         ...,\n",
       "         [ 0.,  0.,  0., ...,  0.,  0.,  0.],\n",
       "         [ 0.,  0.,  0., ...,  0.,  0.,  0.],\n",
       "         [ 0.,  0.,  0., ...,  0.,  0.,  0.]]],\n",
       "\n",
       "\n",
       "       [[[ 0.,  0.,  0., ...,  0.,  0.,  0.],\n",
       "         [ 0.,  0.,  0., ...,  0.,  0.,  0.],\n",
       "         [ 0.,  0.,  0., ...,  0.,  0.,  0.],\n",
       "         ...,\n",
       "         [ 0.,  0.,  0., ...,  0.,  0.,  0.],\n",
       "         [ 0.,  0.,  0., ...,  0.,  0.,  0.],\n",
       "         [ 0.,  0.,  0., ...,  0.,  0.,  0.]],\n",
       "\n",
       "        [[ 0.,  0.,  0., ...,  0.,  0.,  0.],\n",
       "         [ 0.,  0.,  0., ...,  0.,  0.,  0.],\n",
       "         [ 0.,  0.,  0., ...,  0.,  0.,  0.],\n",
       "         ...,\n",
       "         [ 0.,  0.,  0., ...,  0.,  0.,  0.],\n",
       "         [ 0.,  0.,  0., ...,  0.,  0.,  0.],\n",
       "         [ 0.,  0.,  0., ...,  0.,  0.,  0.]],\n",
       "\n",
       "        [[ 0.,  0.,  0., ...,  0.,  0.,  0.],\n",
       "         [ 0.,  0.,  0., ...,  0.,  0.,  0.],\n",
       "         [ 0.,  0.,  0., ...,  0.,  0.,  0.],\n",
       "         ...,\n",
       "         [ 0.,  0.,  0., ...,  0.,  0.,  0.],\n",
       "         [ 0.,  0.,  0., ...,  0.,  0.,  0.],\n",
       "         [ 0.,  0.,  0., ...,  0.,  0.,  0.]],\n",
       "\n",
       "        ...,\n",
       "\n",
       "        [[ 1.,  1.,  1., ...,  1.,  1.,  1.],\n",
       "         [ 1.,  1.,  1., ...,  1.,  1.,  1.],\n",
       "         [ 1.,  1.,  1., ...,  1.,  1.,  1.],\n",
       "         ...,\n",
       "         [ 1.,  1.,  1., ...,  0.,  0.,  0.],\n",
       "         [ 1.,  1.,  1., ...,  0.,  0.,  0.],\n",
       "         [ 1.,  1.,  1., ...,  0.,  0.,  0.]],\n",
       "\n",
       "        [[ 1.,  1.,  1., ...,  1.,  1.,  1.],\n",
       "         [ 1.,  1.,  1., ...,  1.,  1.,  1.],\n",
       "         [ 1.,  1.,  1., ...,  1.,  1.,  1.],\n",
       "         ...,\n",
       "         [ 1.,  1.,  1., ...,  0.,  0.,  0.],\n",
       "         [ 1.,  1.,  1., ...,  0.,  0.,  0.],\n",
       "         [ 1.,  1.,  1., ...,  0.,  0.,  0.]],\n",
       "\n",
       "        [[ 1.,  1.,  1., ...,  1.,  1.,  1.],\n",
       "         [ 1.,  1.,  1., ...,  1.,  1.,  1.],\n",
       "         [ 1.,  1.,  1., ...,  1.,  1.,  1.],\n",
       "         ...,\n",
       "         [ 1.,  1.,  1., ...,  0.,  0.,  0.],\n",
       "         [ 1.,  1.,  1., ...,  0.,  0.,  0.],\n",
       "         [ 1.,  1.,  1., ...,  0.,  0.,  0.]]],\n",
       "\n",
       "\n",
       "       [[[-1., -1., -1., ...,  0.,  0.,  0.],\n",
       "         [-1., -1., -1., ...,  0.,  0.,  0.],\n",
       "         [-1., -1., -1., ...,  0.,  0.,  0.],\n",
       "         ...,\n",
       "         [ 1.,  1.,  1., ..., -1., -1., -1.],\n",
       "         [ 1.,  1.,  1., ..., -1., -1., -1.],\n",
       "         [ 1.,  1.,  1., ..., -1., -1., -1.]],\n",
       "\n",
       "        [[-1., -1., -1., ...,  0.,  0.,  0.],\n",
       "         [-1., -1., -1., ...,  0.,  0.,  0.],\n",
       "         [-1., -1., -1., ...,  0.,  0.,  0.],\n",
       "         ...,\n",
       "         [ 1.,  1.,  1., ..., -1., -1., -1.],\n",
       "         [ 1.,  1.,  1., ..., -1., -1., -1.],\n",
       "         [ 1.,  1.,  1., ..., -1., -1., -1.]],\n",
       "\n",
       "        [[-1., -1., -1., ...,  0.,  0.,  0.],\n",
       "         [-1., -1., -1., ...,  0.,  0.,  0.],\n",
       "         [-1., -1., -1., ...,  0.,  0.,  0.],\n",
       "         ...,\n",
       "         [ 1.,  1.,  1., ..., -1., -1., -1.],\n",
       "         [ 1.,  1.,  1., ..., -1., -1., -1.],\n",
       "         [ 1.,  1.,  1., ..., -1., -1., -1.]],\n",
       "\n",
       "        ...,\n",
       "\n",
       "        [[ 0.,  0.,  0., ...,  0.,  0.,  0.],\n",
       "         [ 0.,  0.,  0., ...,  0.,  0.,  0.],\n",
       "         [ 0.,  0.,  0., ...,  0.,  0.,  0.],\n",
       "         ...,\n",
       "         [-1., -1., -1., ..., -1., -1.,  0.],\n",
       "         [-1., -1., -1., ..., -1., -1., -1.],\n",
       "         [-1., -1., -1., ..., -1., -1., -1.]],\n",
       "\n",
       "        [[ 0.,  0.,  0., ...,  0.,  0.,  0.],\n",
       "         [ 0.,  0.,  0., ...,  0.,  0.,  0.],\n",
       "         [ 0.,  0.,  0., ...,  0.,  0.,  0.],\n",
       "         ...,\n",
       "         [-1., -1., -1., ..., -1.,  0.,  0.],\n",
       "         [-1., -1., -1., ..., -1., -1.,  0.],\n",
       "         [-1., -1., -1., ..., -1., -1., -1.]],\n",
       "\n",
       "        [[ 0.,  0.,  0., ...,  0.,  0.,  0.],\n",
       "         [ 0.,  0.,  0., ...,  0.,  0.,  0.],\n",
       "         [ 0.,  0.,  0., ...,  0.,  0.,  0.],\n",
       "         ...,\n",
       "         [-1., -1., -1., ...,  0.,  0.,  0.],\n",
       "         [-1., -1., -1., ..., -1.,  0.,  0.],\n",
       "         [-1., -1., -1., ..., -1., -1., -1.]]],\n",
       "\n",
       "\n",
       "       [[[ 1.,  1.,  1., ...,  0.,  0.,  0.],\n",
       "         [ 1.,  1.,  1., ...,  0.,  0.,  0.],\n",
       "         [ 1.,  1.,  1., ...,  0.,  0.,  0.],\n",
       "         ...,\n",
       "         [ 0.,  0.,  0., ...,  0.,  0.,  0.],\n",
       "         [ 0.,  0.,  0., ...,  0.,  0.,  0.],\n",
       "         [ 0.,  0.,  0., ...,  0.,  0.,  0.]],\n",
       "\n",
       "        [[ 1.,  1.,  1., ...,  0.,  0.,  0.],\n",
       "         [ 1.,  1.,  1., ...,  0.,  0.,  0.],\n",
       "         [ 1.,  1.,  1., ...,  0.,  0.,  0.],\n",
       "         ...,\n",
       "         [ 0.,  0.,  0., ...,  0.,  0.,  0.],\n",
       "         [ 0.,  0.,  0., ...,  0.,  0.,  0.],\n",
       "         [ 0.,  0.,  0., ...,  0.,  0.,  0.]],\n",
       "\n",
       "        [[ 1.,  1.,  1., ...,  0.,  0.,  0.],\n",
       "         [ 1.,  1.,  1., ...,  0.,  0.,  0.],\n",
       "         [ 1.,  1.,  1., ...,  0.,  0.,  0.],\n",
       "         ...,\n",
       "         [ 0.,  0.,  0., ...,  0.,  0.,  0.],\n",
       "         [ 0.,  0.,  0., ...,  0.,  0.,  0.],\n",
       "         [ 0.,  0.,  0., ...,  0.,  0.,  0.]],\n",
       "\n",
       "        ...,\n",
       "\n",
       "        [[-1., -1., -1., ..., -1., -1., -1.],\n",
       "         [-1., -1., -1., ..., -1., -1., -1.],\n",
       "         [-1., -1., -1., ..., -1., -1., -1.],\n",
       "         ...,\n",
       "         [ 0.,  0.,  0., ...,  0.,  0.,  0.],\n",
       "         [ 0.,  0.,  0., ...,  0.,  0.,  0.],\n",
       "         [ 0.,  0.,  0., ...,  0.,  0.,  0.]],\n",
       "\n",
       "        [[-1., -1., -1., ..., -1., -1., -1.],\n",
       "         [-1., -1., -1., ..., -1., -1., -1.],\n",
       "         [-1., -1., -1., ..., -1., -1., -1.],\n",
       "         ...,\n",
       "         [ 0.,  0.,  0., ...,  0.,  0.,  0.],\n",
       "         [ 0.,  0.,  0., ...,  0.,  0.,  0.],\n",
       "         [ 0.,  0.,  0., ...,  0.,  0.,  0.]],\n",
       "\n",
       "        [[-1., -1., -1., ..., -1., -1., -1.],\n",
       "         [-1., -1., -1., ..., -1., -1., -1.],\n",
       "         [-1., -1., -1., ..., -1., -1., -1.],\n",
       "         ...,\n",
       "         [ 0.,  0.,  0., ...,  0.,  0.,  0.],\n",
       "         [ 0.,  0.,  0., ...,  0.,  0.,  0.],\n",
       "         [ 0.,  0.,  0., ...,  0.,  0.,  0.]]]], dtype=float16)>, <tf.Tensor: shape=(4, 10), dtype=int32, numpy=\n",
       "array([[ 0, -1, -1, -1, -1, -1, -1, -1, -1, -1],\n",
       "       [ 0, -1, -1, -1, -1, -1, -1, -1, -1, -1],\n",
       "       [ 0, -1, -1, -1, -1, -1, -1, -1, -1, -1],\n",
       "       [ 0, -1, -1, -1, -1, -1, -1, -1, -1, -1]], dtype=int32)>))"
      ]
     },
     "execution_count": 37,
     "metadata": {},
     "output_type": "execute_result"
    }
   ],
   "source": [
    "state"
   ]
  },
  {
   "cell_type": "code",
   "execution_count": 38,
   "metadata": {},
   "outputs": [
    {
     "ename": "TypeError",
     "evalue": "iteration over a 0-d array",
     "output_type": "error",
     "traceback": [
      "\u001b[0;31m---------------------------------------------------------------------------\u001b[0m",
      "\u001b[0;31mTypeError\u001b[0m                                 Traceback (most recent call last)",
      "\u001b[0;32m<ipython-input-38-81092049c535>\u001b[0m in \u001b[0;36m<module>\u001b[0;34m\u001b[0m\n\u001b[0;32m----> 1\u001b[0;31m \u001b[0mstate\u001b[0m \u001b[0;34m=\u001b[0m \u001b[0mtf_env\u001b[0m\u001b[0;34m.\u001b[0m\u001b[0mstep\u001b[0m\u001b[0;34m(\u001b[0m\u001b[0;36m0\u001b[0m\u001b[0;34m)\u001b[0m\u001b[0;34m\u001b[0m\u001b[0;34m\u001b[0m\u001b[0m\n\u001b[0m",
      "\u001b[0;32m~/.local/lib/python3.8/site-packages/tf_agents/environments/tf_environment.py\u001b[0m in \u001b[0;36mstep\u001b[0;34m(self, action)\u001b[0m\n\u001b[1;32m    239\u001b[0m           \u001b[0mcorresponding\u001b[0m \u001b[0mto\u001b[0m\u001b[0;31m \u001b[0m\u001b[0;31m`\u001b[0m\u001b[0mobservation_spec\u001b[0m\u001b[0;34m(\u001b[0m\u001b[0;34m)\u001b[0m\u001b[0;31m`\u001b[0m\u001b[0;34m.\u001b[0m\u001b[0;34m\u001b[0m\u001b[0;34m\u001b[0m\u001b[0m\n\u001b[1;32m    240\u001b[0m     \"\"\"\n\u001b[0;32m--> 241\u001b[0;31m     \u001b[0;32mreturn\u001b[0m \u001b[0mself\u001b[0m\u001b[0;34m.\u001b[0m\u001b[0m_step\u001b[0m\u001b[0;34m(\u001b[0m\u001b[0maction\u001b[0m\u001b[0;34m)\u001b[0m\u001b[0;34m\u001b[0m\u001b[0;34m\u001b[0m\u001b[0m\n\u001b[0m\u001b[1;32m    242\u001b[0m \u001b[0;34m\u001b[0m\u001b[0m\n\u001b[1;32m    243\u001b[0m   \u001b[0;32mdef\u001b[0m \u001b[0mrender\u001b[0m\u001b[0;34m(\u001b[0m\u001b[0mself\u001b[0m\u001b[0;34m)\u001b[0m\u001b[0;34m:\u001b[0m\u001b[0;34m\u001b[0m\u001b[0;34m\u001b[0m\u001b[0m\n",
      "\u001b[0;32m~/anaconda3/envs/rl/lib/python3.8/site-packages/tensorflow/python/autograph/impl/api.py\u001b[0m in \u001b[0;36mwrapper\u001b[0;34m(*args, **kwargs)\u001b[0m\n\u001b[1;32m    618\u001b[0m   \u001b[0;32mdef\u001b[0m \u001b[0mwrapper\u001b[0m\u001b[0;34m(\u001b[0m\u001b[0;34m*\u001b[0m\u001b[0margs\u001b[0m\u001b[0;34m,\u001b[0m \u001b[0;34m**\u001b[0m\u001b[0mkwargs\u001b[0m\u001b[0;34m)\u001b[0m\u001b[0;34m:\u001b[0m\u001b[0;34m\u001b[0m\u001b[0;34m\u001b[0m\u001b[0m\n\u001b[1;32m    619\u001b[0m     \u001b[0;32mwith\u001b[0m \u001b[0mag_ctx\u001b[0m\u001b[0;34m.\u001b[0m\u001b[0mControlStatusCtx\u001b[0m\u001b[0;34m(\u001b[0m\u001b[0mstatus\u001b[0m\u001b[0;34m=\u001b[0m\u001b[0mag_ctx\u001b[0m\u001b[0;34m.\u001b[0m\u001b[0mStatus\u001b[0m\u001b[0;34m.\u001b[0m\u001b[0mDISABLED\u001b[0m\u001b[0;34m)\u001b[0m\u001b[0;34m:\u001b[0m\u001b[0;34m\u001b[0m\u001b[0;34m\u001b[0m\u001b[0m\n\u001b[0;32m--> 620\u001b[0;31m       \u001b[0;32mreturn\u001b[0m \u001b[0mfunc\u001b[0m\u001b[0;34m(\u001b[0m\u001b[0;34m*\u001b[0m\u001b[0margs\u001b[0m\u001b[0;34m,\u001b[0m \u001b[0;34m**\u001b[0m\u001b[0mkwargs\u001b[0m\u001b[0;34m)\u001b[0m\u001b[0;34m\u001b[0m\u001b[0;34m\u001b[0m\u001b[0m\n\u001b[0m\u001b[1;32m    621\u001b[0m \u001b[0;34m\u001b[0m\u001b[0m\n\u001b[1;32m    622\u001b[0m   \u001b[0;32mif\u001b[0m \u001b[0minspect\u001b[0m\u001b[0;34m.\u001b[0m\u001b[0misfunction\u001b[0m\u001b[0;34m(\u001b[0m\u001b[0mfunc\u001b[0m\u001b[0;34m)\u001b[0m \u001b[0;32mor\u001b[0m \u001b[0minspect\u001b[0m\u001b[0;34m.\u001b[0m\u001b[0mismethod\u001b[0m\u001b[0;34m(\u001b[0m\u001b[0mfunc\u001b[0m\u001b[0;34m)\u001b[0m\u001b[0;34m:\u001b[0m\u001b[0;34m\u001b[0m\u001b[0;34m\u001b[0m\u001b[0m\n",
      "\u001b[0;32m~/.local/lib/python3.8/site-packages/tf_agents/environments/tf_py_environment.py\u001b[0m in \u001b[0;36m_step\u001b[0;34m(self, actions)\u001b[0m\n\u001b[1;32m    329\u001b[0m                 \u001b[0;34m'but saw action with shape %s:\\n   %s'\u001b[0m \u001b[0;34m%\u001b[0m\u001b[0;34m\u001b[0m\u001b[0;34m\u001b[0m\u001b[0m\n\u001b[1;32m    330\u001b[0m                 (self.batch_size, action.shape, action))\n\u001b[0;32m--> 331\u001b[0;31m       outputs = tf.numpy_function(\n\u001b[0m\u001b[1;32m    332\u001b[0m           \u001b[0m_isolated_step_py\u001b[0m\u001b[0;34m,\u001b[0m\u001b[0;34m\u001b[0m\u001b[0;34m\u001b[0m\u001b[0m\n\u001b[1;32m    333\u001b[0m           \u001b[0mflat_actions\u001b[0m\u001b[0;34m,\u001b[0m\u001b[0;34m\u001b[0m\u001b[0;34m\u001b[0m\u001b[0m\n",
      "\u001b[0;32m~/anaconda3/envs/rl/lib/python3.8/site-packages/tensorflow/python/util/dispatch.py\u001b[0m in \u001b[0;36mwrapper\u001b[0;34m(*args, **kwargs)\u001b[0m\n\u001b[1;32m    199\u001b[0m     \u001b[0;34m\"\"\"Call target, and fall back on dispatchers if there is a TypeError.\"\"\"\u001b[0m\u001b[0;34m\u001b[0m\u001b[0;34m\u001b[0m\u001b[0m\n\u001b[1;32m    200\u001b[0m     \u001b[0;32mtry\u001b[0m\u001b[0;34m:\u001b[0m\u001b[0;34m\u001b[0m\u001b[0;34m\u001b[0m\u001b[0m\n\u001b[0;32m--> 201\u001b[0;31m       \u001b[0;32mreturn\u001b[0m \u001b[0mtarget\u001b[0m\u001b[0;34m(\u001b[0m\u001b[0;34m*\u001b[0m\u001b[0margs\u001b[0m\u001b[0;34m,\u001b[0m \u001b[0;34m**\u001b[0m\u001b[0mkwargs\u001b[0m\u001b[0;34m)\u001b[0m\u001b[0;34m\u001b[0m\u001b[0;34m\u001b[0m\u001b[0m\n\u001b[0m\u001b[1;32m    202\u001b[0m     \u001b[0;32mexcept\u001b[0m \u001b[0;34m(\u001b[0m\u001b[0mTypeError\u001b[0m\u001b[0;34m,\u001b[0m \u001b[0mValueError\u001b[0m\u001b[0;34m)\u001b[0m\u001b[0;34m:\u001b[0m\u001b[0;34m\u001b[0m\u001b[0;34m\u001b[0m\u001b[0m\n\u001b[1;32m    203\u001b[0m       \u001b[0;31m# Note: convert_to_eager_tensor currently raises a ValueError, not a\u001b[0m\u001b[0;34m\u001b[0m\u001b[0;34m\u001b[0m\u001b[0;34m\u001b[0m\u001b[0m\n",
      "\u001b[0;32m~/anaconda3/envs/rl/lib/python3.8/site-packages/tensorflow/python/ops/script_ops.py\u001b[0m in \u001b[0;36mnumpy_function\u001b[0;34m(func, inp, Tout, name)\u001b[0m\n\u001b[1;32m    684\u001b[0m     \u001b[0mSingle\u001b[0m \u001b[0;32mor\u001b[0m \u001b[0mlist\u001b[0m \u001b[0mof\u001b[0m\u001b[0;31m \u001b[0m\u001b[0;31m`\u001b[0m\u001b[0mtf\u001b[0m\u001b[0;34m.\u001b[0m\u001b[0mTensor\u001b[0m\u001b[0;31m`\u001b[0m \u001b[0mwhich\u001b[0m\u001b[0;31m \u001b[0m\u001b[0;31m`\u001b[0m\u001b[0mfunc\u001b[0m\u001b[0;31m`\u001b[0m \u001b[0mcomputes\u001b[0m\u001b[0;34m.\u001b[0m\u001b[0;34m\u001b[0m\u001b[0;34m\u001b[0m\u001b[0m\n\u001b[1;32m    685\u001b[0m   \"\"\"\n\u001b[0;32m--> 686\u001b[0;31m   \u001b[0;32mreturn\u001b[0m \u001b[0mpy_func_common\u001b[0m\u001b[0;34m(\u001b[0m\u001b[0mfunc\u001b[0m\u001b[0;34m,\u001b[0m \u001b[0minp\u001b[0m\u001b[0;34m,\u001b[0m \u001b[0mTout\u001b[0m\u001b[0;34m,\u001b[0m \u001b[0mstateful\u001b[0m\u001b[0;34m=\u001b[0m\u001b[0;32mTrue\u001b[0m\u001b[0;34m,\u001b[0m \u001b[0mname\u001b[0m\u001b[0;34m=\u001b[0m\u001b[0mname\u001b[0m\u001b[0;34m)\u001b[0m\u001b[0;34m\u001b[0m\u001b[0;34m\u001b[0m\u001b[0m\n\u001b[0m\u001b[1;32m    687\u001b[0m \u001b[0;34m\u001b[0m\u001b[0m\n\u001b[1;32m    688\u001b[0m \u001b[0;34m\u001b[0m\u001b[0m\n",
      "\u001b[0;32m~/anaconda3/envs/rl/lib/python3.8/site-packages/tensorflow/python/ops/script_ops.py\u001b[0m in \u001b[0;36mpy_func_common\u001b[0;34m(func, inp, Tout, stateful, name)\u001b[0m\n\u001b[1;32m    571\u001b[0m   \"\"\"\n\u001b[1;32m    572\u001b[0m   \u001b[0;32mif\u001b[0m \u001b[0mcontext\u001b[0m\u001b[0;34m.\u001b[0m\u001b[0mexecuting_eagerly\u001b[0m\u001b[0;34m(\u001b[0m\u001b[0;34m)\u001b[0m\u001b[0;34m:\u001b[0m\u001b[0;34m\u001b[0m\u001b[0;34m\u001b[0m\u001b[0m\n\u001b[0;32m--> 573\u001b[0;31m     \u001b[0mresult\u001b[0m \u001b[0;34m=\u001b[0m \u001b[0mfunc\u001b[0m\u001b[0;34m(\u001b[0m\u001b[0;34m*\u001b[0m\u001b[0;34m[\u001b[0m\u001b[0mnp\u001b[0m\u001b[0;34m.\u001b[0m\u001b[0marray\u001b[0m\u001b[0;34m(\u001b[0m\u001b[0mx\u001b[0m\u001b[0;34m)\u001b[0m \u001b[0;32mfor\u001b[0m \u001b[0mx\u001b[0m \u001b[0;32min\u001b[0m \u001b[0minp\u001b[0m\u001b[0;34m]\u001b[0m\u001b[0;34m)\u001b[0m\u001b[0;34m\u001b[0m\u001b[0;34m\u001b[0m\u001b[0m\n\u001b[0m\u001b[1;32m    574\u001b[0m     \u001b[0mresult\u001b[0m \u001b[0;34m=\u001b[0m \u001b[0mnest\u001b[0m\u001b[0;34m.\u001b[0m\u001b[0mflatten\u001b[0m\u001b[0;34m(\u001b[0m\u001b[0mresult\u001b[0m\u001b[0;34m)\u001b[0m\u001b[0;34m\u001b[0m\u001b[0;34m\u001b[0m\u001b[0m\n\u001b[1;32m    575\u001b[0m \u001b[0;34m\u001b[0m\u001b[0m\n",
      "\u001b[0;32m~/.local/lib/python3.8/site-packages/tf_agents/environments/tf_py_environment.py\u001b[0m in \u001b[0;36m_isolated_step_py\u001b[0;34m(*flattened_actions)\u001b[0m\n\u001b[1;32m    316\u001b[0m \u001b[0;34m\u001b[0m\u001b[0m\n\u001b[1;32m    317\u001b[0m     \u001b[0;32mdef\u001b[0m \u001b[0m_isolated_step_py\u001b[0m\u001b[0;34m(\u001b[0m\u001b[0;34m*\u001b[0m\u001b[0mflattened_actions\u001b[0m\u001b[0;34m)\u001b[0m\u001b[0;34m:\u001b[0m\u001b[0;34m\u001b[0m\u001b[0;34m\u001b[0m\u001b[0m\n\u001b[0;32m--> 318\u001b[0;31m       \u001b[0;32mreturn\u001b[0m \u001b[0mself\u001b[0m\u001b[0;34m.\u001b[0m\u001b[0m_execute\u001b[0m\u001b[0;34m(\u001b[0m\u001b[0m_step_py\u001b[0m\u001b[0;34m,\u001b[0m \u001b[0;34m*\u001b[0m\u001b[0mflattened_actions\u001b[0m\u001b[0;34m)\u001b[0m\u001b[0;34m\u001b[0m\u001b[0;34m\u001b[0m\u001b[0m\n\u001b[0m\u001b[1;32m    319\u001b[0m \u001b[0;34m\u001b[0m\u001b[0m\n\u001b[1;32m    320\u001b[0m     \u001b[0;32mwith\u001b[0m \u001b[0mtf\u001b[0m\u001b[0;34m.\u001b[0m\u001b[0mname_scope\u001b[0m\u001b[0;34m(\u001b[0m\u001b[0;34m'step'\u001b[0m\u001b[0;34m)\u001b[0m\u001b[0;34m:\u001b[0m\u001b[0;34m\u001b[0m\u001b[0;34m\u001b[0m\u001b[0m\n",
      "\u001b[0;32m~/.local/lib/python3.8/site-packages/tf_agents/environments/tf_py_environment.py\u001b[0m in \u001b[0;36m_execute\u001b[0;34m(self, fn, *args, **kwargs)\u001b[0m\n\u001b[1;32m    213\u001b[0m     \u001b[0;32mif\u001b[0m \u001b[0;32mnot\u001b[0m \u001b[0mself\u001b[0m\u001b[0;34m.\u001b[0m\u001b[0m_pool\u001b[0m\u001b[0;34m:\u001b[0m\u001b[0;34m\u001b[0m\u001b[0;34m\u001b[0m\u001b[0m\n\u001b[1;32m    214\u001b[0m       \u001b[0;32mreturn\u001b[0m \u001b[0mfn\u001b[0m\u001b[0;34m(\u001b[0m\u001b[0;34m*\u001b[0m\u001b[0margs\u001b[0m\u001b[0;34m,\u001b[0m \u001b[0;34m**\u001b[0m\u001b[0mkwargs\u001b[0m\u001b[0;34m)\u001b[0m\u001b[0;34m\u001b[0m\u001b[0;34m\u001b[0m\u001b[0m\n\u001b[0;32m--> 215\u001b[0;31m     \u001b[0;32mreturn\u001b[0m \u001b[0mself\u001b[0m\u001b[0;34m.\u001b[0m\u001b[0m_pool\u001b[0m\u001b[0;34m.\u001b[0m\u001b[0mapply\u001b[0m\u001b[0;34m(\u001b[0m\u001b[0mfn\u001b[0m\u001b[0;34m,\u001b[0m \u001b[0margs\u001b[0m\u001b[0;34m=\u001b[0m\u001b[0margs\u001b[0m\u001b[0;34m,\u001b[0m \u001b[0mkwds\u001b[0m\u001b[0;34m=\u001b[0m\u001b[0mkwargs\u001b[0m\u001b[0;34m)\u001b[0m\u001b[0;34m\u001b[0m\u001b[0;34m\u001b[0m\u001b[0m\n\u001b[0m\u001b[1;32m    216\u001b[0m \u001b[0;34m\u001b[0m\u001b[0m\n\u001b[1;32m    217\u001b[0m   \u001b[0;31m# TODO(b/123585179): Simplify this using py_environment.current_time_step().\u001b[0m\u001b[0;34m\u001b[0m\u001b[0;34m\u001b[0m\u001b[0;34m\u001b[0m\u001b[0m\n",
      "\u001b[0;32m~/anaconda3/envs/rl/lib/python3.8/multiprocessing/pool.py\u001b[0m in \u001b[0;36mapply\u001b[0;34m(self, func, args, kwds)\u001b[0m\n\u001b[1;32m    355\u001b[0m         \u001b[0mPool\u001b[0m \u001b[0mmust\u001b[0m \u001b[0mbe\u001b[0m \u001b[0mrunning\u001b[0m\u001b[0;34m.\u001b[0m\u001b[0;34m\u001b[0m\u001b[0;34m\u001b[0m\u001b[0m\n\u001b[1;32m    356\u001b[0m         '''\n\u001b[0;32m--> 357\u001b[0;31m         \u001b[0;32mreturn\u001b[0m \u001b[0mself\u001b[0m\u001b[0;34m.\u001b[0m\u001b[0mapply_async\u001b[0m\u001b[0;34m(\u001b[0m\u001b[0mfunc\u001b[0m\u001b[0;34m,\u001b[0m \u001b[0margs\u001b[0m\u001b[0;34m,\u001b[0m \u001b[0mkwds\u001b[0m\u001b[0;34m)\u001b[0m\u001b[0;34m.\u001b[0m\u001b[0mget\u001b[0m\u001b[0;34m(\u001b[0m\u001b[0;34m)\u001b[0m\u001b[0;34m\u001b[0m\u001b[0;34m\u001b[0m\u001b[0m\n\u001b[0m\u001b[1;32m    358\u001b[0m \u001b[0;34m\u001b[0m\u001b[0m\n\u001b[1;32m    359\u001b[0m     \u001b[0;32mdef\u001b[0m \u001b[0mmap\u001b[0m\u001b[0;34m(\u001b[0m\u001b[0mself\u001b[0m\u001b[0;34m,\u001b[0m \u001b[0mfunc\u001b[0m\u001b[0;34m,\u001b[0m \u001b[0miterable\u001b[0m\u001b[0;34m,\u001b[0m \u001b[0mchunksize\u001b[0m\u001b[0;34m=\u001b[0m\u001b[0;32mNone\u001b[0m\u001b[0;34m)\u001b[0m\u001b[0;34m:\u001b[0m\u001b[0;34m\u001b[0m\u001b[0;34m\u001b[0m\u001b[0m\n",
      "\u001b[0;32m~/anaconda3/envs/rl/lib/python3.8/multiprocessing/pool.py\u001b[0m in \u001b[0;36mget\u001b[0;34m(self, timeout)\u001b[0m\n\u001b[1;32m    769\u001b[0m             \u001b[0;32mreturn\u001b[0m \u001b[0mself\u001b[0m\u001b[0;34m.\u001b[0m\u001b[0m_value\u001b[0m\u001b[0;34m\u001b[0m\u001b[0;34m\u001b[0m\u001b[0m\n\u001b[1;32m    770\u001b[0m         \u001b[0;32melse\u001b[0m\u001b[0;34m:\u001b[0m\u001b[0;34m\u001b[0m\u001b[0;34m\u001b[0m\u001b[0m\n\u001b[0;32m--> 771\u001b[0;31m             \u001b[0;32mraise\u001b[0m \u001b[0mself\u001b[0m\u001b[0;34m.\u001b[0m\u001b[0m_value\u001b[0m\u001b[0;34m\u001b[0m\u001b[0;34m\u001b[0m\u001b[0m\n\u001b[0m\u001b[1;32m    772\u001b[0m \u001b[0;34m\u001b[0m\u001b[0m\n\u001b[1;32m    773\u001b[0m     \u001b[0;32mdef\u001b[0m \u001b[0m_set\u001b[0m\u001b[0;34m(\u001b[0m\u001b[0mself\u001b[0m\u001b[0;34m,\u001b[0m \u001b[0mi\u001b[0m\u001b[0;34m,\u001b[0m \u001b[0mobj\u001b[0m\u001b[0;34m)\u001b[0m\u001b[0;34m:\u001b[0m\u001b[0;34m\u001b[0m\u001b[0;34m\u001b[0m\u001b[0m\n",
      "\u001b[0;32m~/anaconda3/envs/rl/lib/python3.8/multiprocessing/pool.py\u001b[0m in \u001b[0;36mworker\u001b[0;34m(inqueue, outqueue, initializer, initargs, maxtasks, wrap_exception)\u001b[0m\n\u001b[1;32m    123\u001b[0m         \u001b[0mjob\u001b[0m\u001b[0;34m,\u001b[0m \u001b[0mi\u001b[0m\u001b[0;34m,\u001b[0m \u001b[0mfunc\u001b[0m\u001b[0;34m,\u001b[0m \u001b[0margs\u001b[0m\u001b[0;34m,\u001b[0m \u001b[0mkwds\u001b[0m \u001b[0;34m=\u001b[0m \u001b[0mtask\u001b[0m\u001b[0;34m\u001b[0m\u001b[0;34m\u001b[0m\u001b[0m\n\u001b[1;32m    124\u001b[0m         \u001b[0;32mtry\u001b[0m\u001b[0;34m:\u001b[0m\u001b[0;34m\u001b[0m\u001b[0;34m\u001b[0m\u001b[0m\n\u001b[0;32m--> 125\u001b[0;31m             \u001b[0mresult\u001b[0m \u001b[0;34m=\u001b[0m \u001b[0;34m(\u001b[0m\u001b[0;32mTrue\u001b[0m\u001b[0;34m,\u001b[0m \u001b[0mfunc\u001b[0m\u001b[0;34m(\u001b[0m\u001b[0;34m*\u001b[0m\u001b[0margs\u001b[0m\u001b[0;34m,\u001b[0m \u001b[0;34m**\u001b[0m\u001b[0mkwds\u001b[0m\u001b[0;34m)\u001b[0m\u001b[0;34m)\u001b[0m\u001b[0;34m\u001b[0m\u001b[0;34m\u001b[0m\u001b[0m\n\u001b[0m\u001b[1;32m    126\u001b[0m         \u001b[0;32mexcept\u001b[0m \u001b[0mException\u001b[0m \u001b[0;32mas\u001b[0m \u001b[0me\u001b[0m\u001b[0;34m:\u001b[0m\u001b[0;34m\u001b[0m\u001b[0;34m\u001b[0m\u001b[0m\n\u001b[1;32m    127\u001b[0m             \u001b[0;32mif\u001b[0m \u001b[0mwrap_exception\u001b[0m \u001b[0;32mand\u001b[0m \u001b[0mfunc\u001b[0m \u001b[0;32mis\u001b[0m \u001b[0;32mnot\u001b[0m \u001b[0m_helper_reraises_exception\u001b[0m\u001b[0;34m:\u001b[0m\u001b[0;34m\u001b[0m\u001b[0;34m\u001b[0m\u001b[0m\n",
      "\u001b[0;32m~/.local/lib/python3.8/site-packages/tf_agents/environments/tf_py_environment.py\u001b[0m in \u001b[0;36m_step_py\u001b[0;34m(*flattened_actions)\u001b[0m\n\u001b[1;32m    312\u001b[0m         packed = tf.nest.pack_sequence_as(\n\u001b[1;32m    313\u001b[0m             structure=self.action_spec(), flat_sequence=flattened_actions)\n\u001b[0;32m--> 314\u001b[0;31m         \u001b[0mself\u001b[0m\u001b[0;34m.\u001b[0m\u001b[0m_time_step\u001b[0m \u001b[0;34m=\u001b[0m \u001b[0mself\u001b[0m\u001b[0;34m.\u001b[0m\u001b[0m_env\u001b[0m\u001b[0;34m.\u001b[0m\u001b[0mstep\u001b[0m\u001b[0;34m(\u001b[0m\u001b[0mpacked\u001b[0m\u001b[0;34m)\u001b[0m\u001b[0;34m\u001b[0m\u001b[0;34m\u001b[0m\u001b[0m\n\u001b[0m\u001b[1;32m    315\u001b[0m         \u001b[0;32mreturn\u001b[0m \u001b[0mtf\u001b[0m\u001b[0;34m.\u001b[0m\u001b[0mnest\u001b[0m\u001b[0;34m.\u001b[0m\u001b[0mflatten\u001b[0m\u001b[0;34m(\u001b[0m\u001b[0mself\u001b[0m\u001b[0;34m.\u001b[0m\u001b[0m_time_step\u001b[0m\u001b[0;34m)\u001b[0m\u001b[0;34m\u001b[0m\u001b[0;34m\u001b[0m\u001b[0m\n\u001b[1;32m    316\u001b[0m \u001b[0;34m\u001b[0m\u001b[0m\n",
      "\u001b[0;32m~/.local/lib/python3.8/site-packages/tf_agents/environments/py_environment.py\u001b[0m in \u001b[0;36mstep\u001b[0;34m(self, action)\u001b[0m\n\u001b[1;32m    201\u001b[0m       \u001b[0;32mreturn\u001b[0m \u001b[0mself\u001b[0m\u001b[0;34m.\u001b[0m\u001b[0mreset\u001b[0m\u001b[0;34m(\u001b[0m\u001b[0;34m)\u001b[0m\u001b[0;34m\u001b[0m\u001b[0;34m\u001b[0m\u001b[0m\n\u001b[1;32m    202\u001b[0m \u001b[0;34m\u001b[0m\u001b[0m\n\u001b[0;32m--> 203\u001b[0;31m     \u001b[0mself\u001b[0m\u001b[0;34m.\u001b[0m\u001b[0m_current_time_step\u001b[0m \u001b[0;34m=\u001b[0m \u001b[0mself\u001b[0m\u001b[0;34m.\u001b[0m\u001b[0m_step\u001b[0m\u001b[0;34m(\u001b[0m\u001b[0maction\u001b[0m\u001b[0;34m)\u001b[0m\u001b[0;34m\u001b[0m\u001b[0;34m\u001b[0m\u001b[0m\n\u001b[0m\u001b[1;32m    204\u001b[0m     \u001b[0;32mreturn\u001b[0m \u001b[0mself\u001b[0m\u001b[0;34m.\u001b[0m\u001b[0m_current_time_step\u001b[0m\u001b[0;34m\u001b[0m\u001b[0;34m\u001b[0m\u001b[0m\n\u001b[1;32m    205\u001b[0m \u001b[0;34m\u001b[0m\u001b[0m\n",
      "\u001b[0;32m~/.local/lib/python3.8/site-packages/tf_agents/environments/batched_py_environment.py\u001b[0m in \u001b[0;36m_step\u001b[0;34m(self, actions)\u001b[0m\n\u001b[1;32m    167\u001b[0m       \u001b[0;32mreturn\u001b[0m \u001b[0mnest_utils\u001b[0m\u001b[0;34m.\u001b[0m\u001b[0mbatch_nested_array\u001b[0m\u001b[0;34m(\u001b[0m\u001b[0mtime_steps\u001b[0m\u001b[0;34m)\u001b[0m\u001b[0;34m\u001b[0m\u001b[0;34m\u001b[0m\u001b[0m\n\u001b[1;32m    168\u001b[0m     \u001b[0;32melse\u001b[0m\u001b[0;34m:\u001b[0m\u001b[0;34m\u001b[0m\u001b[0;34m\u001b[0m\u001b[0m\n\u001b[0;32m--> 169\u001b[0;31m       \u001b[0munstacked_actions\u001b[0m \u001b[0;34m=\u001b[0m \u001b[0munstack_actions\u001b[0m\u001b[0;34m(\u001b[0m\u001b[0mactions\u001b[0m\u001b[0;34m)\u001b[0m\u001b[0;34m\u001b[0m\u001b[0;34m\u001b[0m\u001b[0m\n\u001b[0m\u001b[1;32m    170\u001b[0m       \u001b[0;32mif\u001b[0m \u001b[0mlen\u001b[0m\u001b[0;34m(\u001b[0m\u001b[0munstacked_actions\u001b[0m\u001b[0;34m)\u001b[0m \u001b[0;34m!=\u001b[0m \u001b[0mself\u001b[0m\u001b[0;34m.\u001b[0m\u001b[0mbatch_size\u001b[0m\u001b[0;34m:\u001b[0m\u001b[0;34m\u001b[0m\u001b[0;34m\u001b[0m\u001b[0m\n\u001b[1;32m    171\u001b[0m         raise ValueError(\n",
      "\u001b[0;32m~/.local/lib/python3.8/site-packages/tf_agents/environments/batched_py_environment.py\u001b[0m in \u001b[0;36munstack_actions\u001b[0;34m(batched_actions)\u001b[0m\n\u001b[1;32m    198\u001b[0m   unstacked_actions = [\n\u001b[1;32m    199\u001b[0m       \u001b[0mtf\u001b[0m\u001b[0;34m.\u001b[0m\u001b[0mnest\u001b[0m\u001b[0;34m.\u001b[0m\u001b[0mpack_sequence_as\u001b[0m\u001b[0;34m(\u001b[0m\u001b[0mbatched_actions\u001b[0m\u001b[0;34m,\u001b[0m \u001b[0mactions\u001b[0m\u001b[0;34m)\u001b[0m\u001b[0;34m\u001b[0m\u001b[0;34m\u001b[0m\u001b[0m\n\u001b[0;32m--> 200\u001b[0;31m       \u001b[0;32mfor\u001b[0m \u001b[0mactions\u001b[0m \u001b[0;32min\u001b[0m \u001b[0mzip\u001b[0m\u001b[0;34m(\u001b[0m\u001b[0;34m*\u001b[0m\u001b[0mflattened_actions\u001b[0m\u001b[0;34m)\u001b[0m\u001b[0;34m\u001b[0m\u001b[0;34m\u001b[0m\u001b[0m\n\u001b[0m\u001b[1;32m    201\u001b[0m   ]\n\u001b[1;32m    202\u001b[0m   \u001b[0;32mreturn\u001b[0m \u001b[0munstacked_actions\u001b[0m\u001b[0;34m\u001b[0m\u001b[0;34m\u001b[0m\u001b[0m\n",
      "\u001b[0;31mTypeError\u001b[0m: iteration over a 0-d array"
     ]
    }
   ],
   "source": [
    "state = tf_env.step(0)"
   ]
  },
  {
   "cell_type": "code",
   "execution_count": null,
   "metadata": {},
   "outputs": [],
   "source": []
  },
  {
   "cell_type": "code",
   "execution_count": null,
   "metadata": {},
   "outputs": [],
   "source": [
    "st = env.reset()"
   ]
  },
  {
   "cell_type": "code",
   "execution_count": null,
   "metadata": {},
   "outputs": [],
   "source": [
    "st[0].shape"
   ]
  },
  {
   "cell_type": "code",
   "execution_count": null,
   "metadata": {},
   "outputs": [],
   "source": [
    "st"
   ]
  },
  {
   "cell_type": "code",
   "execution_count": null,
   "metadata": {},
   "outputs": [],
   "source": [
    "random_collect_policy.action(state)"
   ]
  },
  {
   "cell_type": "code",
   "execution_count": null,
   "metadata": {},
   "outputs": [],
   "source": [
    "import tf_agents.utils\n",
    "tf_agents.utils.nest_utils.get_outer_shape(state,  tf_env.time_step_spec())"
   ]
  },
  {
   "cell_type": "code",
   "execution_count": null,
   "metadata": {},
   "outputs": [],
   "source": [
    "agent.training_data_spec"
   ]
  },
  {
   "cell_type": "code",
   "execution_count": null,
   "metadata": {},
   "outputs": [],
   "source": [
    "tf_env.observation_spec()[1].minimum"
   ]
  },
  {
   "cell_type": "code",
   "execution_count": null,
   "metadata": {},
   "outputs": [],
   "source": []
  }
 ],
 "metadata": {
  "kernelspec": {
   "display_name": "rl",
   "language": "python",
   "name": "rl"
  },
  "language_info": {
   "codemirror_mode": {
    "name": "ipython",
    "version": 3
   },
   "file_extension": ".py",
   "mimetype": "text/x-python",
   "name": "python",
   "nbconvert_exporter": "python",
   "pygments_lexer": "ipython3",
   "version": "3.8.8"
  }
 },
 "nbformat": 4,
 "nbformat_minor": 4
}
