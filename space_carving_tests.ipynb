{
 "cells": [
  {
   "cell_type": "code",
   "execution_count": 1,
   "id": "angry-mandate",
   "metadata": {},
   "outputs": [],
   "source": [
    "import open3d as o3d\n",
    "import cl\n",
    "import utils as ut\n",
    "import numpy as np\n",
    "from skimage.morphology import binary_dilation\n",
    "import proc3d\n",
    "import json\n",
    "from PIL import Image\n",
    "from utils import *\n",
    "import glob\n",
    "import os\n",
    "%matplotlib widget \n",
    "#%matplotlib inline\n",
    "import matplotlib\n",
    "import matplotlib.pyplot as plt"
   ]
  },
  {
   "cell_type": "code",
   "execution_count": 6,
   "id": "personalized-charles",
   "metadata": {},
   "outputs": [],
   "source": [
    "class space_carving():\n",
    "    def __init__(self, dataset_path):\n",
    "        self.images = self.load_images(os.path.join(dataset_path, 'imgs'))\n",
    "        self.extrinsics = self.load_extrinsics(os.path.join(dataset_path, 'extrinsics'))\n",
    "        #self.bbox = json.load(open(os.path.join(dataset_path, 'bbox.json')))\n",
    "        self.bbox = json.load(open(os.path.join(dataset_path, '/home/pico/uni/romi/scanner_cube/bbox_min_max.json')))\n",
    "        \n",
    "        self.camera_model = json.load(open(os.path.join(dataset_path, 'camera_model.json')))\n",
    "        self.intrinsics= self.camera_model['params'][0:4]\n",
    "        \n",
    "        params = json.load(open(os.path.join(dataset_path, 'params.json')))\n",
    "        self.gt=o3d.io.read_point_cloud(params[\"gt_path\"])\n",
    "        self.gt_points = np.asarray(self.gt.points)\n",
    "        self.n_dilation=params[\"sc\"][\"n_dilation\"]\n",
    "        self.voxel_size = params['sc']['voxel_size']\n",
    "        \n",
    "        self.set_sc(self.bbox)\n",
    "        \n",
    "    def reset(self):\n",
    "        del(self.sc)\n",
    "        self.set_sc(self.bbox) \n",
    "        \n",
    "    def load_extrinsics(self,path):\n",
    "        ext = []\n",
    "        ext_files = glob.glob(os.path.join(path, '*.json'))\n",
    "        assert len(ext_files) != 0,\"json list is empty.\"\n",
    "        for i in sorted(ext_files):                                                                                                                                     \n",
    "            ext.append(json.load(open(i)))                                                                                                                                                                                                                                                  \n",
    "        return ext \n",
    "    \n",
    "    def load_images(self,path):                                                                                                                                         \n",
    "        imgs = []\n",
    "        img_files = glob.glob(os.path.join(path, '*.png')) #get all .png files from folder path\n",
    "        assert len(img_files) != 0,\"Image list is empty.\"\n",
    "        for i in sorted(img_files):                                                                                                                                     \n",
    "            img = Image.open(i)                                                                                                                                      \n",
    "            imgs.append(img.copy())                                                                                                                                     \n",
    "            img.close()                                                                                                                                                                                                                                                   \n",
    "        return imgs\n",
    "\n",
    "    def set_sc(self,bbox):\n",
    "        x_min, x_max = bbox['x']\n",
    "        y_min, y_max = bbox['y']\n",
    "        z_min, z_max = bbox['z']\n",
    "\n",
    "        nx = int((x_max - x_min) / self.voxel_size) + 1\n",
    "        ny = int((y_max - y_min) / self.voxel_size) + 1\n",
    "        nz = int((z_max - z_min) / self.voxel_size) + 1\n",
    "        \n",
    "        print(nx,ny,nz)\n",
    "\n",
    "        self.origin = np.array([x_min, y_min, z_min])\n",
    "        self.sc = cl.Backprojection([nx, ny, nz], [x_min, y_min, z_min], self.voxel_size)\n",
    "\n",
    "    def carve(self,idx):\n",
    "        self.space_carve(self.images[idx], self.extrinsics[idx])\n",
    "        \n",
    "    def space_carve(self, im, rt):\n",
    "        mask = get_mask(im)\n",
    "        rot = sum(rt['R'], [])\n",
    "        tvec = rt['T']\n",
    "        if self.n_dilation:\n",
    "            for k in range(self.n_dilation): mask = binary_dilation(mask)    \n",
    "        self.sc.process_view(self.intrinsics, rot, tvec, mask)\n",
    "        \n",
    "    def dist_to_gt(self):\n",
    "        vol = self.sc.values().copy()\n",
    "        vol = vol.reshape(self.sc.shape)\n",
    "        pcd=proc3d.vol2pcd_exp(vol, self.origin, self.voxel_size, level_set_value=0) \n",
    "        pcd_p = np.asarray(pcd.points)\n",
    "        cd=chamfer_d(self.gt_points , pcd_p)\n",
    "        return cd"
   ]
  },
  {
   "cell_type": "code",
   "execution_count": 7,
   "id": "strategic-italic",
   "metadata": {},
   "outputs": [],
   "source": [
    "class space_carving_2():\n",
    "    def __init__(self, dataset_path):\n",
    "        self.img_files = sorted (glob.glob(os.path.join(dataset_path, 'imgs', '*.png')) )#get all .png file names from folder path\n",
    "        self.extrinsics = self.load_extrinsics(os.path.join(dataset_path, 'extrinsics'))\n",
    "        #self.bbox = json.load(open(os.path.join(dataset_path, 'bbox.json')))\n",
    "        self.bbox = json.load(open(os.path.join(dataset_path, '/home/pico/uni/romi/scanner_cube/bbox_min_max.json')))\n",
    "        self.camera_model = json.load(open(os.path.join(dataset_path, 'camera_model.json')))\n",
    "        self.intrinsics= self.camera_model['params'][0:4]\n",
    "        \n",
    "        params = json.load(open(os.path.join(dataset_path, 'params.json')))\n",
    "        self.gt=o3d.io.read_point_cloud(params[\"gt_path\"])\n",
    "        self.gt_points = np.asarray(self.gt.points)\n",
    "        self.n_dilation=params[\"sc\"][\"n_dilation\"]\n",
    "        self.voxel_size = params['sc']['voxel_size']\n",
    "        \n",
    "        self.set_sc(self.bbox)\n",
    "        \n",
    "    def reset(self):\n",
    "        del(self.sc)\n",
    "        self.set_sc(self.bbox) \n",
    "        \n",
    "    def load_extrinsics(self,path):\n",
    "        ext = []\n",
    "        ext_files = glob.glob(os.path.join(path, '*.json'))\n",
    "        assert len(ext_files) != 0,\"json list is empty.\"\n",
    "        for i in sorted(ext_files):                                                                                                                                     \n",
    "            ext.append(json.load(open(i)))                                                                                                                                                                                                                                                  \n",
    "        return ext \n",
    "    \n",
    "    def load_image(self,idx):                                                                                                                                         \n",
    "        img = Image.open(self.img_files[idx])                                                                                                                                      \n",
    "        cp = img.copy()                                                                                                                                 \n",
    "        img.close()                                                                                                                                                                                                                                                   \n",
    "        return cp\n",
    "\n",
    "    def set_sc(self,bbox):\n",
    "        x_min, x_max = bbox['x']\n",
    "        y_min, y_max = bbox['y']\n",
    "        z_min, z_max = bbox['z']\n",
    "\n",
    "        nx = int((x_max - x_min) / self.voxel_size) + 1\n",
    "        ny = int((y_max - y_min) / self.voxel_size) + 1\n",
    "        nz = int((z_max - z_min) / self.voxel_size) + 1\n",
    "\n",
    "        self.origin = np.array([x_min, y_min, z_min])\n",
    "        self.sc = cl.Backprojection([nx, ny, nz], [x_min, y_min, z_min], self.voxel_size)\n",
    "\n",
    "    def carve(self,idx):\n",
    "        im = self.load_image(idx)\n",
    "        self.space_carve(im, self.extrinsics[idx])\n",
    "        \n",
    "    def space_carve(self, im, rt):\n",
    "        mask = get_mask(im)\n",
    "        rot = sum(rt['R'], [])\n",
    "        tvec = rt['T']\n",
    "        if self.n_dilation:\n",
    "            for k in range(self.n_dilation): mask = binary_dilation(mask)    \n",
    "        self.sc.process_view(self.intrinsics, rot, tvec, mask)\n",
    "        \n",
    "    def dist_to_gt(self):\n",
    "        vol = self.sc.values().copy()\n",
    "        vol = vol.reshape(self.sc.shape)\n",
    "        pcd=proc3d.vol2pcd_exp(vol, self.origin, self.voxel_size, level_set_value=0) \n",
    "        pcd_p = np.asarray(pcd.points)\n",
    "        cd=chamfer_d(self.gt_points , pcd_p)\n",
    "        return cd"
   ]
  },
  {
   "cell_type": "code",
   "execution_count": 96,
   "id": "affected-basis",
   "metadata": {},
   "outputs": [
    {
     "data": {
      "application/vnd.jupyter.widget-view+json": {
       "model_id": "a04ce20df7b547cdbee76e7c8cdd46a5",
       "version_major": 2,
       "version_minor": 0
      },
      "text/plain": [
       "Canvas(toolbar=Toolbar(toolitems=[('Home', 'Reset original view', 'home', 'home'), ('Back', 'Back to previous …"
      ]
     },
     "metadata": {},
     "output_type": "display_data"
    }
   ],
   "source": [
    "#data_path = '/home/pico/uni/romi/scanner_cube/arabidopsis_im_bigger/000'\n",
    "#spc = space_carving(data_path)\n",
    "\n",
    "#for i in range(180):\n",
    "#    spc.carve(i)\n",
    "\n",
    "# for creating a responsive plot\n",
    "%matplotlib widget\n",
    "  \n",
    "# importing required libraries\n",
    "from mpl_toolkits.mplot3d import Axes3D\n",
    "import matplotlib.pyplot as plt\n",
    "  \n",
    "x,y,z = np.where(spc.sc.values()[:64,:64,:128]==1)\n",
    "  \n",
    "# creating figure\n",
    "fig = plt.figure()\n",
    "ax = Axes3D(fig)\n",
    "\n",
    "#ax.set_xlim3d(0, 70)\n",
    "#ax.set_ylim3d(0, 70)\n",
    "#ax.set_zlim3d(0, 152)\n",
    "  \n",
    "# creating the plot\n",
    "plot_geeks = ax.scatter(x, y, z, color='green',s=1)\n",
    "\n",
    "x,y,z = np.where(spc.sc.values()==0)\n",
    "#plot_geeks = ax.scatter(x, y, z, color='red',s=1)\n",
    "  \n",
    "# setting title and labels\n",
    "ax.set_title(\"3D plot\")\n",
    "ax.set_xlabel('x-axis')\n",
    "ax.set_ylabel('y-axis')\n",
    "ax.set_zlabel('z-axis')\n",
    "ax.grid()\n",
    "  \n",
    "# displaying the plot\n",
    "plt.show()"
   ]
  },
  {
   "cell_type": "code",
   "execution_count": 108,
   "id": "polish-processor",
   "metadata": {},
   "outputs": [
    {
     "data": {
      "text/plain": [
       "(array([2251293,    9798,   17997]),\n",
       " array([-1.        , -0.33333333,  0.33333333,  1.        ]))"
      ]
     },
     "execution_count": 108,
     "metadata": {},
     "output_type": "execute_result"
    }
   ],
   "source": [
    "np.histogram(spc.sc.values(), bins=3)"
   ]
  },
  {
   "cell_type": "code",
   "execution_count": 94,
   "id": "determined-slovak",
   "metadata": {},
   "outputs": [
    {
     "name": "stderr",
     "output_type": "stream",
     "text": [
      "INFO - 2021-09-20 23:38:01,409 - __init__ - build program: kernel 'carve' was part of a lengthy source build resulting from a binary cache miss (0.22 s)\n"
     ]
    }
   ],
   "source": [
    "data_path = '/home/pico/uni/romi/scanner_cube/arabidopsis_im_bigger/006'#'/home/pico/uni/romi/rl_sony/scanner_cube/arabidopsis_im_bigger/001'\n",
    "spc = space_carving_2(data_path)"
   ]
  },
  {
   "cell_type": "code",
   "execution_count": 12,
   "id": "hidden-throat",
   "metadata": {},
   "outputs": [
    {
     "name": "stdout",
     "output_type": "stream",
     "text": [
      "[471206  81731 129239]\n"
     ]
    }
   ],
   "source": [
    "spc.carve(160)\n",
    "print(np.histogram(spc.sc.values(), bins=3)[0])"
   ]
  },
  {
   "cell_type": "code",
   "execution_count": 101,
   "id": "determined-briefs",
   "metadata": {},
   "outputs": [
    {
     "name": "stdout",
     "output_type": "stream",
     "text": [
      "[      0 2279088       0]\n"
     ]
    }
   ],
   "source": [
    "print(np.histogram(spc.sc.values(), bins=3)[0])"
   ]
  },
  {
   "cell_type": "code",
   "execution_count": 89,
   "id": "surprising-milan",
   "metadata": {
    "scrolled": true
   },
   "outputs": [
    {
     "name": "stdout",
     "output_type": "stream",
     "text": [
      "0 [449666 177999  54511] 449666\n",
      "40 [523290 147790  11096] 73624\n",
      "80 [619673  56545   5958] 96383\n",
      "120 [663191  14859   4126] 43518\n",
      "160 [666321  12993   2862] 3130\n"
     ]
    }
   ],
   "source": [
    "ant = 0\n",
    "for i in range(0,180,40):\n",
    "    spc.carve(i)\n",
    "    h = np.histogram(spc.sc.values(), bins=3)\n",
    "    print(i,h[0],h[0][0]-ant)\n",
    "    ant=h[0][0]"
   ]
  },
  {
   "cell_type": "code",
   "execution_count": 95,
   "id": "noticed-slovakia",
   "metadata": {},
   "outputs": [
    {
     "name": "stdout",
     "output_type": "stream",
     "text": [
      "76 [361287 275399  45490]\n",
      "140 [612176  34789  35211]\n",
      "39 [633134  22584  26458]\n",
      "29 [640268  19192  22716]\n",
      "96 [656108  16650   9418]\n",
      "172 [664441  12736   4999]\n",
      "2 [667348  12501   2327]\n",
      "23 [667539  12427   2210]\n",
      "100 [667793  12229   2154]\n",
      "89 [667906  12194   2076]\n"
     ]
    }
   ],
   "source": [
    "pos = np.random.randint(180, size=10)\n",
    "\n",
    "for i in pos:\n",
    "    spc.carve(i)\n",
    "    print(i,np.histogram(spc.sc.values(), bins=3)[0])\n"
   ]
  },
  {
   "cell_type": "code",
   "execution_count": 13,
   "id": "adolescent-language",
   "metadata": {},
   "outputs": [
    {
     "data": {
      "text/plain": [
       "(66, 68, 152)"
      ]
     },
     "execution_count": 13,
     "metadata": {},
     "output_type": "execute_result"
    }
   ],
   "source": [
    "spc.sc.values().shape"
   ]
  },
  {
   "cell_type": "code",
   "execution_count": 41,
   "id": "significant-mobility",
   "metadata": {
    "scrolled": true
   },
   "outputs": [
    {
     "name": "stderr",
     "output_type": "stream",
     "text": [
      "INFO - 2021-09-20 20:50:32,082 - __init__ - build program: kernel 'carve' was part of a lengthy source build resulting from a binary cache miss (0.22 s)\n",
      "INFO - 2021-09-20 20:50:41,206 - __init__ - build program: kernel 'carve' was part of a lengthy source build resulting from a binary cache miss (0.22 s)\n",
      "INFO - 2021-09-20 20:50:50,239 - __init__ - build program: kernel 'carve' was part of a lengthy source build resulting from a binary cache miss (0.22 s)\n"
     ]
    },
    {
     "name": "stdout",
     "output_type": "stream",
     "text": [
      "\u001b[1;33m[Open3D WARNING] Read PLY failed: unable to open file: /home/pico/dataset_arabidopsis3d/arabidopsis_2_gt.ply\u001b[0;m\n"
     ]
    },
    {
     "name": "stderr",
     "output_type": "stream",
     "text": [
      "INFO - 2021-09-20 20:50:59,211 - __init__ - build program: kernel 'carve' was part of a lengthy source build resulting from a binary cache miss (0.22 s)\n",
      "INFO - 2021-09-20 20:51:08,261 - __init__ - build program: kernel 'carve' was part of a lengthy source build resulting from a binary cache miss (0.22 s)\n"
     ]
    },
    {
     "name": "stdout",
     "output_type": "stream",
     "text": [
      "\u001b[1;33m[Open3D WARNING] Read PLY failed: unable to open file: /home/pico/dataset_arabidopsis3d/arabidopsis_4_gt.ply\u001b[0;m\n"
     ]
    },
    {
     "name": "stderr",
     "output_type": "stream",
     "text": [
      "INFO - 2021-09-20 20:51:17,354 - __init__ - build program: kernel 'carve' was part of a lengthy source build resulting from a binary cache miss (0.22 s)\n"
     ]
    },
    {
     "name": "stdout",
     "output_type": "stream",
     "text": [
      "\u001b[1;33m[Open3D WARNING] Read PLY failed: unable to open file: /home/pico/dataset_arabidopsis3d/arabidopsis_5_gt.ply\u001b[0;m\n"
     ]
    },
    {
     "name": "stderr",
     "output_type": "stream",
     "text": [
      "INFO - 2021-09-20 20:51:26,446 - __init__ - build program: kernel 'carve' was part of a lengthy source build resulting from a binary cache miss (0.22 s)\n",
      "INFO - 2021-09-20 20:51:35,605 - __init__ - build program: kernel 'carve' was part of a lengthy source build resulting from a binary cache miss (0.22 s)\n"
     ]
    },
    {
     "name": "stdout",
     "output_type": "stream",
     "text": [
      "\u001b[1;33m[Open3D WARNING] Read PLY failed: unable to open file: /home/pico/dataset_arabidopsis3d/arabidopsis_7_gt.ply\u001b[0;m\n"
     ]
    },
    {
     "name": "stderr",
     "output_type": "stream",
     "text": [
      "INFO - 2021-09-20 20:51:44,814 - __init__ - build program: kernel 'carve' was part of a lengthy source build resulting from a binary cache miss (0.22 s)\n"
     ]
    },
    {
     "name": "stdout",
     "output_type": "stream",
     "text": [
      "\u001b[1;33m[Open3D WARNING] Read PLY failed: unable to open file: /home/pico/dataset_arabidopsis3d/arabidopsis_8_gt.ply\u001b[0;m\n"
     ]
    },
    {
     "name": "stderr",
     "output_type": "stream",
     "text": [
      "INFO - 2021-09-20 20:51:54,105 - __init__ - build program: kernel 'carve' was part of a lengthy source build resulting from a binary cache miss (0.22 s)\n",
      "INFO - 2021-09-20 20:52:03,435 - __init__ - build program: kernel 'carve' was part of a lengthy source build resulting from a binary cache miss (0.22 s)\n"
     ]
    },
    {
     "name": "stdout",
     "output_type": "stream",
     "text": [
      "\u001b[1;33m[Open3D WARNING] Read PLY failed: unable to open file: /home/pico/dataset_arabidopsis3d/arabidopsis_10_gt.ply\u001b[0;m\n"
     ]
    },
    {
     "name": "stderr",
     "output_type": "stream",
     "text": [
      "INFO - 2021-09-20 20:52:12,771 - __init__ - build program: kernel 'carve' was part of a lengthy source build resulting from a binary cache miss (0.22 s)\n"
     ]
    },
    {
     "name": "stdout",
     "output_type": "stream",
     "text": [
      "\u001b[1;33m[Open3D WARNING] Read PLY failed: unable to open file: /home/pico/dataset_arabidopsis3d/arabidopsis_11_gt.ply\u001b[0;m\n"
     ]
    },
    {
     "name": "stderr",
     "output_type": "stream",
     "text": [
      "INFO - 2021-09-20 20:52:22,168 - __init__ - build program: kernel 'carve' was part of a lengthy source build resulting from a binary cache miss (0.22 s)\n"
     ]
    },
    {
     "name": "stdout",
     "output_type": "stream",
     "text": [
      "\u001b[1;33m[Open3D WARNING] Read PLY failed: unable to open file: /home/pico/dataset_arabidopsis3d/arabidopsis_12_gt.ply\u001b[0;m\n"
     ]
    },
    {
     "name": "stderr",
     "output_type": "stream",
     "text": [
      "INFO - 2021-09-20 20:52:31,643 - __init__ - build program: kernel 'carve' was part of a lengthy source build resulting from a binary cache miss (0.22 s)\n"
     ]
    },
    {
     "name": "stdout",
     "output_type": "stream",
     "text": [
      "\u001b[1;33m[Open3D WARNING] Read PLY failed: unable to open file: /home/pico/dataset_arabidopsis3d/arabidopsis_13_gt.ply\u001b[0;m\n"
     ]
    },
    {
     "name": "stderr",
     "output_type": "stream",
     "text": [
      "INFO - 2021-09-20 20:52:41,078 - __init__ - build program: kernel 'carve' was part of a lengthy source build resulting from a binary cache miss (0.22 s)\n"
     ]
    },
    {
     "name": "stdout",
     "output_type": "stream",
     "text": [
      "\u001b[1;33m[Open3D WARNING] Read PLY failed: unable to open file: /home/pico/dataset_arabidopsis3d/arabidopsis_14_gt.ply\u001b[0;m\n"
     ]
    },
    {
     "name": "stderr",
     "output_type": "stream",
     "text": [
      "INFO - 2021-09-20 20:52:50,519 - __init__ - build program: kernel 'carve' was part of a lengthy source build resulting from a binary cache miss (0.22 s)\n"
     ]
    },
    {
     "name": "stdout",
     "output_type": "stream",
     "text": [
      "\u001b[1;33m[Open3D WARNING] Read PLY failed: unable to open file: /home/pico/dataset_arabidopsis3d/arabidopsis_15_gt.ply\u001b[0;m\n"
     ]
    },
    {
     "name": "stderr",
     "output_type": "stream",
     "text": [
      "INFO - 2021-09-20 20:52:59,932 - __init__ - build program: kernel 'carve' was part of a lengthy source build resulting from a binary cache miss (0.22 s)\n"
     ]
    },
    {
     "name": "stdout",
     "output_type": "stream",
     "text": [
      "\u001b[1;33m[Open3D WARNING] Read PLY failed: unable to open file: /home/pico/dataset_arabidopsis3d/arabidopsis_16_gt.ply\u001b[0;m\n"
     ]
    },
    {
     "name": "stderr",
     "output_type": "stream",
     "text": [
      "INFO - 2021-09-20 20:53:09,381 - __init__ - build program: kernel 'carve' was part of a lengthy source build resulting from a binary cache miss (0.22 s)\n"
     ]
    },
    {
     "name": "stdout",
     "output_type": "stream",
     "text": [
      "\u001b[1;33m[Open3D WARNING] Read PLY failed: unable to open file: /home/pico/dataset_arabidopsis3d/arabidopsis_17_gt.ply\u001b[0;m\n"
     ]
    },
    {
     "name": "stderr",
     "output_type": "stream",
     "text": [
      "INFO - 2021-09-20 20:53:18,756 - __init__ - build program: kernel 'carve' was part of a lengthy source build resulting from a binary cache miss (0.22 s)\n"
     ]
    },
    {
     "name": "stdout",
     "output_type": "stream",
     "text": [
      "\u001b[1;33m[Open3D WARNING] Read PLY failed: unable to open file: /home/pico/dataset_arabidopsis3d/arabidopsis_18_gt.ply\u001b[0;m\n"
     ]
    },
    {
     "name": "stderr",
     "output_type": "stream",
     "text": [
      "INFO - 2021-09-20 20:53:28,155 - __init__ - build program: kernel 'carve' was part of a lengthy source build resulting from a binary cache miss (0.22 s)\n"
     ]
    },
    {
     "name": "stdout",
     "output_type": "stream",
     "text": [
      "\u001b[1;33m[Open3D WARNING] Read PLY failed: unable to open file: /home/pico/dataset_arabidopsis3d/arabidopsis_19_gt.ply\u001b[0;m\n"
     ]
    },
    {
     "name": "stderr",
     "output_type": "stream",
     "text": [
      "INFO - 2021-09-20 20:53:37,537 - __init__ - build program: kernel 'carve' was part of a lengthy source build resulting from a binary cache miss (0.22 s)\n"
     ]
    },
    {
     "name": "stdout",
     "output_type": "stream",
     "text": [
      "\u001b[1;33m[Open3D WARNING] Read PLY failed: unable to open file: /home/pico/dataset_arabidopsis3d/arabidopsis_20_gt.ply\u001b[0;m\n"
     ]
    },
    {
     "name": "stderr",
     "output_type": "stream",
     "text": [
      "INFO - 2021-09-20 20:53:46,944 - __init__ - build program: kernel 'carve' was part of a lengthy source build resulting from a binary cache miss (0.22 s)\n"
     ]
    },
    {
     "name": "stdout",
     "output_type": "stream",
     "text": [
      "\u001b[1;33m[Open3D WARNING] Read PLY failed: unable to open file: /home/pico/dataset_arabidopsis3d/arabidopsis_21_gt.ply\u001b[0;m\n"
     ]
    },
    {
     "name": "stderr",
     "output_type": "stream",
     "text": [
      "INFO - 2021-09-20 20:53:56,302 - __init__ - build program: kernel 'carve' was part of a lengthy source build resulting from a binary cache miss (0.22 s)\n"
     ]
    },
    {
     "name": "stdout",
     "output_type": "stream",
     "text": [
      "\u001b[1;33m[Open3D WARNING] Read PLY failed: unable to open file: /home/pico/dataset_arabidopsis3d/arabidopsis_22_gt.ply\u001b[0;m\n"
     ]
    },
    {
     "name": "stderr",
     "output_type": "stream",
     "text": [
      "INFO - 2021-09-20 20:54:05,709 - __init__ - build program: kernel 'carve' was part of a lengthy source build resulting from a binary cache miss (0.22 s)\n"
     ]
    },
    {
     "name": "stdout",
     "output_type": "stream",
     "text": [
      "\u001b[1;33m[Open3D WARNING] Read PLY failed: unable to open file: /home/pico/dataset_arabidopsis3d/arabidopsis_23_gt.ply\u001b[0;m\n"
     ]
    },
    {
     "name": "stderr",
     "output_type": "stream",
     "text": [
      "INFO - 2021-09-20 20:54:15,094 - __init__ - build program: kernel 'carve' was part of a lengthy source build resulting from a binary cache miss (0.22 s)\n"
     ]
    },
    {
     "name": "stdout",
     "output_type": "stream",
     "text": [
      "\u001b[1;33m[Open3D WARNING] Read PLY failed: unable to open file: /home/pico/dataset_arabidopsis3d/arabidopsis_24_gt.ply\u001b[0;m\n"
     ]
    },
    {
     "name": "stderr",
     "output_type": "stream",
     "text": [
      "INFO - 2021-09-20 20:54:24,462 - __init__ - build program: kernel 'carve' was part of a lengthy source build resulting from a binary cache miss (0.22 s)\n"
     ]
    },
    {
     "name": "stdout",
     "output_type": "stream",
     "text": [
      "\u001b[1;33m[Open3D WARNING] Read PLY failed: unable to open file: /home/pico/dataset_arabidopsis3d/arabidopsis_25_gt.ply\u001b[0;m\n"
     ]
    },
    {
     "name": "stderr",
     "output_type": "stream",
     "text": [
      "INFO - 2021-09-20 20:54:33,740 - __init__ - build program: kernel 'carve' was part of a lengthy source build resulting from a binary cache miss (0.22 s)\n"
     ]
    },
    {
     "name": "stdout",
     "output_type": "stream",
     "text": [
      "\u001b[1;33m[Open3D WARNING] Read PLY failed: unable to open file: /home/pico/dataset_arabidopsis3d/arabidopsis_26_gt.ply\u001b[0;m\n"
     ]
    },
    {
     "name": "stderr",
     "output_type": "stream",
     "text": [
      "INFO - 2021-09-20 20:54:43,207 - __init__ - build program: kernel 'carve' was part of a lengthy source build resulting from a binary cache miss (0.22 s)\n"
     ]
    },
    {
     "name": "stdout",
     "output_type": "stream",
     "text": [
      "\u001b[1;33m[Open3D WARNING] Read PLY failed: unable to open file: /home/pico/dataset_arabidopsis3d/arabidopsis_27_gt.ply\u001b[0;m\n"
     ]
    },
    {
     "name": "stderr",
     "output_type": "stream",
     "text": [
      "INFO - 2021-09-20 20:54:52,604 - __init__ - build program: kernel 'carve' was part of a lengthy source build resulting from a binary cache miss (0.22 s)\n"
     ]
    },
    {
     "name": "stdout",
     "output_type": "stream",
     "text": [
      "\u001b[1;33m[Open3D WARNING] Read PLY failed: unable to open file: /home/pico/dataset_arabidopsis3d/arabidopsis_28_gt.ply\u001b[0;m\n"
     ]
    },
    {
     "name": "stderr",
     "output_type": "stream",
     "text": [
      "INFO - 2021-09-20 20:55:02,068 - __init__ - build program: kernel 'carve' was part of a lengthy source build resulting from a binary cache miss (0.22 s)\n"
     ]
    },
    {
     "name": "stdout",
     "output_type": "stream",
     "text": [
      "\u001b[1;33m[Open3D WARNING] Read PLY failed: unable to open file: /home/pico/dataset_arabidopsis3d/arabidopsis_29_gt.ply\u001b[0;m\n"
     ]
    },
    {
     "name": "stderr",
     "output_type": "stream",
     "text": [
      "INFO - 2021-09-20 20:55:11,498 - __init__ - build program: kernel 'carve' was part of a lengthy source build resulting from a binary cache miss (0.22 s)\n"
     ]
    },
    {
     "name": "stdout",
     "output_type": "stream",
     "text": [
      "\u001b[1;33m[Open3D WARNING] Read PLY failed: unable to open file: /home/pico/dataset_arabidopsis3d/arabidopsis_30_gt.ply\u001b[0;m\n"
     ]
    },
    {
     "name": "stderr",
     "output_type": "stream",
     "text": [
      "INFO - 2021-09-20 20:55:20,811 - __init__ - build program: kernel 'carve' was part of a lengthy source build resulting from a binary cache miss (0.22 s)\n"
     ]
    },
    {
     "name": "stdout",
     "output_type": "stream",
     "text": [
      "\u001b[1;33m[Open3D WARNING] Read PLY failed: unable to open file: /home/pico/dataset_arabidopsis3d/arabidopsis_31_gt.ply\u001b[0;m\n"
     ]
    },
    {
     "name": "stderr",
     "output_type": "stream",
     "text": [
      "INFO - 2021-09-20 20:55:30,289 - __init__ - build program: kernel 'carve' was part of a lengthy source build resulting from a binary cache miss (0.22 s)\n"
     ]
    },
    {
     "name": "stdout",
     "output_type": "stream",
     "text": [
      "\u001b[1;33m[Open3D WARNING] Read PLY failed: unable to open file: /home/pico/dataset_arabidopsis3d/arabidopsis_32_gt.ply\u001b[0;m\n"
     ]
    },
    {
     "name": "stderr",
     "output_type": "stream",
     "text": [
      "INFO - 2021-09-20 20:55:39,734 - __init__ - build program: kernel 'carve' was part of a lengthy source build resulting from a binary cache miss (0.22 s)\n"
     ]
    },
    {
     "name": "stdout",
     "output_type": "stream",
     "text": [
      "\u001b[1;33m[Open3D WARNING] Read PLY failed: unable to open file: /home/pico/dataset_arabidopsis3d/arabidopsis_33_gt.ply\u001b[0;m\n"
     ]
    },
    {
     "name": "stderr",
     "output_type": "stream",
     "text": [
      "INFO - 2021-09-20 20:55:49,198 - __init__ - build program: kernel 'carve' was part of a lengthy source build resulting from a binary cache miss (0.22 s)\n"
     ]
    },
    {
     "name": "stdout",
     "output_type": "stream",
     "text": [
      "\u001b[1;33m[Open3D WARNING] Read PLY failed: unable to open file: /home/pico/dataset_arabidopsis3d/arabidopsis_34_gt.ply\u001b[0;m\n"
     ]
    },
    {
     "name": "stderr",
     "output_type": "stream",
     "text": [
      "INFO - 2021-09-20 20:55:58,652 - __init__ - build program: kernel 'carve' was part of a lengthy source build resulting from a binary cache miss (0.22 s)\n"
     ]
    },
    {
     "name": "stdout",
     "output_type": "stream",
     "text": [
      "\u001b[1;33m[Open3D WARNING] Read PLY failed: unable to open file: /home/pico/dataset_arabidopsis3d/arabidopsis_35_gt.ply\u001b[0;m\n"
     ]
    },
    {
     "name": "stderr",
     "output_type": "stream",
     "text": [
      "INFO - 2021-09-20 20:56:08,325 - __init__ - build program: kernel 'carve' was part of a lengthy source build resulting from a binary cache miss (0.22 s)\n"
     ]
    },
    {
     "name": "stdout",
     "output_type": "stream",
     "text": [
      "\u001b[1;33m[Open3D WARNING] Read PLY failed: unable to open file: /home/pico/dataset_arabidopsis3d/arabidopsis_36_gt.ply\u001b[0;m\n"
     ]
    },
    {
     "name": "stderr",
     "output_type": "stream",
     "text": [
      "INFO - 2021-09-20 20:56:17,941 - __init__ - build program: kernel 'carve' was part of a lengthy source build resulting from a binary cache miss (0.22 s)\n"
     ]
    },
    {
     "name": "stdout",
     "output_type": "stream",
     "text": [
      "\u001b[1;33m[Open3D WARNING] Read PLY failed: unable to open file: /home/pico/dataset_arabidopsis3d/arabidopsis_37_gt.ply\u001b[0;m\n"
     ]
    },
    {
     "name": "stderr",
     "output_type": "stream",
     "text": [
      "INFO - 2021-09-20 20:56:27,790 - __init__ - build program: kernel 'carve' was part of a lengthy source build resulting from a binary cache miss (0.22 s)\n"
     ]
    },
    {
     "name": "stdout",
     "output_type": "stream",
     "text": [
      "\u001b[1;33m[Open3D WARNING] Read PLY failed: unable to open file: /home/pico/dataset_arabidopsis3d/arabidopsis_38_gt.ply\u001b[0;m\n"
     ]
    },
    {
     "name": "stderr",
     "output_type": "stream",
     "text": [
      "INFO - 2021-09-20 20:56:37,550 - __init__ - build program: kernel 'carve' was part of a lengthy source build resulting from a binary cache miss (0.22 s)\n"
     ]
    },
    {
     "name": "stdout",
     "output_type": "stream",
     "text": [
      "\u001b[1;33m[Open3D WARNING] Read PLY failed: unable to open file: /home/pico/dataset_arabidopsis3d/arabidopsis_39_gt.ply\u001b[0;m\n"
     ]
    },
    {
     "name": "stderr",
     "output_type": "stream",
     "text": [
      "INFO - 2021-09-20 20:56:47,365 - __init__ - build program: kernel 'carve' was part of a lengthy source build resulting from a binary cache miss (0.22 s)\n"
     ]
    },
    {
     "name": "stdout",
     "output_type": "stream",
     "text": [
      "\u001b[1;33m[Open3D WARNING] Read PLY failed: unable to open file: /home/pico/dataset_arabidopsis3d/arabidopsis_40_gt.ply\u001b[0;m\n"
     ]
    },
    {
     "name": "stderr",
     "output_type": "stream",
     "text": [
      "INFO - 2021-09-20 20:56:57,155 - __init__ - build program: kernel 'carve' was part of a lengthy source build resulting from a binary cache miss (0.22 s)\n"
     ]
    },
    {
     "name": "stdout",
     "output_type": "stream",
     "text": [
      "\u001b[1;33m[Open3D WARNING] Read PLY failed: unable to open file: /home/pico/dataset_arabidopsis3d/arabidopsis_41_gt.ply\u001b[0;m\n"
     ]
    },
    {
     "name": "stderr",
     "output_type": "stream",
     "text": [
      "INFO - 2021-09-20 20:57:06,889 - __init__ - build program: kernel 'carve' was part of a lengthy source build resulting from a binary cache miss (0.22 s)\n"
     ]
    },
    {
     "name": "stdout",
     "output_type": "stream",
     "text": [
      "\u001b[1;33m[Open3D WARNING] Read PLY failed: unable to open file: /home/pico/dataset_arabidopsis3d/arabidopsis_42_gt.ply\u001b[0;m\n"
     ]
    },
    {
     "name": "stderr",
     "output_type": "stream",
     "text": [
      "INFO - 2021-09-20 20:57:16,614 - __init__ - build program: kernel 'carve' was part of a lengthy source build resulting from a binary cache miss (0.22 s)\n"
     ]
    },
    {
     "name": "stdout",
     "output_type": "stream",
     "text": [
      "\u001b[1;33m[Open3D WARNING] Read PLY failed: unable to open file: /home/pico/dataset_arabidopsis3d/arabidopsis_43_gt.ply\u001b[0;m\n"
     ]
    },
    {
     "name": "stderr",
     "output_type": "stream",
     "text": [
      "INFO - 2021-09-20 20:57:26,356 - __init__ - build program: kernel 'carve' was part of a lengthy source build resulting from a binary cache miss (0.22 s)\n"
     ]
    },
    {
     "name": "stdout",
     "output_type": "stream",
     "text": [
      "\u001b[1;33m[Open3D WARNING] Read PLY failed: unable to open file: /home/pico/dataset_arabidopsis3d/arabidopsis_44_gt.ply\u001b[0;m\n"
     ]
    },
    {
     "name": "stderr",
     "output_type": "stream",
     "text": [
      "INFO - 2021-09-20 20:57:36,257 - __init__ - build program: kernel 'carve' was part of a lengthy source build resulting from a binary cache miss (0.22 s)\n"
     ]
    },
    {
     "name": "stdout",
     "output_type": "stream",
     "text": [
      "\u001b[1;33m[Open3D WARNING] Read PLY failed: unable to open file: /home/pico/dataset_arabidopsis3d/arabidopsis_45_gt.ply\u001b[0;m\n"
     ]
    },
    {
     "name": "stderr",
     "output_type": "stream",
     "text": [
      "INFO - 2021-09-20 20:57:46,198 - __init__ - build program: kernel 'carve' was part of a lengthy source build resulting from a binary cache miss (0.22 s)\n"
     ]
    },
    {
     "name": "stdout",
     "output_type": "stream",
     "text": [
      "\u001b[1;33m[Open3D WARNING] Read PLY failed: unable to open file: /home/pico/dataset_arabidopsis3d/arabidopsis_46_gt.ply\u001b[0;m\n"
     ]
    },
    {
     "name": "stderr",
     "output_type": "stream",
     "text": [
      "INFO - 2021-09-20 20:57:56,351 - __init__ - build program: kernel 'carve' was part of a lengthy source build resulting from a binary cache miss (0.22 s)\n"
     ]
    },
    {
     "name": "stdout",
     "output_type": "stream",
     "text": [
      "\u001b[1;33m[Open3D WARNING] Read PLY failed: unable to open file: /home/pico/dataset_arabidopsis3d/arabidopsis_47_gt.ply\u001b[0;m\n"
     ]
    },
    {
     "name": "stderr",
     "output_type": "stream",
     "text": [
      "INFO - 2021-09-20 20:58:06,488 - __init__ - build program: kernel 'carve' was part of a lengthy source build resulting from a binary cache miss (0.22 s)\n"
     ]
    },
    {
     "name": "stdout",
     "output_type": "stream",
     "text": [
      "\u001b[1;33m[Open3D WARNING] Read PLY failed: unable to open file: /home/pico/dataset_arabidopsis3d/arabidopsis_48_gt.ply\u001b[0;m\n"
     ]
    },
    {
     "name": "stderr",
     "output_type": "stream",
     "text": [
      "INFO - 2021-09-20 20:58:16,551 - __init__ - build program: kernel 'carve' was part of a lengthy source build resulting from a binary cache miss (0.22 s)\n"
     ]
    },
    {
     "name": "stdout",
     "output_type": "stream",
     "text": [
      "\u001b[1;33m[Open3D WARNING] Read PLY failed: unable to open file: /home/pico/dataset_arabidopsis3d/arabidopsis_49_gt.ply\u001b[0;m\n"
     ]
    },
    {
     "name": "stderr",
     "output_type": "stream",
     "text": [
      "INFO - 2021-09-20 20:58:26,711 - __init__ - build program: kernel 'carve' was part of a lengthy source build resulting from a binary cache miss (0.22 s)\n"
     ]
    },
    {
     "name": "stdout",
     "output_type": "stream",
     "text": [
      "\u001b[1;33m[Open3D WARNING] Read PLY failed: unable to open file: /home/pico/dataset_arabidopsis3d/arabidopsis_50_gt.ply\u001b[0;m\n"
     ]
    },
    {
     "name": "stderr",
     "output_type": "stream",
     "text": [
      "INFO - 2021-09-20 20:58:36,927 - __init__ - build program: kernel 'carve' was part of a lengthy source build resulting from a binary cache miss (0.22 s)\n"
     ]
    },
    {
     "name": "stdout",
     "output_type": "stream",
     "text": [
      "\u001b[1;33m[Open3D WARNING] Read PLY failed: unable to open file: /home/pico/dataset_arabidopsis3d/arabidopsis_51_gt.ply\u001b[0;m\n"
     ]
    },
    {
     "name": "stderr",
     "output_type": "stream",
     "text": [
      "INFO - 2021-09-20 20:58:46,719 - __init__ - build program: kernel 'carve' was part of a lengthy source build resulting from a binary cache miss (0.22 s)\n"
     ]
    },
    {
     "name": "stdout",
     "output_type": "stream",
     "text": [
      "\u001b[1;33m[Open3D WARNING] Read PLY failed: unable to open file: /home/pico/dataset_arabidopsis3d/arabidopsis_52_gt.ply\u001b[0;m\n"
     ]
    },
    {
     "name": "stderr",
     "output_type": "stream",
     "text": [
      "INFO - 2021-09-20 20:58:56,418 - __init__ - build program: kernel 'carve' was part of a lengthy source build resulting from a binary cache miss (0.22 s)\n"
     ]
    },
    {
     "name": "stdout",
     "output_type": "stream",
     "text": [
      "\u001b[1;33m[Open3D WARNING] Read PLY failed: unable to open file: /home/pico/dataset_arabidopsis3d/arabidopsis_53_gt.ply\u001b[0;m\n"
     ]
    },
    {
     "name": "stderr",
     "output_type": "stream",
     "text": [
      "INFO - 2021-09-20 20:59:06,317 - __init__ - build program: kernel 'carve' was part of a lengthy source build resulting from a binary cache miss (0.22 s)\n"
     ]
    },
    {
     "name": "stdout",
     "output_type": "stream",
     "text": [
      "\u001b[1;33m[Open3D WARNING] Read PLY failed: unable to open file: /home/pico/dataset_arabidopsis3d/arabidopsis_54_gt.ply\u001b[0;m\n"
     ]
    },
    {
     "name": "stderr",
     "output_type": "stream",
     "text": [
      "INFO - 2021-09-20 20:59:16,685 - __init__ - build program: kernel 'carve' was part of a lengthy source build resulting from a binary cache miss (0.22 s)\n"
     ]
    },
    {
     "name": "stdout",
     "output_type": "stream",
     "text": [
      "\u001b[1;33m[Open3D WARNING] Read PLY failed: unable to open file: /home/pico/dataset_arabidopsis3d/arabidopsis_55_gt.ply\u001b[0;m\n"
     ]
    },
    {
     "name": "stderr",
     "output_type": "stream",
     "text": [
      "INFO - 2021-09-20 20:59:27,016 - __init__ - build program: kernel 'carve' was part of a lengthy source build resulting from a binary cache miss (0.22 s)\n"
     ]
    },
    {
     "name": "stdout",
     "output_type": "stream",
     "text": [
      "\u001b[1;33m[Open3D WARNING] Read PLY failed: unable to open file: /home/pico/dataset_arabidopsis3d/arabidopsis_56_gt.ply\u001b[0;m\n"
     ]
    },
    {
     "name": "stderr",
     "output_type": "stream",
     "text": [
      "INFO - 2021-09-20 20:59:37,242 - __init__ - build program: kernel 'carve' was part of a lengthy source build resulting from a binary cache miss (0.22 s)\n"
     ]
    },
    {
     "name": "stdout",
     "output_type": "stream",
     "text": [
      "\u001b[1;33m[Open3D WARNING] Read PLY failed: unable to open file: /home/pico/dataset_arabidopsis3d/arabidopsis_57_gt.ply\u001b[0;m\n"
     ]
    },
    {
     "name": "stderr",
     "output_type": "stream",
     "text": [
      "INFO - 2021-09-20 20:59:47,333 - __init__ - build program: kernel 'carve' was part of a lengthy source build resulting from a binary cache miss (0.22 s)\n"
     ]
    },
    {
     "name": "stdout",
     "output_type": "stream",
     "text": [
      "\u001b[1;33m[Open3D WARNING] Read PLY failed: unable to open file: /home/pico/dataset_arabidopsis3d/arabidopsis_58_gt.ply\u001b[0;m\n"
     ]
    },
    {
     "name": "stderr",
     "output_type": "stream",
     "text": [
      "INFO - 2021-09-20 20:59:57,328 - __init__ - build program: kernel 'carve' was part of a lengthy source build resulting from a binary cache miss (0.22 s)\n"
     ]
    },
    {
     "name": "stdout",
     "output_type": "stream",
     "text": [
      "\u001b[1;33m[Open3D WARNING] Read PLY failed: unable to open file: /home/pico/dataset_arabidopsis3d/arabidopsis_59_gt.ply\u001b[0;m\n"
     ]
    },
    {
     "name": "stderr",
     "output_type": "stream",
     "text": [
      "INFO - 2021-09-20 21:00:07,646 - __init__ - build program: kernel 'carve' was part of a lengthy source build resulting from a binary cache miss (0.22 s)\n"
     ]
    },
    {
     "name": "stdout",
     "output_type": "stream",
     "text": [
      "\u001b[1;33m[Open3D WARNING] Read PLY failed: unable to open file: /home/pico/dataset_arabidopsis3d/arabidopsis_60_gt.ply\u001b[0;m\n"
     ]
    },
    {
     "name": "stderr",
     "output_type": "stream",
     "text": [
      "INFO - 2021-09-20 21:00:17,637 - __init__ - build program: kernel 'carve' was part of a lengthy source build resulting from a binary cache miss (0.22 s)\n"
     ]
    },
    {
     "name": "stdout",
     "output_type": "stream",
     "text": [
      "\u001b[1;33m[Open3D WARNING] Read PLY failed: unable to open file: /home/pico/dataset_arabidopsis3d/arabidopsis_61_gt.ply\u001b[0;m\n"
     ]
    },
    {
     "name": "stderr",
     "output_type": "stream",
     "text": [
      "INFO - 2021-09-20 21:00:27,500 - __init__ - build program: kernel 'carve' was part of a lengthy source build resulting from a binary cache miss (0.22 s)\n"
     ]
    },
    {
     "name": "stdout",
     "output_type": "stream",
     "text": [
      "\u001b[1;33m[Open3D WARNING] Read PLY failed: unable to open file: /home/pico/dataset_arabidopsis3d/arabidopsis_62_gt.ply\u001b[0;m\n"
     ]
    },
    {
     "name": "stderr",
     "output_type": "stream",
     "text": [
      "INFO - 2021-09-20 21:00:37,411 - __init__ - build program: kernel 'carve' was part of a lengthy source build resulting from a binary cache miss (0.22 s)\n"
     ]
    },
    {
     "name": "stdout",
     "output_type": "stream",
     "text": [
      "\u001b[1;33m[Open3D WARNING] Read PLY failed: unable to open file: /home/pico/dataset_arabidopsis3d/arabidopsis_63_gt.ply\u001b[0;m\n"
     ]
    },
    {
     "name": "stderr",
     "output_type": "stream",
     "text": [
      "INFO - 2021-09-20 21:00:47,458 - __init__ - build program: kernel 'carve' was part of a lengthy source build resulting from a binary cache miss (0.22 s)\n"
     ]
    },
    {
     "name": "stdout",
     "output_type": "stream",
     "text": [
      "\u001b[1;33m[Open3D WARNING] Read PLY failed: unable to open file: /home/pico/dataset_arabidopsis3d/arabidopsis_64_gt.ply\u001b[0;m\n"
     ]
    },
    {
     "name": "stderr",
     "output_type": "stream",
     "text": [
      "INFO - 2021-09-20 21:00:57,536 - __init__ - build program: kernel 'carve' was part of a lengthy source build resulting from a binary cache miss (0.22 s)\n"
     ]
    },
    {
     "name": "stdout",
     "output_type": "stream",
     "text": [
      "\u001b[1;33m[Open3D WARNING] Read PLY failed: unable to open file: /home/pico/dataset_arabidopsis3d/arabidopsis_65_gt.ply\u001b[0;m\n"
     ]
    },
    {
     "name": "stderr",
     "output_type": "stream",
     "text": [
      "INFO - 2021-09-20 21:01:07,214 - __init__ - build program: kernel 'carve' was part of a lengthy source build resulting from a binary cache miss (0.22 s)\n"
     ]
    },
    {
     "name": "stdout",
     "output_type": "stream",
     "text": [
      "\u001b[1;33m[Open3D WARNING] Read PLY failed: unable to open file: /home/pico/dataset_arabidopsis3d/arabidopsis_66_gt.ply\u001b[0;m\n"
     ]
    },
    {
     "name": "stderr",
     "output_type": "stream",
     "text": [
      "INFO - 2021-09-20 21:01:16,765 - __init__ - build program: kernel 'carve' was part of a lengthy source build resulting from a binary cache miss (0.22 s)\n"
     ]
    },
    {
     "name": "stdout",
     "output_type": "stream",
     "text": [
      "\u001b[1;33m[Open3D WARNING] Read PLY failed: unable to open file: /home/pico/dataset_arabidopsis3d/arabidopsis_67_gt.ply\u001b[0;m\n"
     ]
    },
    {
     "name": "stderr",
     "output_type": "stream",
     "text": [
      "INFO - 2021-09-20 21:01:26,300 - __init__ - build program: kernel 'carve' was part of a lengthy source build resulting from a binary cache miss (0.22 s)\n"
     ]
    },
    {
     "name": "stdout",
     "output_type": "stream",
     "text": [
      "\u001b[1;33m[Open3D WARNING] Read PLY failed: unable to open file: /home/pico/dataset_arabidopsis3d/arabidopsis_68_gt.ply\u001b[0;m\n"
     ]
    },
    {
     "name": "stderr",
     "output_type": "stream",
     "text": [
      "INFO - 2021-09-20 21:01:35,966 - __init__ - build program: kernel 'carve' was part of a lengthy source build resulting from a binary cache miss (0.22 s)\n"
     ]
    },
    {
     "name": "stdout",
     "output_type": "stream",
     "text": [
      "\u001b[1;33m[Open3D WARNING] Read PLY failed: unable to open file: /home/pico/dataset_arabidopsis3d/arabidopsis_69_gt.ply\u001b[0;m\n"
     ]
    },
    {
     "name": "stderr",
     "output_type": "stream",
     "text": [
      "INFO - 2021-09-20 21:01:45,604 - __init__ - build program: kernel 'carve' was part of a lengthy source build resulting from a binary cache miss (0.22 s)\n"
     ]
    },
    {
     "name": "stdout",
     "output_type": "stream",
     "text": [
      "\u001b[1;33m[Open3D WARNING] Read PLY failed: unable to open file: /home/pico/dataset_arabidopsis3d/arabidopsis_70_gt.ply\u001b[0;m\n"
     ]
    },
    {
     "name": "stderr",
     "output_type": "stream",
     "text": [
      "INFO - 2021-09-20 21:01:55,543 - __init__ - build program: kernel 'carve' was part of a lengthy source build resulting from a binary cache miss (0.22 s)\n"
     ]
    },
    {
     "name": "stdout",
     "output_type": "stream",
     "text": [
      "\u001b[1;33m[Open3D WARNING] Read PLY failed: unable to open file: /home/pico/dataset_arabidopsis3d/arabidopsis_71_gt.ply\u001b[0;m\n"
     ]
    },
    {
     "name": "stderr",
     "output_type": "stream",
     "text": [
      "INFO - 2021-09-20 21:02:05,466 - __init__ - build program: kernel 'carve' was part of a lengthy source build resulting from a binary cache miss (0.22 s)\n"
     ]
    },
    {
     "name": "stdout",
     "output_type": "stream",
     "text": [
      "\u001b[1;33m[Open3D WARNING] Read PLY failed: unable to open file: /home/pico/dataset_arabidopsis3d/arabidopsis_72_gt.ply\u001b[0;m\n"
     ]
    },
    {
     "name": "stderr",
     "output_type": "stream",
     "text": [
      "INFO - 2021-09-20 21:02:15,484 - __init__ - build program: kernel 'carve' was part of a lengthy source build resulting from a binary cache miss (0.22 s)\n"
     ]
    },
    {
     "name": "stdout",
     "output_type": "stream",
     "text": [
      "\u001b[1;33m[Open3D WARNING] Read PLY failed: unable to open file: /home/pico/dataset_arabidopsis3d/arabidopsis_73_gt.ply\u001b[0;m\n"
     ]
    },
    {
     "name": "stderr",
     "output_type": "stream",
     "text": [
      "INFO - 2021-09-20 21:02:25,474 - __init__ - build program: kernel 'carve' was part of a lengthy source build resulting from a binary cache miss (0.22 s)\n"
     ]
    },
    {
     "name": "stdout",
     "output_type": "stream",
     "text": [
      "\u001b[1;33m[Open3D WARNING] Read PLY failed: unable to open file: /home/pico/dataset_arabidopsis3d/arabidopsis_74_gt.ply\u001b[0;m\n"
     ]
    },
    {
     "name": "stderr",
     "output_type": "stream",
     "text": [
      "INFO - 2021-09-20 21:02:35,331 - __init__ - build program: kernel 'carve' was part of a lengthy source build resulting from a binary cache miss (0.22 s)\n"
     ]
    },
    {
     "name": "stdout",
     "output_type": "stream",
     "text": [
      "\u001b[1;33m[Open3D WARNING] Read PLY failed: unable to open file: /home/pico/dataset_arabidopsis3d/arabidopsis_75_gt.ply\u001b[0;m\n"
     ]
    },
    {
     "name": "stderr",
     "output_type": "stream",
     "text": [
      "INFO - 2021-09-20 21:02:45,145 - __init__ - build program: kernel 'carve' was part of a lengthy source build resulting from a binary cache miss (0.22 s)\n"
     ]
    },
    {
     "name": "stdout",
     "output_type": "stream",
     "text": [
      "\u001b[1;33m[Open3D WARNING] Read PLY failed: unable to open file: /home/pico/dataset_arabidopsis3d/arabidopsis_76_gt.ply\u001b[0;m\n"
     ]
    },
    {
     "name": "stderr",
     "output_type": "stream",
     "text": [
      "INFO - 2021-09-20 21:02:54,959 - __init__ - build program: kernel 'carve' was part of a lengthy source build resulting from a binary cache miss (0.22 s)\n"
     ]
    },
    {
     "name": "stdout",
     "output_type": "stream",
     "text": [
      "\u001b[1;33m[Open3D WARNING] Read PLY failed: unable to open file: /home/pico/dataset_arabidopsis3d/arabidopsis_77_gt.ply\u001b[0;m\n"
     ]
    },
    {
     "name": "stderr",
     "output_type": "stream",
     "text": [
      "INFO - 2021-09-20 21:03:04,807 - __init__ - build program: kernel 'carve' was part of a lengthy source build resulting from a binary cache miss (0.22 s)\n"
     ]
    },
    {
     "name": "stdout",
     "output_type": "stream",
     "text": [
      "\u001b[1;33m[Open3D WARNING] Read PLY failed: unable to open file: /home/pico/dataset_arabidopsis3d/arabidopsis_78_gt.ply\u001b[0;m\n"
     ]
    },
    {
     "name": "stderr",
     "output_type": "stream",
     "text": [
      "INFO - 2021-09-20 21:03:15,215 - __init__ - build program: kernel 'carve' was part of a lengthy source build resulting from a binary cache miss (0.22 s)\n"
     ]
    },
    {
     "name": "stdout",
     "output_type": "stream",
     "text": [
      "\u001b[1;33m[Open3D WARNING] Read PLY failed: unable to open file: /home/pico/dataset_arabidopsis3d/arabidopsis_79_gt.ply\u001b[0;m\n"
     ]
    },
    {
     "name": "stderr",
     "output_type": "stream",
     "text": [
      "INFO - 2021-09-20 21:03:25,500 - __init__ - build program: kernel 'carve' was part of a lengthy source build resulting from a binary cache miss (0.22 s)\n"
     ]
    },
    {
     "name": "stdout",
     "output_type": "stream",
     "text": [
      "\u001b[1;33m[Open3D WARNING] Read PLY failed: unable to open file: /home/pico/dataset_arabidopsis3d/arabidopsis_80_gt.ply\u001b[0;m\n"
     ]
    },
    {
     "name": "stderr",
     "output_type": "stream",
     "text": [
      "INFO - 2021-09-20 21:03:35,411 - __init__ - build program: kernel 'carve' was part of a lengthy source build resulting from a binary cache miss (0.22 s)\n"
     ]
    },
    {
     "name": "stdout",
     "output_type": "stream",
     "text": [
      "\u001b[1;33m[Open3D WARNING] Read PLY failed: unable to open file: /home/pico/dataset_arabidopsis3d/arabidopsis_81_gt.ply\u001b[0;m\n"
     ]
    },
    {
     "name": "stderr",
     "output_type": "stream",
     "text": [
      "INFO - 2021-09-20 21:03:45,170 - __init__ - build program: kernel 'carve' was part of a lengthy source build resulting from a binary cache miss (0.22 s)\n"
     ]
    },
    {
     "name": "stdout",
     "output_type": "stream",
     "text": [
      "\u001b[1;33m[Open3D WARNING] Read PLY failed: unable to open file: /home/pico/dataset_arabidopsis3d/arabidopsis_82_gt.ply\u001b[0;m\n"
     ]
    },
    {
     "name": "stderr",
     "output_type": "stream",
     "text": [
      "INFO - 2021-09-20 21:03:55,042 - __init__ - build program: kernel 'carve' was part of a lengthy source build resulting from a binary cache miss (0.22 s)\n"
     ]
    },
    {
     "name": "stdout",
     "output_type": "stream",
     "text": [
      "\u001b[1;33m[Open3D WARNING] Read PLY failed: unable to open file: /home/pico/dataset_arabidopsis3d/arabidopsis_83_gt.ply\u001b[0;m\n"
     ]
    },
    {
     "name": "stderr",
     "output_type": "stream",
     "text": [
      "INFO - 2021-09-20 21:04:04,814 - __init__ - build program: kernel 'carve' was part of a lengthy source build resulting from a binary cache miss (0.22 s)\n"
     ]
    },
    {
     "name": "stdout",
     "output_type": "stream",
     "text": [
      "\u001b[1;33m[Open3D WARNING] Read PLY failed: unable to open file: /home/pico/dataset_arabidopsis3d/arabidopsis_84_gt.ply\u001b[0;m\n"
     ]
    },
    {
     "name": "stderr",
     "output_type": "stream",
     "text": [
      "INFO - 2021-09-20 21:04:14,645 - __init__ - build program: kernel 'carve' was part of a lengthy source build resulting from a binary cache miss (0.22 s)\n"
     ]
    },
    {
     "name": "stdout",
     "output_type": "stream",
     "text": [
      "\u001b[1;33m[Open3D WARNING] Read PLY failed: unable to open file: /home/pico/dataset_arabidopsis3d/arabidopsis_85_gt.ply\u001b[0;m\n"
     ]
    },
    {
     "name": "stderr",
     "output_type": "stream",
     "text": [
      "INFO - 2021-09-20 21:04:24,451 - __init__ - build program: kernel 'carve' was part of a lengthy source build resulting from a binary cache miss (0.22 s)\n"
     ]
    },
    {
     "name": "stdout",
     "output_type": "stream",
     "text": [
      "\u001b[1;33m[Open3D WARNING] Read PLY failed: unable to open file: /home/pico/dataset_arabidopsis3d/arabidopsis_86_gt.ply\u001b[0;m\n"
     ]
    },
    {
     "name": "stderr",
     "output_type": "stream",
     "text": [
      "INFO - 2021-09-20 21:04:34,382 - __init__ - build program: kernel 'carve' was part of a lengthy source build resulting from a binary cache miss (0.22 s)\n"
     ]
    },
    {
     "name": "stdout",
     "output_type": "stream",
     "text": [
      "\u001b[1;33m[Open3D WARNING] Read PLY failed: unable to open file: /home/pico/dataset_arabidopsis3d/arabidopsis_87_gt.ply\u001b[0;m\n"
     ]
    },
    {
     "name": "stderr",
     "output_type": "stream",
     "text": [
      "INFO - 2021-09-20 21:04:44,384 - __init__ - build program: kernel 'carve' was part of a lengthy source build resulting from a binary cache miss (0.22 s)\n"
     ]
    },
    {
     "name": "stdout",
     "output_type": "stream",
     "text": [
      "\u001b[1;33m[Open3D WARNING] Read PLY failed: unable to open file: /home/pico/dataset_arabidopsis3d/arabidopsis_88_gt.ply\u001b[0;m\n"
     ]
    },
    {
     "name": "stderr",
     "output_type": "stream",
     "text": [
      "INFO - 2021-09-20 21:04:54,374 - __init__ - build program: kernel 'carve' was part of a lengthy source build resulting from a binary cache miss (0.22 s)\n"
     ]
    },
    {
     "name": "stdout",
     "output_type": "stream",
     "text": [
      "\u001b[1;33m[Open3D WARNING] Read PLY failed: unable to open file: /home/pico/dataset_arabidopsis3d/arabidopsis_89_gt.ply\u001b[0;m\n"
     ]
    },
    {
     "name": "stderr",
     "output_type": "stream",
     "text": [
      "INFO - 2021-09-20 21:05:04,114 - __init__ - build program: kernel 'carve' was part of a lengthy source build resulting from a binary cache miss (0.22 s)\n"
     ]
    },
    {
     "name": "stdout",
     "output_type": "stream",
     "text": [
      "\u001b[1;33m[Open3D WARNING] Read PLY failed: unable to open file: /home/pico/dataset_arabidopsis3d/arabidopsis_90_gt.ply\u001b[0;m\n"
     ]
    },
    {
     "name": "stderr",
     "output_type": "stream",
     "text": [
      "INFO - 2021-09-20 21:05:13,958 - __init__ - build program: kernel 'carve' was part of a lengthy source build resulting from a binary cache miss (0.22 s)\n"
     ]
    },
    {
     "name": "stdout",
     "output_type": "stream",
     "text": [
      "\u001b[1;33m[Open3D WARNING] Read PLY failed: unable to open file: /home/pico/dataset_arabidopsis3d/arabidopsis_91_gt.ply\u001b[0;m\n"
     ]
    },
    {
     "name": "stderr",
     "output_type": "stream",
     "text": [
      "INFO - 2021-09-20 21:05:23,774 - __init__ - build program: kernel 'carve' was part of a lengthy source build resulting from a binary cache miss (0.22 s)\n"
     ]
    },
    {
     "name": "stdout",
     "output_type": "stream",
     "text": [
      "\u001b[1;33m[Open3D WARNING] Read PLY failed: unable to open file: /home/pico/dataset_arabidopsis3d/arabidopsis_92_gt.ply\u001b[0;m\n"
     ]
    },
    {
     "name": "stderr",
     "output_type": "stream",
     "text": [
      "INFO - 2021-09-20 21:05:33,727 - __init__ - build program: kernel 'carve' was part of a lengthy source build resulting from a binary cache miss (0.22 s)\n"
     ]
    },
    {
     "name": "stdout",
     "output_type": "stream",
     "text": [
      "\u001b[1;33m[Open3D WARNING] Read PLY failed: unable to open file: /home/pico/dataset_arabidopsis3d/arabidopsis_93_gt.ply\u001b[0;m\n"
     ]
    },
    {
     "name": "stderr",
     "output_type": "stream",
     "text": [
      "INFO - 2021-09-20 21:05:43,572 - __init__ - build program: kernel 'carve' was part of a lengthy source build resulting from a binary cache miss (0.22 s)\n"
     ]
    },
    {
     "name": "stdout",
     "output_type": "stream",
     "text": [
      "\u001b[1;33m[Open3D WARNING] Read PLY failed: unable to open file: /home/pico/dataset_arabidopsis3d/arabidopsis_94_gt.ply\u001b[0;m\n"
     ]
    },
    {
     "name": "stderr",
     "output_type": "stream",
     "text": [
      "INFO - 2021-09-20 21:05:53,458 - __init__ - build program: kernel 'carve' was part of a lengthy source build resulting from a binary cache miss (0.22 s)\n"
     ]
    },
    {
     "name": "stdout",
     "output_type": "stream",
     "text": [
      "\u001b[1;33m[Open3D WARNING] Read PLY failed: unable to open file: /home/pico/dataset_arabidopsis3d/arabidopsis_95_gt.ply\u001b[0;m\n"
     ]
    },
    {
     "name": "stderr",
     "output_type": "stream",
     "text": [
      "INFO - 2021-09-20 21:06:03,310 - __init__ - build program: kernel 'carve' was part of a lengthy source build resulting from a binary cache miss (0.22 s)\n"
     ]
    },
    {
     "name": "stdout",
     "output_type": "stream",
     "text": [
      "\u001b[1;33m[Open3D WARNING] Read PLY failed: unable to open file: /home/pico/dataset_arabidopsis3d/arabidopsis_96_gt.ply\u001b[0;m\n"
     ]
    },
    {
     "name": "stderr",
     "output_type": "stream",
     "text": [
      "INFO - 2021-09-20 21:06:13,122 - __init__ - build program: kernel 'carve' was part of a lengthy source build resulting from a binary cache miss (0.22 s)\n"
     ]
    },
    {
     "name": "stdout",
     "output_type": "stream",
     "text": [
      "\u001b[1;33m[Open3D WARNING] Read PLY failed: unable to open file: /home/pico/dataset_arabidopsis3d/arabidopsis_97_gt.ply\u001b[0;m\n"
     ]
    },
    {
     "name": "stderr",
     "output_type": "stream",
     "text": [
      "INFO - 2021-09-20 21:06:22,952 - __init__ - build program: kernel 'carve' was part of a lengthy source build resulting from a binary cache miss (0.22 s)\n"
     ]
    },
    {
     "name": "stdout",
     "output_type": "stream",
     "text": [
      "\u001b[1;33m[Open3D WARNING] Read PLY failed: unable to open file: /home/pico/dataset_arabidopsis3d/arabidopsis_98_gt.ply\u001b[0;m\n"
     ]
    },
    {
     "name": "stderr",
     "output_type": "stream",
     "text": [
      "INFO - 2021-09-20 21:06:33,091 - __init__ - build program: kernel 'carve' was part of a lengthy source build resulting from a binary cache miss (0.22 s)\n"
     ]
    },
    {
     "name": "stdout",
     "output_type": "stream",
     "text": [
      "\u001b[1;33m[Open3D WARNING] Read PLY failed: unable to open file: /home/pico/dataset_arabidopsis3d/arabidopsis_99_gt.ply\u001b[0;m\n"
     ]
    },
    {
     "name": "stderr",
     "output_type": "stream",
     "text": [
      "INFO - 2021-09-20 21:06:42,849 - __init__ - build program: kernel 'carve' was part of a lengthy source build resulting from a binary cache miss (0.22 s)\n"
     ]
    },
    {
     "name": "stdout",
     "output_type": "stream",
     "text": [
      "\u001b[1;33m[Open3D WARNING] Read PLY failed: unable to open file: /home/pico/dataset_arabidopsis3d/arabidopsis_100_gt.ply\u001b[0;m\n"
     ]
    },
    {
     "name": "stderr",
     "output_type": "stream",
     "text": [
      "INFO - 2021-09-20 21:06:52,634 - __init__ - build program: kernel 'carve' was part of a lengthy source build resulting from a binary cache miss (0.22 s)\n"
     ]
    },
    {
     "name": "stdout",
     "output_type": "stream",
     "text": [
      "\u001b[1;33m[Open3D WARNING] Read PLY failed: unable to open file: /home/pico/dataset_arabidopsis3d/arabidopsis_101_gt.ply\u001b[0;m\n"
     ]
    },
    {
     "name": "stderr",
     "output_type": "stream",
     "text": [
      "INFO - 2021-09-20 21:07:02,440 - __init__ - build program: kernel 'carve' was part of a lengthy source build resulting from a binary cache miss (0.22 s)\n"
     ]
    },
    {
     "name": "stdout",
     "output_type": "stream",
     "text": [
      "\u001b[1;33m[Open3D WARNING] Read PLY failed: unable to open file: /home/pico/dataset_arabidopsis3d/arabidopsis_102_gt.ply\u001b[0;m\n"
     ]
    },
    {
     "name": "stderr",
     "output_type": "stream",
     "text": [
      "INFO - 2021-09-20 21:07:12,185 - __init__ - build program: kernel 'carve' was part of a lengthy source build resulting from a binary cache miss (0.22 s)\n"
     ]
    },
    {
     "name": "stdout",
     "output_type": "stream",
     "text": [
      "\u001b[1;33m[Open3D WARNING] Read PLY failed: unable to open file: /home/pico/dataset_arabidopsis3d/arabidopsis_103_gt.ply\u001b[0;m\n"
     ]
    },
    {
     "name": "stderr",
     "output_type": "stream",
     "text": [
      "INFO - 2021-09-20 21:07:21,857 - __init__ - build program: kernel 'carve' was part of a lengthy source build resulting from a binary cache miss (0.22 s)\n"
     ]
    },
    {
     "name": "stdout",
     "output_type": "stream",
     "text": [
      "\u001b[1;33m[Open3D WARNING] Read PLY failed: unable to open file: /home/pico/dataset_arabidopsis3d/arabidopsis_104_gt.ply\u001b[0;m\n"
     ]
    },
    {
     "name": "stderr",
     "output_type": "stream",
     "text": [
      "INFO - 2021-09-20 21:07:31,540 - __init__ - build program: kernel 'carve' was part of a lengthy source build resulting from a binary cache miss (0.22 s)\n"
     ]
    },
    {
     "name": "stdout",
     "output_type": "stream",
     "text": [
      "\u001b[1;33m[Open3D WARNING] Read PLY failed: unable to open file: /home/pico/dataset_arabidopsis3d/arabidopsis_105_gt.ply\u001b[0;m\n"
     ]
    },
    {
     "name": "stderr",
     "output_type": "stream",
     "text": [
      "INFO - 2021-09-20 21:07:41,373 - __init__ - build program: kernel 'carve' was part of a lengthy source build resulting from a binary cache miss (0.22 s)\n"
     ]
    },
    {
     "name": "stdout",
     "output_type": "stream",
     "text": [
      "\u001b[1;33m[Open3D WARNING] Read PLY failed: unable to open file: /home/pico/dataset_arabidopsis3d/arabidopsis_106_gt.ply\u001b[0;m\n"
     ]
    },
    {
     "name": "stderr",
     "output_type": "stream",
     "text": [
      "INFO - 2021-09-20 21:07:51,132 - __init__ - build program: kernel 'carve' was part of a lengthy source build resulting from a binary cache miss (0.22 s)\n"
     ]
    },
    {
     "name": "stdout",
     "output_type": "stream",
     "text": [
      "\u001b[1;33m[Open3D WARNING] Read PLY failed: unable to open file: /home/pico/dataset_arabidopsis3d/arabidopsis_107_gt.ply\u001b[0;m\n"
     ]
    },
    {
     "name": "stderr",
     "output_type": "stream",
     "text": [
      "INFO - 2021-09-20 21:08:00,973 - __init__ - build program: kernel 'carve' was part of a lengthy source build resulting from a binary cache miss (0.22 s)\n"
     ]
    },
    {
     "name": "stdout",
     "output_type": "stream",
     "text": [
      "\u001b[1;33m[Open3D WARNING] Read PLY failed: unable to open file: /home/pico/dataset_arabidopsis3d/arabidopsis_108_gt.ply\u001b[0;m\n"
     ]
    },
    {
     "name": "stderr",
     "output_type": "stream",
     "text": [
      "INFO - 2021-09-20 21:08:11,318 - __init__ - build program: kernel 'carve' was part of a lengthy source build resulting from a binary cache miss (0.22 s)\n"
     ]
    },
    {
     "name": "stdout",
     "output_type": "stream",
     "text": [
      "\u001b[1;33m[Open3D WARNING] Read PLY failed: unable to open file: /home/pico/dataset_arabidopsis3d/arabidopsis_109_gt.ply\u001b[0;m\n"
     ]
    },
    {
     "name": "stderr",
     "output_type": "stream",
     "text": [
      "INFO - 2021-09-20 21:08:21,566 - __init__ - build program: kernel 'carve' was part of a lengthy source build resulting from a binary cache miss (0.22 s)\n"
     ]
    },
    {
     "name": "stdout",
     "output_type": "stream",
     "text": [
      "\u001b[1;33m[Open3D WARNING] Read PLY failed: unable to open file: /home/pico/dataset_arabidopsis3d/arabidopsis_110_gt.ply\u001b[0;m\n"
     ]
    },
    {
     "name": "stderr",
     "output_type": "stream",
     "text": [
      "INFO - 2021-09-20 21:08:31,316 - __init__ - build program: kernel 'carve' was part of a lengthy source build resulting from a binary cache miss (0.22 s)\n"
     ]
    },
    {
     "name": "stdout",
     "output_type": "stream",
     "text": [
      "\u001b[1;33m[Open3D WARNING] Read PLY failed: unable to open file: /home/pico/dataset_arabidopsis3d/arabidopsis_111_gt.ply\u001b[0;m\n"
     ]
    },
    {
     "name": "stderr",
     "output_type": "stream",
     "text": [
      "INFO - 2021-09-20 21:08:41,035 - __init__ - build program: kernel 'carve' was part of a lengthy source build resulting from a binary cache miss (0.22 s)\n"
     ]
    },
    {
     "name": "stdout",
     "output_type": "stream",
     "text": [
      "\u001b[1;33m[Open3D WARNING] Read PLY failed: unable to open file: /home/pico/dataset_arabidopsis3d/arabidopsis_112_gt.ply\u001b[0;m\n"
     ]
    },
    {
     "name": "stderr",
     "output_type": "stream",
     "text": [
      "INFO - 2021-09-20 21:08:50,811 - __init__ - build program: kernel 'carve' was part of a lengthy source build resulting from a binary cache miss (0.22 s)\n"
     ]
    },
    {
     "name": "stdout",
     "output_type": "stream",
     "text": [
      "\u001b[1;33m[Open3D WARNING] Read PLY failed: unable to open file: /home/pico/dataset_arabidopsis3d/arabidopsis_113_gt.ply\u001b[0;m\n"
     ]
    },
    {
     "name": "stderr",
     "output_type": "stream",
     "text": [
      "INFO - 2021-09-20 21:09:00,605 - __init__ - build program: kernel 'carve' was part of a lengthy source build resulting from a binary cache miss (0.22 s)\n"
     ]
    },
    {
     "name": "stdout",
     "output_type": "stream",
     "text": [
      "\u001b[1;33m[Open3D WARNING] Read PLY failed: unable to open file: /home/pico/dataset_arabidopsis3d/arabidopsis_114_gt.ply\u001b[0;m\n"
     ]
    },
    {
     "name": "stderr",
     "output_type": "stream",
     "text": [
      "INFO - 2021-09-20 21:09:10,438 - __init__ - build program: kernel 'carve' was part of a lengthy source build resulting from a binary cache miss (0.22 s)\n"
     ]
    },
    {
     "name": "stdout",
     "output_type": "stream",
     "text": [
      "\u001b[1;33m[Open3D WARNING] Read PLY failed: unable to open file: /home/pico/dataset_arabidopsis3d/arabidopsis_115_gt.ply\u001b[0;m\n"
     ]
    },
    {
     "name": "stderr",
     "output_type": "stream",
     "text": [
      "INFO - 2021-09-20 21:09:20,309 - __init__ - build program: kernel 'carve' was part of a lengthy source build resulting from a binary cache miss (0.22 s)\n"
     ]
    },
    {
     "name": "stdout",
     "output_type": "stream",
     "text": [
      "\u001b[1;33m[Open3D WARNING] Read PLY failed: unable to open file: /home/pico/dataset_arabidopsis3d/arabidopsis_116_gt.ply\u001b[0;m\n"
     ]
    },
    {
     "name": "stderr",
     "output_type": "stream",
     "text": [
      "INFO - 2021-09-20 21:09:30,058 - __init__ - build program: kernel 'carve' was part of a lengthy source build resulting from a binary cache miss (0.22 s)\n"
     ]
    },
    {
     "name": "stdout",
     "output_type": "stream",
     "text": [
      "\u001b[1;33m[Open3D WARNING] Read PLY failed: unable to open file: /home/pico/dataset_arabidopsis3d/arabidopsis_117_gt.ply\u001b[0;m\n"
     ]
    },
    {
     "name": "stderr",
     "output_type": "stream",
     "text": [
      "INFO - 2021-09-20 21:09:39,894 - __init__ - build program: kernel 'carve' was part of a lengthy source build resulting from a binary cache miss (0.22 s)\n"
     ]
    },
    {
     "name": "stdout",
     "output_type": "stream",
     "text": [
      "\u001b[1;33m[Open3D WARNING] Read PLY failed: unable to open file: /home/pico/dataset_arabidopsis3d/arabidopsis_118_gt.ply\u001b[0;m\n"
     ]
    },
    {
     "name": "stderr",
     "output_type": "stream",
     "text": [
      "INFO - 2021-09-20 21:09:49,777 - __init__ - build program: kernel 'carve' was part of a lengthy source build resulting from a binary cache miss (0.22 s)\n"
     ]
    },
    {
     "name": "stdout",
     "output_type": "stream",
     "text": [
      "\u001b[1;33m[Open3D WARNING] Read PLY failed: unable to open file: /home/pico/dataset_arabidopsis3d/arabidopsis_119_gt.ply\u001b[0;m\n"
     ]
    },
    {
     "name": "stderr",
     "output_type": "stream",
     "text": [
      "INFO - 2021-09-20 21:09:59,569 - __init__ - build program: kernel 'carve' was part of a lengthy source build resulting from a binary cache miss (0.22 s)\n"
     ]
    },
    {
     "name": "stdout",
     "output_type": "stream",
     "text": [
      "\u001b[1;33m[Open3D WARNING] Read PLY failed: unable to open file: /home/pico/dataset_arabidopsis3d/arabidopsis_120_gt.ply\u001b[0;m\n"
     ]
    },
    {
     "name": "stderr",
     "output_type": "stream",
     "text": [
      "INFO - 2021-09-20 21:10:09,254 - __init__ - build program: kernel 'carve' was part of a lengthy source build resulting from a binary cache miss (0.22 s)\n"
     ]
    },
    {
     "name": "stdout",
     "output_type": "stream",
     "text": [
      "\u001b[1;33m[Open3D WARNING] Read PLY failed: unable to open file: /home/pico/dataset_arabidopsis3d/arabidopsis_121_gt.ply\u001b[0;m\n"
     ]
    },
    {
     "name": "stderr",
     "output_type": "stream",
     "text": [
      "INFO - 2021-09-20 21:10:19,023 - __init__ - build program: kernel 'carve' was part of a lengthy source build resulting from a binary cache miss (0.22 s)\n"
     ]
    },
    {
     "name": "stdout",
     "output_type": "stream",
     "text": [
      "\u001b[1;33m[Open3D WARNING] Read PLY failed: unable to open file: /home/pico/dataset_arabidopsis3d/arabidopsis_122_gt.ply\u001b[0;m\n"
     ]
    },
    {
     "name": "stderr",
     "output_type": "stream",
     "text": [
      "INFO - 2021-09-20 21:10:28,825 - __init__ - build program: kernel 'carve' was part of a lengthy source build resulting from a binary cache miss (0.22 s)\n"
     ]
    },
    {
     "name": "stdout",
     "output_type": "stream",
     "text": [
      "\u001b[1;33m[Open3D WARNING] Read PLY failed: unable to open file: /home/pico/dataset_arabidopsis3d/arabidopsis_123_gt.ply\u001b[0;m\n"
     ]
    },
    {
     "name": "stderr",
     "output_type": "stream",
     "text": [
      "INFO - 2021-09-20 21:10:38,645 - __init__ - build program: kernel 'carve' was part of a lengthy source build resulting from a binary cache miss (0.22 s)\n",
      "INFO - 2021-09-20 21:10:48,489 - __init__ - build program: kernel 'carve' was part of a lengthy source build resulting from a binary cache miss (0.22 s)\n"
     ]
    },
    {
     "name": "stdout",
     "output_type": "stream",
     "text": [
      "\u001b[1;33m[Open3D WARNING] Read PLY failed: unable to open file: /home/pico/dataset_arabidopsis3d/arabidopsis_125_gt.ply\u001b[0;m\n"
     ]
    },
    {
     "name": "stderr",
     "output_type": "stream",
     "text": [
      "INFO - 2021-09-20 21:10:58,289 - __init__ - build program: kernel 'carve' was part of a lengthy source build resulting from a binary cache miss (0.22 s)\n"
     ]
    },
    {
     "name": "stdout",
     "output_type": "stream",
     "text": [
      "\u001b[1;33m[Open3D WARNING] Read PLY failed: unable to open file: /home/pico/dataset_arabidopsis3d/arabidopsis_126_gt.ply\u001b[0;m\n"
     ]
    },
    {
     "name": "stderr",
     "output_type": "stream",
     "text": [
      "INFO - 2021-09-20 21:11:08,161 - __init__ - build program: kernel 'carve' was part of a lengthy source build resulting from a binary cache miss (0.22 s)\n"
     ]
    },
    {
     "name": "stdout",
     "output_type": "stream",
     "text": [
      "\u001b[1;33m[Open3D WARNING] Read PLY failed: unable to open file: /home/pico/dataset_arabidopsis3d/arabidopsis_127_gt.ply\u001b[0;m\n"
     ]
    },
    {
     "name": "stderr",
     "output_type": "stream",
     "text": [
      "INFO - 2021-09-20 21:11:18,156 - __init__ - build program: kernel 'carve' was part of a lengthy source build resulting from a binary cache miss (0.22 s)\n"
     ]
    },
    {
     "name": "stdout",
     "output_type": "stream",
     "text": [
      "\u001b[1;33m[Open3D WARNING] Read PLY failed: unable to open file: /home/pico/dataset_arabidopsis3d/arabidopsis_128_gt.ply\u001b[0;m\n"
     ]
    },
    {
     "name": "stderr",
     "output_type": "stream",
     "text": [
      "INFO - 2021-09-20 21:11:27,956 - __init__ - build program: kernel 'carve' was part of a lengthy source build resulting from a binary cache miss (0.22 s)\n"
     ]
    },
    {
     "name": "stdout",
     "output_type": "stream",
     "text": [
      "\u001b[1;33m[Open3D WARNING] Read PLY failed: unable to open file: /home/pico/dataset_arabidopsis3d/arabidopsis_129_gt.ply\u001b[0;m\n"
     ]
    },
    {
     "name": "stderr",
     "output_type": "stream",
     "text": [
      "INFO - 2021-09-20 21:11:37,767 - __init__ - build program: kernel 'carve' was part of a lengthy source build resulting from a binary cache miss (0.22 s)\n"
     ]
    },
    {
     "name": "stdout",
     "output_type": "stream",
     "text": [
      "\u001b[1;33m[Open3D WARNING] Read PLY failed: unable to open file: /home/pico/dataset_arabidopsis3d/arabidopsis_130_gt.ply\u001b[0;m\n"
     ]
    },
    {
     "name": "stderr",
     "output_type": "stream",
     "text": [
      "INFO - 2021-09-20 21:11:47,569 - __init__ - build program: kernel 'carve' was part of a lengthy source build resulting from a binary cache miss (0.22 s)\n"
     ]
    },
    {
     "name": "stdout",
     "output_type": "stream",
     "text": [
      "\u001b[1;33m[Open3D WARNING] Read PLY failed: unable to open file: /home/pico/dataset_arabidopsis3d/arabidopsis_131_gt.ply\u001b[0;m\n"
     ]
    },
    {
     "name": "stderr",
     "output_type": "stream",
     "text": [
      "INFO - 2021-09-20 21:11:57,387 - __init__ - build program: kernel 'carve' was part of a lengthy source build resulting from a binary cache miss (0.22 s)\n"
     ]
    },
    {
     "name": "stdout",
     "output_type": "stream",
     "text": [
      "\u001b[1;33m[Open3D WARNING] Read PLY failed: unable to open file: /home/pico/dataset_arabidopsis3d/arabidopsis_132_gt.ply\u001b[0;m\n"
     ]
    },
    {
     "name": "stderr",
     "output_type": "stream",
     "text": [
      "INFO - 2021-09-20 21:12:07,235 - __init__ - build program: kernel 'carve' was part of a lengthy source build resulting from a binary cache miss (0.22 s)\n"
     ]
    },
    {
     "name": "stdout",
     "output_type": "stream",
     "text": [
      "\u001b[1;33m[Open3D WARNING] Read PLY failed: unable to open file: /home/pico/dataset_arabidopsis3d/arabidopsis_133_gt.ply\u001b[0;m\n"
     ]
    },
    {
     "name": "stderr",
     "output_type": "stream",
     "text": [
      "INFO - 2021-09-20 21:12:16,989 - __init__ - build program: kernel 'carve' was part of a lengthy source build resulting from a binary cache miss (0.22 s)\n"
     ]
    },
    {
     "name": "stdout",
     "output_type": "stream",
     "text": [
      "\u001b[1;33m[Open3D WARNING] Read PLY failed: unable to open file: /home/pico/dataset_arabidopsis3d/arabidopsis_134_gt.ply\u001b[0;m\n"
     ]
    },
    {
     "name": "stderr",
     "output_type": "stream",
     "text": [
      "INFO - 2021-09-20 21:12:26,757 - __init__ - build program: kernel 'carve' was part of a lengthy source build resulting from a binary cache miss (0.22 s)\n"
     ]
    },
    {
     "name": "stdout",
     "output_type": "stream",
     "text": [
      "\u001b[1;33m[Open3D WARNING] Read PLY failed: unable to open file: /home/pico/dataset_arabidopsis3d/arabidopsis_135_gt.ply\u001b[0;m\n"
     ]
    },
    {
     "name": "stderr",
     "output_type": "stream",
     "text": [
      "INFO - 2021-09-20 21:12:36,529 - __init__ - build program: kernel 'carve' was part of a lengthy source build resulting from a binary cache miss (0.22 s)\n"
     ]
    },
    {
     "name": "stdout",
     "output_type": "stream",
     "text": [
      "\u001b[1;33m[Open3D WARNING] Read PLY failed: unable to open file: /home/pico/dataset_arabidopsis3d/arabidopsis_136_gt.ply\u001b[0;m\n"
     ]
    },
    {
     "name": "stderr",
     "output_type": "stream",
     "text": [
      "INFO - 2021-09-20 21:12:46,191 - __init__ - build program: kernel 'carve' was part of a lengthy source build resulting from a binary cache miss (0.22 s)\n"
     ]
    },
    {
     "name": "stdout",
     "output_type": "stream",
     "text": [
      "\u001b[1;33m[Open3D WARNING] Read PLY failed: unable to open file: /home/pico/dataset_arabidopsis3d/arabidopsis_137_gt.ply\u001b[0;m\n"
     ]
    },
    {
     "name": "stderr",
     "output_type": "stream",
     "text": [
      "INFO - 2021-09-20 21:12:56,062 - __init__ - build program: kernel 'carve' was part of a lengthy source build resulting from a binary cache miss (0.22 s)\n"
     ]
    },
    {
     "name": "stdout",
     "output_type": "stream",
     "text": [
      "\u001b[1;33m[Open3D WARNING] Read PLY failed: unable to open file: /home/pico/dataset_arabidopsis3d/arabidopsis_138_gt.ply\u001b[0;m\n"
     ]
    },
    {
     "name": "stderr",
     "output_type": "stream",
     "text": [
      "INFO - 2021-09-20 21:13:06,251 - __init__ - build program: kernel 'carve' was part of a lengthy source build resulting from a binary cache miss (0.22 s)\n"
     ]
    },
    {
     "name": "stdout",
     "output_type": "stream",
     "text": [
      "\u001b[1;33m[Open3D WARNING] Read PLY failed: unable to open file: /home/pico/dataset_arabidopsis3d/arabidopsis_139_gt.ply\u001b[0;m\n"
     ]
    },
    {
     "name": "stderr",
     "output_type": "stream",
     "text": [
      "INFO - 2021-09-20 21:13:16,288 - __init__ - build program: kernel 'carve' was part of a lengthy source build resulting from a binary cache miss (0.22 s)\n"
     ]
    },
    {
     "name": "stdout",
     "output_type": "stream",
     "text": [
      "\u001b[1;33m[Open3D WARNING] Read PLY failed: unable to open file: /home/pico/dataset_arabidopsis3d/arabidopsis_140_gt.ply\u001b[0;m\n"
     ]
    },
    {
     "name": "stderr",
     "output_type": "stream",
     "text": [
      "INFO - 2021-09-20 21:13:26,204 - __init__ - build program: kernel 'carve' was part of a lengthy source build resulting from a binary cache miss (0.22 s)\n"
     ]
    },
    {
     "name": "stdout",
     "output_type": "stream",
     "text": [
      "\u001b[1;33m[Open3D WARNING] Read PLY failed: unable to open file: /home/pico/dataset_arabidopsis3d/arabidopsis_141_gt.ply\u001b[0;m\n"
     ]
    },
    {
     "name": "stderr",
     "output_type": "stream",
     "text": [
      "INFO - 2021-09-20 21:13:36,068 - __init__ - build program: kernel 'carve' was part of a lengthy source build resulting from a binary cache miss (0.22 s)\n"
     ]
    },
    {
     "name": "stdout",
     "output_type": "stream",
     "text": [
      "\u001b[1;33m[Open3D WARNING] Read PLY failed: unable to open file: /home/pico/dataset_arabidopsis3d/arabidopsis_142_gt.ply\u001b[0;m\n"
     ]
    },
    {
     "name": "stderr",
     "output_type": "stream",
     "text": [
      "INFO - 2021-09-20 21:13:45,887 - __init__ - build program: kernel 'carve' was part of a lengthy source build resulting from a binary cache miss (0.22 s)\n"
     ]
    },
    {
     "name": "stdout",
     "output_type": "stream",
     "text": [
      "\u001b[1;33m[Open3D WARNING] Read PLY failed: unable to open file: /home/pico/dataset_arabidopsis3d/arabidopsis_143_gt.ply\u001b[0;m\n"
     ]
    },
    {
     "name": "stderr",
     "output_type": "stream",
     "text": [
      "INFO - 2021-09-20 21:13:55,691 - __init__ - build program: kernel 'carve' was part of a lengthy source build resulting from a binary cache miss (0.22 s)\n"
     ]
    },
    {
     "name": "stdout",
     "output_type": "stream",
     "text": [
      "\u001b[1;33m[Open3D WARNING] Read PLY failed: unable to open file: /home/pico/dataset_arabidopsis3d/arabidopsis_144_gt.ply\u001b[0;m\n"
     ]
    },
    {
     "name": "stderr",
     "output_type": "stream",
     "text": [
      "INFO - 2021-09-20 21:14:05,521 - __init__ - build program: kernel 'carve' was part of a lengthy source build resulting from a binary cache miss (0.22 s)\n"
     ]
    },
    {
     "name": "stdout",
     "output_type": "stream",
     "text": [
      "\u001b[1;33m[Open3D WARNING] Read PLY failed: unable to open file: /home/pico/dataset_arabidopsis3d/arabidopsis_145_gt.ply\u001b[0;m\n"
     ]
    },
    {
     "name": "stderr",
     "output_type": "stream",
     "text": [
      "INFO - 2021-09-20 21:14:15,411 - __init__ - build program: kernel 'carve' was part of a lengthy source build resulting from a binary cache miss (0.22 s)\n"
     ]
    },
    {
     "name": "stdout",
     "output_type": "stream",
     "text": [
      "\u001b[1;33m[Open3D WARNING] Read PLY failed: unable to open file: /home/pico/dataset_arabidopsis3d/arabidopsis_146_gt.ply\u001b[0;m\n"
     ]
    },
    {
     "name": "stderr",
     "output_type": "stream",
     "text": [
      "INFO - 2021-09-20 21:14:25,321 - __init__ - build program: kernel 'carve' was part of a lengthy source build resulting from a binary cache miss (0.22 s)\n"
     ]
    },
    {
     "name": "stdout",
     "output_type": "stream",
     "text": [
      "\u001b[1;33m[Open3D WARNING] Read PLY failed: unable to open file: /home/pico/dataset_arabidopsis3d/arabidopsis_147_gt.ply\u001b[0;m\n"
     ]
    },
    {
     "name": "stderr",
     "output_type": "stream",
     "text": [
      "INFO - 2021-09-20 21:14:35,163 - __init__ - build program: kernel 'carve' was part of a lengthy source build resulting from a binary cache miss (0.22 s)\n"
     ]
    },
    {
     "name": "stdout",
     "output_type": "stream",
     "text": [
      "\u001b[1;33m[Open3D WARNING] Read PLY failed: unable to open file: /home/pico/dataset_arabidopsis3d/arabidopsis_148_gt.ply\u001b[0;m\n"
     ]
    },
    {
     "name": "stderr",
     "output_type": "stream",
     "text": [
      "INFO - 2021-09-20 21:14:45,007 - __init__ - build program: kernel 'carve' was part of a lengthy source build resulting from a binary cache miss (0.22 s)\n"
     ]
    },
    {
     "name": "stdout",
     "output_type": "stream",
     "text": [
      "\u001b[1;33m[Open3D WARNING] Read PLY failed: unable to open file: /home/pico/dataset_arabidopsis3d/arabidopsis_149_gt.ply\u001b[0;m\n"
     ]
    },
    {
     "name": "stderr",
     "output_type": "stream",
     "text": [
      "INFO - 2021-09-20 21:14:54,965 - __init__ - build program: kernel 'carve' was part of a lengthy source build resulting from a binary cache miss (0.22 s)\n"
     ]
    },
    {
     "name": "stdout",
     "output_type": "stream",
     "text": [
      "\u001b[1;33m[Open3D WARNING] Read PLY failed: unable to open file: /home/pico/dataset_arabidopsis3d/arabidopsis_150_gt.ply\u001b[0;m\n"
     ]
    },
    {
     "name": "stderr",
     "output_type": "stream",
     "text": [
      "INFO - 2021-09-20 21:15:05,002 - __init__ - build program: kernel 'carve' was part of a lengthy source build resulting from a binary cache miss (0.22 s)\n"
     ]
    },
    {
     "name": "stdout",
     "output_type": "stream",
     "text": [
      "\u001b[1;33m[Open3D WARNING] Read PLY failed: unable to open file: /home/pico/dataset_arabidopsis3d/arabidopsis_151_gt.ply\u001b[0;m\n"
     ]
    },
    {
     "name": "stderr",
     "output_type": "stream",
     "text": [
      "INFO - 2021-09-20 21:15:14,868 - __init__ - build program: kernel 'carve' was part of a lengthy source build resulting from a binary cache miss (0.22 s)\n"
     ]
    },
    {
     "name": "stdout",
     "output_type": "stream",
     "text": [
      "\u001b[1;33m[Open3D WARNING] Read PLY failed: unable to open file: /home/pico/dataset_arabidopsis3d/arabidopsis_152_gt.ply\u001b[0;m\n"
     ]
    },
    {
     "name": "stderr",
     "output_type": "stream",
     "text": [
      "INFO - 2021-09-20 21:15:24,773 - __init__ - build program: kernel 'carve' was part of a lengthy source build resulting from a binary cache miss (0.22 s)\n"
     ]
    },
    {
     "name": "stdout",
     "output_type": "stream",
     "text": [
      "\u001b[1;33m[Open3D WARNING] Read PLY failed: unable to open file: /home/pico/dataset_arabidopsis3d/arabidopsis_153_gt.ply\u001b[0;m\n"
     ]
    },
    {
     "name": "stderr",
     "output_type": "stream",
     "text": [
      "INFO - 2021-09-20 21:15:34,605 - __init__ - build program: kernel 'carve' was part of a lengthy source build resulting from a binary cache miss (0.22 s)\n"
     ]
    },
    {
     "name": "stdout",
     "output_type": "stream",
     "text": [
      "\u001b[1;33m[Open3D WARNING] Read PLY failed: unable to open file: /home/pico/dataset_arabidopsis3d/arabidopsis_154_gt.ply\u001b[0;m\n"
     ]
    },
    {
     "name": "stderr",
     "output_type": "stream",
     "text": [
      "INFO - 2021-09-20 21:15:44,431 - __init__ - build program: kernel 'carve' was part of a lengthy source build resulting from a binary cache miss (0.22 s)\n"
     ]
    },
    {
     "name": "stdout",
     "output_type": "stream",
     "text": [
      "\u001b[1;33m[Open3D WARNING] Read PLY failed: unable to open file: /home/pico/dataset_arabidopsis3d/arabidopsis_155_gt.ply\u001b[0;m\n"
     ]
    },
    {
     "name": "stderr",
     "output_type": "stream",
     "text": [
      "INFO - 2021-09-20 21:15:54,347 - __init__ - build program: kernel 'carve' was part of a lengthy source build resulting from a binary cache miss (0.22 s)\n"
     ]
    },
    {
     "name": "stdout",
     "output_type": "stream",
     "text": [
      "\u001b[1;33m[Open3D WARNING] Read PLY failed: unable to open file: /home/pico/dataset_arabidopsis3d/arabidopsis_156_gt.ply\u001b[0;m\n"
     ]
    },
    {
     "name": "stderr",
     "output_type": "stream",
     "text": [
      "INFO - 2021-09-20 21:16:04,188 - __init__ - build program: kernel 'carve' was part of a lengthy source build resulting from a binary cache miss (0.22 s)\n"
     ]
    },
    {
     "name": "stdout",
     "output_type": "stream",
     "text": [
      "\u001b[1;33m[Open3D WARNING] Read PLY failed: unable to open file: /home/pico/dataset_arabidopsis3d/arabidopsis_157_gt.ply\u001b[0;m\n"
     ]
    },
    {
     "name": "stderr",
     "output_type": "stream",
     "text": [
      "INFO - 2021-09-20 21:16:14,070 - __init__ - build program: kernel 'carve' was part of a lengthy source build resulting from a binary cache miss (0.22 s)\n"
     ]
    },
    {
     "name": "stdout",
     "output_type": "stream",
     "text": [
      "\u001b[1;33m[Open3D WARNING] Read PLY failed: unable to open file: /home/pico/dataset_arabidopsis3d/arabidopsis_158_gt.ply\u001b[0;m\n"
     ]
    },
    {
     "name": "stderr",
     "output_type": "stream",
     "text": [
      "INFO - 2021-09-20 21:16:23,884 - __init__ - build program: kernel 'carve' was part of a lengthy source build resulting from a binary cache miss (0.22 s)\n"
     ]
    },
    {
     "name": "stdout",
     "output_type": "stream",
     "text": [
      "\u001b[1;33m[Open3D WARNING] Read PLY failed: unable to open file: /home/pico/dataset_arabidopsis3d/arabidopsis_159_gt.ply\u001b[0;m\n"
     ]
    },
    {
     "name": "stderr",
     "output_type": "stream",
     "text": [
      "INFO - 2021-09-20 21:16:33,719 - __init__ - build program: kernel 'carve' was part of a lengthy source build resulting from a binary cache miss (0.22 s)\n"
     ]
    },
    {
     "name": "stdout",
     "output_type": "stream",
     "text": [
      "\u001b[1;33m[Open3D WARNING] Read PLY failed: unable to open file: /home/pico/dataset_arabidopsis3d/arabidopsis_160_gt.ply\u001b[0;m\n"
     ]
    },
    {
     "name": "stderr",
     "output_type": "stream",
     "text": [
      "INFO - 2021-09-20 21:16:43,579 - __init__ - build program: kernel 'carve' was part of a lengthy source build resulting from a binary cache miss (0.22 s)\n"
     ]
    },
    {
     "name": "stdout",
     "output_type": "stream",
     "text": [
      "\u001b[1;33m[Open3D WARNING] Read PLY failed: unable to open file: /home/pico/dataset_arabidopsis3d/arabidopsis_161_gt.ply\u001b[0;m\n"
     ]
    },
    {
     "name": "stderr",
     "output_type": "stream",
     "text": [
      "INFO - 2021-09-20 21:16:53,471 - __init__ - build program: kernel 'carve' was part of a lengthy source build resulting from a binary cache miss (0.22 s)\n"
     ]
    },
    {
     "name": "stdout",
     "output_type": "stream",
     "text": [
      "\u001b[1;33m[Open3D WARNING] Read PLY failed: unable to open file: /home/pico/dataset_arabidopsis3d/arabidopsis_162_gt.ply\u001b[0;m\n"
     ]
    },
    {
     "name": "stderr",
     "output_type": "stream",
     "text": [
      "INFO - 2021-09-20 21:17:03,236 - __init__ - build program: kernel 'carve' was part of a lengthy source build resulting from a binary cache miss (0.22 s)\n"
     ]
    },
    {
     "name": "stdout",
     "output_type": "stream",
     "text": [
      "\u001b[1;33m[Open3D WARNING] Read PLY failed: unable to open file: /home/pico/dataset_arabidopsis3d/arabidopsis_163_gt.ply\u001b[0;m\n"
     ]
    },
    {
     "name": "stderr",
     "output_type": "stream",
     "text": [
      "INFO - 2021-09-20 21:17:12,992 - __init__ - build program: kernel 'carve' was part of a lengthy source build resulting from a binary cache miss (0.22 s)\n"
     ]
    },
    {
     "name": "stdout",
     "output_type": "stream",
     "text": [
      "\u001b[1;33m[Open3D WARNING] Read PLY failed: unable to open file: /home/pico/dataset_arabidopsis3d/arabidopsis_164_gt.ply\u001b[0;m\n"
     ]
    },
    {
     "name": "stderr",
     "output_type": "stream",
     "text": [
      "INFO - 2021-09-20 21:17:22,893 - __init__ - build program: kernel 'carve' was part of a lengthy source build resulting from a binary cache miss (0.22 s)\n"
     ]
    },
    {
     "name": "stdout",
     "output_type": "stream",
     "text": [
      "\u001b[1;33m[Open3D WARNING] Read PLY failed: unable to open file: /home/pico/dataset_arabidopsis3d/arabidopsis_165_gt.ply\u001b[0;m\n"
     ]
    },
    {
     "name": "stderr",
     "output_type": "stream",
     "text": [
      "INFO - 2021-09-20 21:17:32,801 - __init__ - build program: kernel 'carve' was part of a lengthy source build resulting from a binary cache miss (0.22 s)\n"
     ]
    },
    {
     "name": "stdout",
     "output_type": "stream",
     "text": [
      "\u001b[1;33m[Open3D WARNING] Read PLY failed: unable to open file: /home/pico/dataset_arabidopsis3d/arabidopsis_166_gt.ply\u001b[0;m\n"
     ]
    },
    {
     "name": "stderr",
     "output_type": "stream",
     "text": [
      "INFO - 2021-09-20 21:17:42,701 - __init__ - build program: kernel 'carve' was part of a lengthy source build resulting from a binary cache miss (0.22 s)\n"
     ]
    },
    {
     "name": "stdout",
     "output_type": "stream",
     "text": [
      "\u001b[1;33m[Open3D WARNING] Read PLY failed: unable to open file: /home/pico/dataset_arabidopsis3d/arabidopsis_167_gt.ply\u001b[0;m\n"
     ]
    },
    {
     "name": "stderr",
     "output_type": "stream",
     "text": [
      "INFO - 2021-09-20 21:17:52,668 - __init__ - build program: kernel 'carve' was part of a lengthy source build resulting from a binary cache miss (0.22 s)\n"
     ]
    },
    {
     "name": "stdout",
     "output_type": "stream",
     "text": [
      "\u001b[1;33m[Open3D WARNING] Read PLY failed: unable to open file: /home/pico/dataset_arabidopsis3d/arabidopsis_168_gt.ply\u001b[0;m\n"
     ]
    },
    {
     "name": "stderr",
     "output_type": "stream",
     "text": [
      "INFO - 2021-09-20 21:18:02,692 - __init__ - build program: kernel 'carve' was part of a lengthy source build resulting from a binary cache miss (0.22 s)\n"
     ]
    },
    {
     "name": "stdout",
     "output_type": "stream",
     "text": [
      "\u001b[1;33m[Open3D WARNING] Read PLY failed: unable to open file: /home/pico/dataset_arabidopsis3d/arabidopsis_169_gt.ply\u001b[0;m\n"
     ]
    },
    {
     "name": "stderr",
     "output_type": "stream",
     "text": [
      "INFO - 2021-09-20 21:18:13,089 - __init__ - build program: kernel 'carve' was part of a lengthy source build resulting from a binary cache miss (0.22 s)\n"
     ]
    },
    {
     "name": "stdout",
     "output_type": "stream",
     "text": [
      "\u001b[1;33m[Open3D WARNING] Read PLY failed: unable to open file: /home/pico/dataset_arabidopsis3d/arabidopsis_170_gt.ply\u001b[0;m\n"
     ]
    },
    {
     "name": "stderr",
     "output_type": "stream",
     "text": [
      "INFO - 2021-09-20 21:18:23,528 - __init__ - build program: kernel 'carve' was part of a lengthy source build resulting from a binary cache miss (0.22 s)\n"
     ]
    },
    {
     "name": "stdout",
     "output_type": "stream",
     "text": [
      "\u001b[1;33m[Open3D WARNING] Read PLY failed: unable to open file: /home/pico/dataset_arabidopsis3d/arabidopsis_171_gt.ply\u001b[0;m\n"
     ]
    },
    {
     "name": "stderr",
     "output_type": "stream",
     "text": [
      "INFO - 2021-09-20 21:18:33,383 - __init__ - build program: kernel 'carve' was part of a lengthy source build resulting from a binary cache miss (0.22 s)\n"
     ]
    },
    {
     "name": "stdout",
     "output_type": "stream",
     "text": [
      "\u001b[1;33m[Open3D WARNING] Read PLY failed: unable to open file: /home/pico/dataset_arabidopsis3d/arabidopsis_172_gt.ply\u001b[0;m\n"
     ]
    },
    {
     "name": "stderr",
     "output_type": "stream",
     "text": [
      "INFO - 2021-09-20 21:18:43,297 - __init__ - build program: kernel 'carve' was part of a lengthy source build resulting from a binary cache miss (0.22 s)\n"
     ]
    },
    {
     "name": "stdout",
     "output_type": "stream",
     "text": [
      "\u001b[1;33m[Open3D WARNING] Read PLY failed: unable to open file: /home/pico/dataset_arabidopsis3d/arabidopsis_173_gt.ply\u001b[0;m\n"
     ]
    },
    {
     "name": "stderr",
     "output_type": "stream",
     "text": [
      "INFO - 2021-09-20 21:18:53,186 - __init__ - build program: kernel 'carve' was part of a lengthy source build resulting from a binary cache miss (0.22 s)\n"
     ]
    },
    {
     "name": "stdout",
     "output_type": "stream",
     "text": [
      "\u001b[1;33m[Open3D WARNING] Read PLY failed: unable to open file: /home/pico/dataset_arabidopsis3d/arabidopsis_174_gt.ply\u001b[0;m\n"
     ]
    },
    {
     "name": "stderr",
     "output_type": "stream",
     "text": [
      "INFO - 2021-09-20 21:19:03,038 - __init__ - build program: kernel 'carve' was part of a lengthy source build resulting from a binary cache miss (0.22 s)\n"
     ]
    },
    {
     "name": "stdout",
     "output_type": "stream",
     "text": [
      "\u001b[1;33m[Open3D WARNING] Read PLY failed: unable to open file: /home/pico/dataset_arabidopsis3d/arabidopsis_175_gt.ply\u001b[0;m\n"
     ]
    },
    {
     "name": "stderr",
     "output_type": "stream",
     "text": [
      "INFO - 2021-09-20 21:19:12,914 - __init__ - build program: kernel 'carve' was part of a lengthy source build resulting from a binary cache miss (0.22 s)\n"
     ]
    },
    {
     "name": "stdout",
     "output_type": "stream",
     "text": [
      "\u001b[1;33m[Open3D WARNING] Read PLY failed: unable to open file: /home/pico/dataset_arabidopsis3d/arabidopsis_176_gt.ply\u001b[0;m\n"
     ]
    },
    {
     "name": "stderr",
     "output_type": "stream",
     "text": [
      "INFO - 2021-09-20 21:19:23,001 - __init__ - build program: kernel 'carve' was part of a lengthy source build resulting from a binary cache miss (0.22 s)\n"
     ]
    },
    {
     "name": "stdout",
     "output_type": "stream",
     "text": [
      "\u001b[1;33m[Open3D WARNING] Read PLY failed: unable to open file: /home/pico/dataset_arabidopsis3d/arabidopsis_177_gt.ply\u001b[0;m\n"
     ]
    },
    {
     "name": "stderr",
     "output_type": "stream",
     "text": [
      "INFO - 2021-09-20 21:19:32,986 - __init__ - build program: kernel 'carve' was part of a lengthy source build resulting from a binary cache miss (0.22 s)\n"
     ]
    },
    {
     "name": "stdout",
     "output_type": "stream",
     "text": [
      "\u001b[1;33m[Open3D WARNING] Read PLY failed: unable to open file: /home/pico/dataset_arabidopsis3d/arabidopsis_178_gt.ply\u001b[0;m\n"
     ]
    },
    {
     "name": "stderr",
     "output_type": "stream",
     "text": [
      "INFO - 2021-09-20 21:19:42,974 - __init__ - build program: kernel 'carve' was part of a lengthy source build resulting from a binary cache miss (0.22 s)\n"
     ]
    },
    {
     "name": "stdout",
     "output_type": "stream",
     "text": [
      "\u001b[1;33m[Open3D WARNING] Read PLY failed: unable to open file: /home/pico/dataset_arabidopsis3d/arabidopsis_179_gt.ply\u001b[0;m\n"
     ]
    }
   ],
   "source": [
    "data_path = '/home/pico/uni/romi/scanner_cube/arabidopsis_im_bigger/'\n",
    "gdeltas = []\n",
    "for plantn in range(180):\n",
    "    spc = space_carving_2(os.path.join(data_path,str(plantn).zfill(3)))\n",
    "    for i in range(10):\n",
    "        deltas = []\n",
    "        pos = np.random.randint(180, size=10)\n",
    "        n_ant = 0\n",
    "        for p in pos:\n",
    "            spc.carve(p)\n",
    "            espaces = np.histogram(spc.sc.values(), bins=3)[0][0]\n",
    "            delta = espaces-n_ant\n",
    "            deltas.append(delta)\n",
    "            n_ant = espaces\n",
    "        gdeltas.append(deltas)"
   ]
  },
  {
   "cell_type": "code",
   "execution_count": 70,
   "id": "strategic-analysis",
   "metadata": {},
   "outputs": [
    {
     "data": {
      "text/plain": [
       "668700"
      ]
     },
     "execution_count": 70,
     "metadata": {},
     "output_type": "execute_result"
    }
   ],
   "source": [
    "np.histogram(spc.sc.values(), bins=3)[0][0]"
   ]
  },
  {
   "cell_type": "code",
   "execution_count": 42,
   "id": "novel-frame",
   "metadata": {},
   "outputs": [],
   "source": [
    "dt = np.array(gdeltas)"
   ]
  },
  {
   "cell_type": "code",
   "execution_count": 43,
   "id": "judicial-bidder",
   "metadata": {},
   "outputs": [
    {
     "data": {
      "text/plain": [
       "(1800, 10)"
      ]
     },
     "execution_count": 43,
     "metadata": {},
     "output_type": "execute_result"
    }
   ],
   "source": [
    "dt.shape"
   ]
  },
  {
   "cell_type": "code",
   "execution_count": null,
   "id": "express-astronomy",
   "metadata": {},
   "outputs": [],
   "source": [
    "d"
   ]
  },
  {
   "cell_type": "code",
   "execution_count": 44,
   "id": "clear-spanking",
   "metadata": {},
   "outputs": [
    {
     "data": {
      "text/plain": [
       "array([6.43290162e+05, 1.21927844e+04, 6.14337056e+03, 3.09219778e+03,\n",
       "       1.49961389e+03, 8.63421111e+02, 4.80713333e+02, 2.96538889e+02,\n",
       "       2.59505000e+02, 1.81798889e+02])"
      ]
     },
     "execution_count": 44,
     "metadata": {},
     "output_type": "execute_result"
    }
   ],
   "source": [
    "np.mean(dt,axis=0)"
   ]
  },
  {
   "cell_type": "code",
   "execution_count": 45,
   "id": "popular-motel",
   "metadata": {},
   "outputs": [
    {
     "data": {
      "text/plain": [
       "array([273639,      0,      0,      0,      0,      0,      0,      0,\n",
       "            0,      0])"
      ]
     },
     "execution_count": 45,
     "metadata": {},
     "output_type": "execute_result"
    }
   ],
   "source": [
    "np.min(dt,axis=0)"
   ]
  },
  {
   "cell_type": "code",
   "execution_count": 46,
   "id": "rational-motorcycle",
   "metadata": {},
   "outputs": [
    {
     "data": {
      "text/plain": [
       "array([670506, 285669, 257374, 262049, 126021,  92612,  80575,  34797,\n",
       "        69688,  66288])"
      ]
     },
     "execution_count": 46,
     "metadata": {},
     "output_type": "execute_result"
    }
   ],
   "source": [
    "np.max(dt,axis=0)"
   ]
  },
  {
   "cell_type": "code",
   "execution_count": 47,
   "id": "fatty-window",
   "metadata": {},
   "outputs": [
    {
     "data": {
      "text/plain": [
       "array([80197.22686439, 42857.78320588, 26500.97885655, 15687.89702874,\n",
       "        8040.58085674,  5282.99535201,  3449.51932385,  1714.96226251,\n",
       "        2139.27237344,  1776.36642666])"
      ]
     },
     "execution_count": 47,
     "metadata": {},
     "output_type": "execute_result"
    }
   ],
   "source": [
    "np.std(dt,axis=0)"
   ]
  },
  {
   "cell_type": "code",
   "execution_count": 62,
   "id": "active-mining",
   "metadata": {},
   "outputs": [],
   "source": [
    "def calculate_position(init_state,steps):\n",
    "        n_positions = 180\n",
    "        n_pos = init_state + steps\n",
    "        if n_pos>(n_positions-1):\n",
    "            n_pos -= n_positions\n",
    "        elif n_pos<0:\n",
    "            n_pos += n_positions\n",
    "        return n_pos"
   ]
  },
  {
   "cell_type": "code",
   "execution_count": 101,
   "id": "integral-richmond",
   "metadata": {},
   "outputs": [
    {
     "name": "stdout",
     "output_type": "stream",
     "text": [
      "179\n"
     ]
    }
   ],
   "source": [
    "rel_pos = 0\n",
    "p_bias = 179\n",
    "abs_pos = calculate_position(rel_pos,p_bias)\n",
    "print(abs_pos)"
   ]
  },
  {
   "cell_type": "code",
   "execution_count": null,
   "id": "designed-command",
   "metadata": {},
   "outputs": [],
   "source": []
  }
 ],
 "metadata": {
  "kernelspec": {
   "display_name": "rl",
   "language": "python",
   "name": "rl"
  },
  "language_info": {
   "codemirror_mode": {
    "name": "ipython",
    "version": 3
   },
   "file_extension": ".py",
   "mimetype": "text/x-python",
   "name": "python",
   "nbconvert_exporter": "python",
   "pygments_lexer": "ipython3",
   "version": "3.8.8"
  }
 },
 "nbformat": 4,
 "nbformat_minor": 5
}
