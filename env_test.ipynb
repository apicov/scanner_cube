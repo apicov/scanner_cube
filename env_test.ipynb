{
 "cells": [
  {
   "cell_type": "code",
   "execution_count": 1,
   "id": "fixed-bones",
   "metadata": {},
   "outputs": [],
   "source": [
    "import numpy as np\n",
    "# for creating a responsive plot\n",
    "%matplotlib widget\n",
    "  \n",
    "# importing required libraries\n",
    "from mpl_toolkits.mplot3d import Axes3D\n",
    "import matplotlib.pyplot as plt\n",
    "\n",
    "import gym\n",
    "from scan_gym import envs"
   ]
  },
  {
   "cell_type": "code",
   "execution_count": 2,
   "id": "federal-drove",
   "metadata": {},
   "outputs": [
    {
     "name": "stderr",
     "output_type": "stream",
     "text": [
      "/home/pico/anaconda3/envs/rl/lib/python3.8/site-packages/gym/logger.py:30: UserWarning: \u001b[33mWARN: Box bound precision lowered by casting to float32\u001b[0m\n",
      "  warnings.warn(colorize('%s: %s'%('WARN', msg % args), 'yellow'))\n"
     ]
    }
   ],
   "source": [
    "env = gym.make('ScannerEnv-v1',dataset_path = '/home/pico/uni/romi/scanner_cube/arabidopsis_im_bigger/006')"
   ]
  },
  {
   "cell_type": "code",
   "execution_count": 27,
   "id": "smaller-local",
   "metadata": {},
   "outputs": [
    {
     "data": {
      "text/plain": [
       "463061"
      ]
     },
     "execution_count": 27,
     "metadata": {},
     "output_type": "execute_result"
    }
   ],
   "source": [
    "env.last_vspaces_count"
   ]
  },
  {
   "cell_type": "code",
   "execution_count": 3,
   "id": "divided-military",
   "metadata": {},
   "outputs": [],
   "source": [
    "state = env.reset()"
   ]
  },
  {
   "cell_type": "code",
   "execution_count": 162,
   "id": "fancy-consequence",
   "metadata": {},
   "outputs": [],
   "source": [
    "state,reward,done,_ = env.step(5)"
   ]
  },
  {
   "cell_type": "code",
   "execution_count": 163,
   "id": "serious-newman",
   "metadata": {},
   "outputs": [
    {
     "name": "stdout",
     "output_type": "stream",
     "text": [
      "45 126 2704.4700000000003 9\n",
      "[0, 45, 90, 135, 0, 45, 90, 135, 0, 45]\n",
      "[81, 126, 171, 36, 81, 126, 171, 36, 81, 126]\n"
     ]
    }
   ],
   "source": [
    "print(env.current_position,env.absolute_position,env.total_reward,env.num_steps)\n",
    "print(env.kept_rel_images)\n",
    "print(env.kept_abs_images)"
   ]
  },
  {
   "cell_type": "code",
   "execution_count": 164,
   "id": "nonprofit-protest",
   "metadata": {},
   "outputs": [
    {
     "data": {
      "application/vnd.jupyter.widget-view+json": {
       "model_id": "39aec84c052545f9af3fd642b0106900",
       "version_major": 2,
       "version_minor": 0
      },
      "text/plain": [
       "Canvas(toolbar=Toolbar(toolitems=[('Home', 'Reset original view', 'home', 'home'), ('Back', 'Back to previous …"
      ]
     },
     "metadata": {},
     "output_type": "display_data"
    }
   ],
   "source": [
    "x,y,z = np.where(state[0][:64,:64,:128]==1)\n",
    "  \n",
    "# creating figure\n",
    "fig = plt.figure()\n",
    "ax = Axes3D(fig)\n",
    "\n",
    "#ax.set_xlim3d(0, 70)\n",
    "#ax.set_ylim3d(0, 70)\n",
    "#ax.set_zlim3d(0, 152)\n",
    "  \n",
    "# creating the plot\n",
    "plot_geeks = ax.scatter(x, y, z, color='green',s=1)\n",
    "\n",
    "#x,y,z = np.where(spc.sc.values()==0)\n",
    "#plot_geeks = ax.scatter(x, y, z, color='red',s=1)\n",
    "  \n",
    "# setting title and labels\n",
    "ax.set_title(\"3D plot\")\n",
    "ax.set_xlabel('x-axis')\n",
    "ax.set_ylabel('y-axis')\n",
    "ax.set_zlabel('z-axis')\n",
    "ax.grid()\n",
    "  \n",
    "# displaying the plot\n",
    "plt.show()"
   ]
  },
  {
   "cell_type": "code",
   "execution_count": 165,
   "id": "collectible-allowance",
   "metadata": {},
   "outputs": [
    {
     "data": {
      "text/plain": [
       "True"
      ]
     },
     "execution_count": 165,
     "metadata": {},
     "output_type": "execute_result"
    }
   ],
   "source": [
    "done"
   ]
  },
  {
   "cell_type": "code",
   "execution_count": 4,
   "id": "imposed-field",
   "metadata": {},
   "outputs": [
    {
     "data": {
      "text/plain": [
       "array([[[ 0., -1., -1., ...,  0.,  0.,  0.],\n",
       "        [ 0.,  0., -1., ...,  0.,  0.,  0.],\n",
       "        [ 0.,  0., -1., ...,  0.,  0.,  0.],\n",
       "        ...,\n",
       "        [ 0.,  0.,  0., ...,  0.,  0.,  0.],\n",
       "        [ 0.,  0.,  0., ...,  0.,  0.,  0.],\n",
       "        [ 0.,  0.,  0., ...,  0.,  0.,  0.]],\n",
       "\n",
       "       [[-1., -1., -1., ...,  0.,  0.,  0.],\n",
       "        [-1., -1., -1., ...,  0.,  0.,  0.],\n",
       "        [ 0., -1., -1., ...,  0.,  0.,  0.],\n",
       "        ...,\n",
       "        [ 0.,  0.,  0., ...,  0.,  0.,  0.],\n",
       "        [ 0.,  0.,  0., ...,  0.,  0.,  0.],\n",
       "        [ 0.,  0.,  0., ...,  0.,  0.,  0.]],\n",
       "\n",
       "       [[-1., -1., -1., ...,  0.,  0.,  0.],\n",
       "        [-1., -1., -1., ...,  0.,  0.,  0.],\n",
       "        [-1., -1., -1., ...,  0.,  0.,  0.],\n",
       "        ...,\n",
       "        [ 0.,  0.,  0., ...,  0.,  0.,  0.],\n",
       "        [ 0.,  0.,  0., ...,  0.,  0.,  0.],\n",
       "        [ 0.,  0.,  0., ...,  0.,  0.,  0.]],\n",
       "\n",
       "       ...,\n",
       "\n",
       "       [[ 1.,  1.,  1., ..., -1., -1., -1.],\n",
       "        [ 1.,  1.,  1., ..., -1., -1., -1.],\n",
       "        [ 1.,  1.,  1., ..., -1., -1., -1.],\n",
       "        ...,\n",
       "        [ 0.,  0.,  0., ...,  0.,  0.,  0.],\n",
       "        [ 0.,  0.,  0., ...,  0.,  0.,  0.],\n",
       "        [ 0.,  0.,  0., ...,  0.,  0.,  0.]],\n",
       "\n",
       "       [[ 1.,  1.,  1., ..., -1., -1., -1.],\n",
       "        [ 1.,  1.,  1., ..., -1., -1., -1.],\n",
       "        [ 1.,  1.,  1., ..., -1., -1., -1.],\n",
       "        ...,\n",
       "        [ 0.,  0.,  0., ...,  0.,  0.,  0.],\n",
       "        [ 0.,  0.,  0., ...,  0.,  0.,  0.],\n",
       "        [ 0.,  0.,  0., ...,  0.,  0.,  0.]],\n",
       "\n",
       "       [[ 1.,  1.,  1., ..., -1., -1., -1.],\n",
       "        [ 1.,  1.,  1., ..., -1., -1., -1.],\n",
       "        [ 1.,  1.,  1., ..., -1., -1., -1.],\n",
       "        ...,\n",
       "        [ 0.,  0.,  0., ...,  0.,  0.,  0.],\n",
       "        [ 0.,  0.,  0., ...,  0.,  0.,  0.],\n",
       "        [ 0.,  0.,  0., ...,  0.,  0.,  0.]]], dtype=float16)"
      ]
     },
     "execution_count": 4,
     "metadata": {},
     "output_type": "execute_result"
    }
   ],
   "source": [
    "state[0]"
   ]
  },
  {
   "cell_type": "code",
   "execution_count": null,
   "id": "fatal-honolulu",
   "metadata": {},
   "outputs": [],
   "source": []
  }
 ],
 "metadata": {
  "kernelspec": {
   "display_name": "rl",
   "language": "python",
   "name": "rl"
  },
  "language_info": {
   "codemirror_mode": {
    "name": "ipython",
    "version": 3
   },
   "file_extension": ".py",
   "mimetype": "text/x-python",
   "name": "python",
   "nbconvert_exporter": "python",
   "pygments_lexer": "ipython3",
   "version": "3.8.8"
  }
 },
 "nbformat": 4,
 "nbformat_minor": 5
}
